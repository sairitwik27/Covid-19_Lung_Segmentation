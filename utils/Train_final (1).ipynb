{
  "nbformat": 4,
  "nbformat_minor": 0,
  "metadata": {
    "accelerator": "GPU",
    "colab": {
      "name": "Train_final.ipynb",
      "provenance": []
    },
    "kernelspec": {
      "display_name": "Python 3",
      "name": "python3"
    },
    "language_info": {
      "name": "python"
    }
  },
  "cells": [
    {
      "cell_type": "code",
      "metadata": {
        "id": "7uUntfQQCfkx"
      },
      "source": [
        "import numpy as np\n",
        "import torch\n",
        "\n",
        "\n",
        "class Trainer:\n",
        "    def __init__(self,\n",
        "                 model: torch.nn.Module,\n",
        "                 device: torch.device,\n",
        "                 criterion: torch.nn.Module,\n",
        "                 optimizer: torch.optim.Optimizer,\n",
        "                 training_DataLoader: torch.utils.data.Dataset,\n",
        "                 validation_DataLoader: torch.utils.data.Dataset = None,\n",
        "                 lr_scheduler: torch.optim.lr_scheduler = None,\n",
        "                 epochs: int = 100,\n",
        "                 epoch: int = 0,\n",
        "                 ):\n",
        "\n",
        "        self.model = model\n",
        "        self.criterion = criterion\n",
        "        self.optimizer = optimizer\n",
        "        self.lr_scheduler = lr_scheduler\n",
        "        self.training_DataLoader = training_DataLoader\n",
        "        self.validation_DataLoader = validation_DataLoader\n",
        "        self.device = device\n",
        "        self.epochs = epochs\n",
        "        self.epoch = epoch\n",
        "        self.training_loss = []\n",
        "        self.validation_loss = []\n",
        "        self.learning_rate = []\n",
        "\n",
        "    def run_trainer(self):\n",
        "        from tqdm import tqdm, trange\n",
        "\n",
        "        progressbar = trange(self.epochs, desc='Progress')\n",
        "        for i in progressbar:\n",
        "            \"\"\"Epoch counter\"\"\"\n",
        "            self.epoch += 1  # epoch counter\n",
        "\n",
        "            \"\"\"Training block\"\"\"\n",
        "            self._train()\n",
        "\n",
        "            \"\"\"Validation block\"\"\"\n",
        "            if self.validation_DataLoader is not None:\n",
        "                self._validate()\n",
        "\n",
        "            \"\"\"Learning rate scheduler block\"\"\"\n",
        "            if self.lr_scheduler is not None:\n",
        "                if self.validation_DataLoader is not None and self.lr_scheduler.__class__.__name__ == 'ReduceLROnPlateau':\n",
        "                    self.lr_scheduler.batch(self.validation_loss[i])  # learning rate scheduler step with validation loss\n",
        "                else:\n",
        "                    self.lr_scheduler.batch()  # learning rate scheduler step\n",
        "        return self.training_loss, self.validation_loss, self.learning_rate\n",
        "\n",
        "    def _train(self):\n",
        "        from tqdm import tqdm, trange\n",
        "\n",
        "        self.model.train()  # train mode\n",
        "        train_losses = []  # accumulate the losses here\n",
        "        batch_iter = tqdm(enumerate(self.training_DataLoader), 'Training', total=len(self.training_DataLoader),\n",
        "                          leave=False)\n",
        "\n",
        "        for i, (x, y) in batch_iter:\n",
        "            input, target = x.to(self.device), y.to(self.device)  # send to device (GPU or CPU)\n",
        "            self.optimizer.zero_grad()  # zerograd the parameters\n",
        "            out = self.model(input)  # one forward pass\n",
        "            loss = self.criterion(out, target)  # calculate loss\n",
        "            loss_value = loss.item()\n",
        "            train_losses.append(loss_value)\n",
        "            loss.backward()  # one backward pass\n",
        "            self.optimizer.step()  # update the parameters\n",
        "\n",
        "            batch_iter.set_description(f'Training: (loss {loss_value:.4f})')  # update progressbar\n",
        "\n",
        "        self.training_loss.append(np.mean(train_losses))\n",
        "        self.learning_rate.append(self.optimizer.param_groups[0]['lr'])\n",
        "\n",
        "        batch_iter.close()\n",
        "        \n",
        "\n",
        "    def _validate(self):\n",
        "        from tqdm import tqdm, trange\n",
        "\n",
        "        self.model.eval()  # evaluation mode\n",
        "        valid_losses = []  # accumulate the losses here\n",
        "        batch_iter = tqdm(enumerate(self.validation_DataLoader), 'Validation', total=len(self.validation_DataLoader),\n",
        "                          leave=False)\n",
        "\n",
        "        for i, (x, y) in batch_iter:\n",
        "            input, target = x.to(self.device), y.to(self.device)  # send to device (GPU or CPU)\n",
        "\n",
        "            with torch.no_grad():\n",
        "                out = self.model(input)\n",
        "                loss = self.criterion(out, target)\n",
        "                loss_value = loss.item()\n",
        "                valid_losses.append(loss_value)\n",
        "\n",
        "                batch_iter.set_description(f'Validation: (loss {loss_value:.4f})')\n",
        "\n",
        "        self.validation_loss.append(np.mean(valid_losses))\n",
        "\n",
        "        batch_iter.close()"
      ],
      "execution_count": 6,
      "outputs": []
    },
    {
      "cell_type": "code",
      "metadata": {
        "colab": {
          "base_uri": "https://localhost:8080/",
          "height": 1000
        },
        "id": "A1y8f3jzJ8-L",
        "outputId": "3a432c10-9ee5-4cfb-b4d6-e111f1d48c20"
      },
      "source": [
        "#Parameters\n",
        "LR = 1e-4\n",
        "batch_size = 4\n",
        "num_epochs = 30\n",
        "num_workers = 1\n",
        "image_height = 256\n",
        "image_width = 256\n",
        "trainsize = 256\n",
        "pin_memory = True\n",
        "load_model = False\n",
        "\n",
        "\n",
        "\n",
        "# device\n",
        "device = \"cuda\" if torch.cuda.is_available() else \"cpu\"\n",
        "# model\n",
        "model = Res_UNet(n_channels = 3,n_classes = 1,bilinear = True).to(DEVICE)\n",
        "# criterion\n",
        "criterion = DiceBCELoss()\n",
        "# optimizer\n",
        "optimizer = optim.Adam(model.parameters(),lr = LR)\n",
        "\n",
        "#DataPaths\n",
        "base = \"/content/drive/MyDrive/dataset/\"\n",
        "train_img_dir = base+\"Train/Imgs/\"\n",
        "train_gt_dir = base+\"Train/GT/\"\n",
        "val_img_dir = base+\"Test/Imgs/\"\n",
        "val_gt_dir = base+\"Test/GT/\"\n",
        "\n",
        "#Dataloaders\n",
        "train_loader,val_loader = load_data(\n",
        "    train_img_dir,\n",
        "    train_gt_dir,\n",
        "    val_img_dir,\n",
        "    val_gt_dir,\n",
        "    batch_size,\n",
        "    trainsize,\n",
        "    num_workers,\n",
        "    pin_memory\n",
        ")\n",
        "\n",
        "# trainer\n",
        "trainer = Trainer(model=model,\n",
        "                  device=device,\n",
        "                  criterion=criterion,\n",
        "                  optimizer=optimizer,\n",
        "                  training_DataLoader=train_loader,\n",
        "                  validation_DataLoader=val_loader,\n",
        "                  lr_scheduler=None,\n",
        "                  epochs=num_epochs,\n",
        "                  epoch=0,)\n",
        "# start training\n",
        "training_losses, validation_losses, lr_rates = trainer.run_trainer()\n",
        "\n",
        "plot_training(training_losses,\n",
        "                  validation_losses,\n",
        "                  lr_rates,\n",
        "                  gaussian=True,\n",
        "                  sigma=1,\n",
        "                  figsize=(8, 6)\n",
        "                  )"
      ],
      "execution_count": 7,
      "outputs": [
        {
          "output_type": "stream",
          "text": [
            "Progress:   0%|          | 0/30 [00:00<?, ?it/s]\n",
            "Training:   0%|          | 0/13 [00:00<?, ?it/s]\u001b[A/usr/local/lib/python3.7/dist-packages/torch/nn/functional.py:1709: UserWarning: nn.functional.sigmoid is deprecated. Use torch.sigmoid instead.\n",
            "  warnings.warn(\"nn.functional.sigmoid is deprecated. Use torch.sigmoid instead.\")\n",
            "\n",
            "Training: (loss 1.6216):   0%|          | 0/13 [00:00<?, ?it/s]\u001b[A\n",
            "Training: (loss 1.6216):   8%|▊         | 1/13 [00:00<00:10,  1.20it/s]\u001b[A\n",
            "Training: (loss 1.6333):   8%|▊         | 1/13 [00:01<00:10,  1.20it/s]\u001b[A\n",
            "Training: (loss 1.6333):  15%|█▌        | 2/13 [00:01<00:08,  1.25it/s]\u001b[A\n",
            "Training: (loss 1.4713):  15%|█▌        | 2/13 [00:02<00:08,  1.25it/s]\u001b[A\n",
            "Training: (loss 1.4713):  23%|██▎       | 3/13 [00:02<00:07,  1.29it/s]\u001b[A\n",
            "Training: (loss 1.3684):  23%|██▎       | 3/13 [00:02<00:07,  1.29it/s]\u001b[A\n",
            "Training: (loss 1.3684):  31%|███       | 4/13 [00:02<00:06,  1.34it/s]\u001b[A\n",
            "Training: (loss 1.5492):  31%|███       | 4/13 [00:03<00:06,  1.34it/s]\u001b[A\n",
            "Training: (loss 1.5492):  38%|███▊      | 5/13 [00:03<00:05,  1.38it/s]\u001b[A\n",
            "Training: (loss 1.3816):  38%|███▊      | 5/13 [00:04<00:05,  1.38it/s]\u001b[A\n",
            "Training: (loss 1.3816):  46%|████▌     | 6/13 [00:04<00:05,  1.39it/s]\u001b[A\n",
            "Training: (loss 1.6709):  46%|████▌     | 6/13 [00:05<00:05,  1.39it/s]\u001b[A\n",
            "Training: (loss 1.6709):  54%|█████▍    | 7/13 [00:05<00:04,  1.40it/s]\u001b[A\n",
            "Training: (loss 1.5824):  54%|█████▍    | 7/13 [00:05<00:04,  1.40it/s]\u001b[A\n",
            "Training: (loss 1.5824):  62%|██████▏   | 8/13 [00:05<00:03,  1.42it/s]\u001b[A\n",
            "Training: (loss 1.3992):  62%|██████▏   | 8/13 [00:06<00:03,  1.42it/s]\u001b[A\n",
            "Training: (loss 1.3992):  69%|██████▉   | 9/13 [00:06<00:02,  1.43it/s]\u001b[A\n",
            "Training: (loss 1.2368):  69%|██████▉   | 9/13 [00:07<00:02,  1.43it/s]\u001b[A\n",
            "Training: (loss 1.2368):  77%|███████▋  | 10/13 [00:07<00:02,  1.44it/s]\u001b[A\n",
            "Training: (loss 1.1295):  77%|███████▋  | 10/13 [00:07<00:02,  1.44it/s]\u001b[A\n",
            "Training: (loss 1.1295):  85%|████████▍ | 11/13 [00:07<00:01,  1.44it/s]\u001b[A\n",
            "Training: (loss 1.6321):  85%|████████▍ | 11/13 [00:08<00:01,  1.44it/s]\u001b[A\n",
            "Training: (loss 1.6321):  92%|█████████▏| 12/13 [00:08<00:00,  1.45it/s]\u001b[A\n",
            "Training: (loss 1.3530):  92%|█████████▏| 12/13 [00:08<00:00,  1.45it/s]\u001b[A\n",
            "Training: (loss 1.3530): 100%|██████████| 13/13 [00:08<00:00,  1.68it/s]\u001b[A\n",
            "                                                                        \u001b[A\n",
            "Validation:   0%|          | 0/12 [00:00<?, ?it/s]\u001b[A\n",
            "Validation: (loss 1.7515):   0%|          | 0/12 [00:00<?, ?it/s]\u001b[A\n",
            "Validation: (loss 1.7515):   8%|▊         | 1/12 [00:00<00:03,  3.04it/s]\u001b[A\n",
            "Validation: (loss 1.5281):   8%|▊         | 1/12 [00:00<00:03,  3.04it/s]\u001b[A\n",
            "Validation: (loss 1.5281):  17%|█▋        | 2/12 [00:00<00:03,  3.23it/s]\u001b[A\n",
            "Validation: (loss 1.7753):  17%|█▋        | 2/12 [00:00<00:03,  3.23it/s]\u001b[A\n",
            "Validation: (loss 1.7753):  25%|██▌       | 3/12 [00:00<00:02,  3.40it/s]\u001b[A\n",
            "Validation: (loss 1.5794):  25%|██▌       | 3/12 [00:01<00:02,  3.40it/s]\u001b[A\n",
            "Validation: (loss 1.5794):  33%|███▎      | 4/12 [00:01<00:02,  3.42it/s]\u001b[A\n",
            "Validation: (loss 1.5653):  33%|███▎      | 4/12 [00:01<00:02,  3.42it/s]\u001b[A\n",
            "Validation: (loss 1.5653):  42%|████▏     | 5/12 [00:01<00:01,  3.51it/s]\u001b[A\n",
            "Validation: (loss 1.5780):  42%|████▏     | 5/12 [00:01<00:01,  3.51it/s]\u001b[A\n",
            "Validation: (loss 1.5780):  50%|█████     | 6/12 [00:01<00:01,  3.54it/s]\u001b[A\n",
            "Validation: (loss 1.4625):  50%|█████     | 6/12 [00:01<00:01,  3.54it/s]\u001b[A\n",
            "Validation: (loss 1.4625):  58%|█████▊    | 7/12 [00:01<00:01,  3.62it/s]\u001b[A\n",
            "Validation: (loss 1.7475):  58%|█████▊    | 7/12 [00:02<00:01,  3.62it/s]\u001b[A\n",
            "Validation: (loss 1.7475):  67%|██████▋   | 8/12 [00:02<00:01,  3.60it/s]\u001b[A\n",
            "Validation: (loss 1.5585):  67%|██████▋   | 8/12 [00:02<00:01,  3.60it/s]\u001b[A\n",
            "Validation: (loss 1.5585):  75%|███████▌  | 9/12 [00:02<00:00,  3.60it/s]\u001b[A\n",
            "Validation: (loss 1.5907):  75%|███████▌  | 9/12 [00:02<00:00,  3.60it/s]\u001b[A\n",
            "Validation: (loss 1.5907):  83%|████████▎ | 10/12 [00:02<00:00,  3.60it/s]\u001b[A\n",
            "Validation: (loss 1.6881):  83%|████████▎ | 10/12 [00:03<00:00,  3.60it/s]\u001b[A\n",
            "Validation: (loss 1.6881):  92%|█████████▏| 11/12 [00:03<00:00,  3.68it/s]\u001b[A\n",
            "Validation: (loss 1.5213):  92%|█████████▏| 11/12 [00:03<00:00,  3.68it/s]\u001b[A\n",
            "Validation: (loss 1.5213): 100%|██████████| 12/12 [00:03<00:00,  3.67it/s]\u001b[A\n",
            "Progress:   3%|▎         | 1/30 [00:12<05:57, 12.34s/it]\n",
            "Training:   0%|          | 0/13 [00:00<?, ?it/s]\u001b[A\n",
            "Training: (loss 1.2870):   0%|          | 0/13 [00:00<?, ?it/s]\u001b[A\n",
            "Training: (loss 1.2870):   8%|▊         | 1/13 [00:00<00:08,  1.34it/s]\u001b[A\n",
            "Training: (loss 1.4439):   8%|▊         | 1/13 [00:01<00:08,  1.34it/s]\u001b[A\n",
            "Training: (loss 1.4439):  15%|█▌        | 2/13 [00:01<00:08,  1.36it/s]\u001b[A\n",
            "Training: (loss 1.1348):  15%|█▌        | 2/13 [00:02<00:08,  1.36it/s]\u001b[A\n",
            "Training: (loss 1.1348):  23%|██▎       | 3/13 [00:02<00:07,  1.39it/s]\u001b[A\n",
            "Training: (loss 1.2629):  23%|██▎       | 3/13 [00:02<00:07,  1.39it/s]\u001b[A\n",
            "Training: (loss 1.2629):  31%|███       | 4/13 [00:02<00:06,  1.41it/s]\u001b[A\n",
            "Training: (loss 1.2411):  31%|███       | 4/13 [00:03<00:06,  1.41it/s]\u001b[A\n",
            "Training: (loss 1.2411):  38%|███▊      | 5/13 [00:03<00:05,  1.41it/s]\u001b[A\n",
            "Training: (loss 1.4771):  38%|███▊      | 5/13 [00:04<00:05,  1.41it/s]\u001b[A\n",
            "Training: (loss 1.4771):  46%|████▌     | 6/13 [00:04<00:04,  1.41it/s]\u001b[A\n",
            "Training: (loss 1.5497):  46%|████▌     | 6/13 [00:04<00:04,  1.41it/s]\u001b[A\n",
            "Training: (loss 1.5497):  54%|█████▍    | 7/13 [00:04<00:04,  1.43it/s]\u001b[A\n",
            "Training: (loss 1.2251):  54%|█████▍    | 7/13 [00:05<00:04,  1.43it/s]\u001b[A\n",
            "Training: (loss 1.2251):  62%|██████▏   | 8/13 [00:05<00:03,  1.43it/s]\u001b[A\n",
            "Training: (loss 1.1989):  62%|██████▏   | 8/13 [00:06<00:03,  1.43it/s]\u001b[A\n",
            "Training: (loss 1.1989):  69%|██████▉   | 9/13 [00:06<00:02,  1.43it/s]\u001b[A\n",
            "Training: (loss 1.5745):  69%|██████▉   | 9/13 [00:07<00:02,  1.43it/s]\u001b[A\n",
            "Training: (loss 1.5745):  77%|███████▋  | 10/13 [00:07<00:02,  1.44it/s]\u001b[A\n",
            "Training: (loss 1.0585):  77%|███████▋  | 10/13 [00:07<00:02,  1.44it/s]\u001b[A\n",
            "Training: (loss 1.0585):  85%|████████▍ | 11/13 [00:07<00:01,  1.45it/s]\u001b[A\n",
            "Training: (loss 1.2245):  85%|████████▍ | 11/13 [00:08<00:01,  1.45it/s]\u001b[A\n",
            "Training: (loss 1.2245):  92%|█████████▏| 12/13 [00:08<00:00,  1.45it/s]\u001b[A\n",
            "Training: (loss 1.0855):  92%|█████████▏| 12/13 [00:08<00:00,  1.45it/s]\u001b[A\n",
            "Training: (loss 1.0855): 100%|██████████| 13/13 [00:08<00:00,  1.66it/s]\u001b[A\n",
            "                                                                        \u001b[A\n",
            "Validation:   0%|          | 0/12 [00:00<?, ?it/s]\u001b[A\n",
            "Validation: (loss 1.6521):   0%|          | 0/12 [00:00<?, ?it/s]\u001b[A\n",
            "Validation: (loss 1.6521):   8%|▊         | 1/12 [00:00<00:03,  2.98it/s]\u001b[A\n",
            "Validation: (loss 1.2547):   8%|▊         | 1/12 [00:00<00:03,  2.98it/s]\u001b[A\n",
            "Validation: (loss 1.2547):  17%|█▋        | 2/12 [00:00<00:03,  3.12it/s]\u001b[A\n",
            "Validation: (loss 1.5855):  17%|█▋        | 2/12 [00:00<00:03,  3.12it/s]\u001b[A\n",
            "Validation: (loss 1.5855):  25%|██▌       | 3/12 [00:00<00:02,  3.23it/s]\u001b[A\n",
            "Validation: (loss 1.4159):  25%|██▌       | 3/12 [00:01<00:02,  3.23it/s]\u001b[A\n",
            "Validation: (loss 1.4159):  33%|███▎      | 4/12 [00:01<00:02,  3.32it/s]\u001b[A\n",
            "Validation: (loss 1.4091):  33%|███▎      | 4/12 [00:01<00:02,  3.32it/s]\u001b[A\n",
            "Validation: (loss 1.4091):  42%|████▏     | 5/12 [00:01<00:02,  3.37it/s]\u001b[A\n",
            "Validation: (loss 1.4603):  42%|████▏     | 5/12 [00:01<00:02,  3.37it/s]\u001b[A\n",
            "Validation: (loss 1.4603):  50%|█████     | 6/12 [00:01<00:01,  3.45it/s]\u001b[A\n",
            "Validation: (loss 1.2359):  50%|█████     | 6/12 [00:02<00:01,  3.45it/s]\u001b[A\n",
            "Validation: (loss 1.2359):  58%|█████▊    | 7/12 [00:02<00:01,  3.48it/s]\u001b[A\n",
            "Validation: (loss 1.5983):  58%|█████▊    | 7/12 [00:02<00:01,  3.48it/s]\u001b[A\n",
            "Validation: (loss 1.5983):  67%|██████▋   | 8/12 [00:02<00:01,  3.58it/s]\u001b[A\n",
            "Validation: (loss 1.4631):  67%|██████▋   | 8/12 [00:02<00:01,  3.58it/s]\u001b[A\n",
            "Validation: (loss 1.4631):  75%|███████▌  | 9/12 [00:02<00:00,  3.55it/s]\u001b[A\n",
            "Validation: (loss 1.4120):  75%|███████▌  | 9/12 [00:02<00:00,  3.55it/s]\u001b[A\n",
            "Validation: (loss 1.4120):  83%|████████▎ | 10/12 [00:02<00:00,  3.58it/s]\u001b[A\n",
            "Validation: (loss 1.5198):  83%|████████▎ | 10/12 [00:03<00:00,  3.58it/s]\u001b[A\n",
            "Validation: (loss 1.5198):  92%|█████████▏| 11/12 [00:03<00:00,  3.59it/s]\u001b[A\n",
            "Validation: (loss 1.3149):  92%|█████████▏| 11/12 [00:03<00:00,  3.59it/s]\u001b[A\n",
            "Validation: (loss 1.3149): 100%|██████████| 12/12 [00:03<00:00,  3.62it/s]\u001b[A\n",
            "Progress:   7%|▋         | 2/30 [00:24<05:45, 12.34s/it]\n",
            "Training:   0%|          | 0/13 [00:00<?, ?it/s]\u001b[A\n",
            "Training: (loss 1.3030):   0%|          | 0/13 [00:00<?, ?it/s]\u001b[A\n",
            "Training: (loss 1.3030):   8%|▊         | 1/13 [00:00<00:09,  1.33it/s]\u001b[A\n",
            "Training: (loss 1.5266):   8%|▊         | 1/13 [00:01<00:09,  1.33it/s]\u001b[A\n",
            "Training: (loss 1.5266):  15%|█▌        | 2/13 [00:01<00:08,  1.36it/s]\u001b[A\n",
            "Training: (loss 1.2937):  15%|█▌        | 2/13 [00:02<00:08,  1.36it/s]\u001b[A\n",
            "Training: (loss 1.2937):  23%|██▎       | 3/13 [00:02<00:07,  1.38it/s]\u001b[A\n",
            "Training: (loss 1.2983):  23%|██▎       | 3/13 [00:02<00:07,  1.38it/s]\u001b[A\n",
            "Training: (loss 1.2983):  31%|███       | 4/13 [00:02<00:06,  1.38it/s]\u001b[A\n",
            "Training: (loss 1.0962):  31%|███       | 4/13 [00:03<00:06,  1.38it/s]\u001b[A\n",
            "Training: (loss 1.0962):  38%|███▊      | 5/13 [00:03<00:05,  1.40it/s]\u001b[A\n",
            "Training: (loss 1.1410):  38%|███▊      | 5/13 [00:04<00:05,  1.40it/s]\u001b[A\n",
            "Training: (loss 1.1410):  46%|████▌     | 6/13 [00:04<00:04,  1.42it/s]\u001b[A\n",
            "Training: (loss 1.0785):  46%|████▌     | 6/13 [00:04<00:04,  1.42it/s]\u001b[A\n",
            "Training: (loss 1.0785):  54%|█████▍    | 7/13 [00:04<00:04,  1.43it/s]\u001b[A\n",
            "Training: (loss 1.1800):  54%|█████▍    | 7/13 [00:05<00:04,  1.43it/s]\u001b[A\n",
            "Training: (loss 1.1800):  62%|██████▏   | 8/13 [00:05<00:03,  1.43it/s]\u001b[A\n",
            "Training: (loss 1.4974):  62%|██████▏   | 8/13 [00:06<00:03,  1.43it/s]\u001b[A\n",
            "Training: (loss 1.4974):  69%|██████▉   | 9/13 [00:06<00:02,  1.42it/s]\u001b[A\n",
            "Training: (loss 1.1316):  69%|██████▉   | 9/13 [00:07<00:02,  1.42it/s]\u001b[A\n",
            "Training: (loss 1.1316):  77%|███████▋  | 10/13 [00:07<00:02,  1.43it/s]\u001b[A\n",
            "Training: (loss 1.0530):  77%|███████▋  | 10/13 [00:07<00:02,  1.43it/s]\u001b[A\n",
            "Training: (loss 1.0530):  85%|████████▍ | 11/13 [00:07<00:01,  1.44it/s]\u001b[A\n",
            "Training: (loss 1.1756):  85%|████████▍ | 11/13 [00:08<00:01,  1.44it/s]\u001b[A\n",
            "Training: (loss 1.1756):  92%|█████████▏| 12/13 [00:08<00:00,  1.44it/s]\u001b[A\n",
            "Training: (loss 1.1266):  92%|█████████▏| 12/13 [00:08<00:00,  1.44it/s]\u001b[A\n",
            "Training: (loss 1.1266): 100%|██████████| 13/13 [00:08<00:00,  1.65it/s]\u001b[A\n",
            "                                                                        \u001b[A\n",
            "Validation:   0%|          | 0/12 [00:00<?, ?it/s]\u001b[A\n",
            "Validation: (loss 1.5449):   0%|          | 0/12 [00:00<?, ?it/s]\u001b[A\n",
            "Validation: (loss 1.5449):   8%|▊         | 1/12 [00:00<00:03,  3.09it/s]\u001b[A\n",
            "Validation: (loss 1.0054):   8%|▊         | 1/12 [00:00<00:03,  3.09it/s]\u001b[A\n",
            "Validation: (loss 1.0054):  17%|█▋        | 2/12 [00:00<00:03,  3.21it/s]\u001b[A\n",
            "Validation: (loss 1.3240):  17%|█▋        | 2/12 [00:00<00:03,  3.21it/s]\u001b[A\n",
            "Validation: (loss 1.3240):  25%|██▌       | 3/12 [00:00<00:02,  3.29it/s]\u001b[A\n",
            "Validation: (loss 1.1456):  25%|██▌       | 3/12 [00:01<00:02,  3.29it/s]\u001b[A\n",
            "Validation: (loss 1.1456):  33%|███▎      | 4/12 [00:01<00:02,  3.40it/s]\u001b[A\n",
            "Validation: (loss 1.2074):  33%|███▎      | 4/12 [00:01<00:02,  3.40it/s]\u001b[A\n",
            "Validation: (loss 1.2074):  42%|████▏     | 5/12 [00:01<00:01,  3.51it/s]\u001b[A\n",
            "Validation: (loss 1.2612):  42%|████▏     | 5/12 [00:01<00:01,  3.51it/s]\u001b[A\n",
            "Validation: (loss 1.2612):  50%|█████     | 6/12 [00:01<00:01,  3.47it/s]\u001b[A\n",
            "Validation: (loss 0.9689):  50%|█████     | 6/12 [00:01<00:01,  3.47it/s]\u001b[A\n",
            "Validation: (loss 0.9689):  58%|█████▊    | 7/12 [00:02<00:01,  3.49it/s]\u001b[A\n",
            "Validation: (loss 1.4277):  58%|█████▊    | 7/12 [00:02<00:01,  3.49it/s]\u001b[A\n",
            "Validation: (loss 1.4277):  67%|██████▋   | 8/12 [00:02<00:01,  3.50it/s]\u001b[A\n",
            "Validation: (loss 1.2488):  67%|██████▋   | 8/12 [00:02<00:01,  3.50it/s]\u001b[A\n",
            "Validation: (loss 1.2488):  75%|███████▌  | 9/12 [00:02<00:00,  3.54it/s]\u001b[A\n",
            "Validation: (loss 1.1266):  75%|███████▌  | 9/12 [00:02<00:00,  3.54it/s]\u001b[A\n",
            "Validation: (loss 1.1266):  83%|████████▎ | 10/12 [00:02<00:00,  3.53it/s]\u001b[A\n",
            "Validation: (loss 1.2755):  83%|████████▎ | 10/12 [00:03<00:00,  3.53it/s]\u001b[A\n",
            "Validation: (loss 1.2755):  92%|█████████▏| 11/12 [00:03<00:00,  3.51it/s]\u001b[A\n",
            "Validation: (loss 1.0930):  92%|█████████▏| 11/12 [00:03<00:00,  3.51it/s]\u001b[A\n",
            "Validation: (loss 1.0930): 100%|██████████| 12/12 [00:03<00:00,  3.47it/s]\u001b[A\n",
            "Progress:  10%|█         | 3/30 [00:37<05:33, 12.37s/it]\n",
            "Training:   0%|          | 0/13 [00:00<?, ?it/s]\u001b[A\n",
            "Training: (loss 1.2126):   0%|          | 0/13 [00:00<?, ?it/s]\u001b[A\n",
            "Training: (loss 1.2126):   8%|▊         | 1/13 [00:00<00:08,  1.37it/s]\u001b[A\n",
            "Training: (loss 1.4079):   8%|▊         | 1/13 [00:01<00:08,  1.37it/s]\u001b[A\n",
            "Training: (loss 1.4079):  15%|█▌        | 2/13 [00:01<00:07,  1.38it/s]\u001b[A\n",
            "Training: (loss 1.1933):  15%|█▌        | 2/13 [00:02<00:07,  1.38it/s]\u001b[A\n",
            "Training: (loss 1.1933):  23%|██▎       | 3/13 [00:02<00:07,  1.39it/s]\u001b[A\n",
            "Training: (loss 1.1510):  23%|██▎       | 3/13 [00:02<00:07,  1.39it/s]\u001b[A\n",
            "Training: (loss 1.1510):  31%|███       | 4/13 [00:02<00:06,  1.40it/s]\u001b[A\n",
            "Training: (loss 1.2811):  31%|███       | 4/13 [00:03<00:06,  1.40it/s]\u001b[A\n",
            "Training: (loss 1.2811):  38%|███▊      | 5/13 [00:03<00:05,  1.41it/s]\u001b[A\n",
            "Training: (loss 1.3076):  38%|███▊      | 5/13 [00:04<00:05,  1.41it/s]\u001b[A\n",
            "Training: (loss 1.3076):  46%|████▌     | 6/13 [00:04<00:04,  1.42it/s]\u001b[A\n",
            "Training: (loss 1.1540):  46%|████▌     | 6/13 [00:04<00:04,  1.42it/s]\u001b[A\n",
            "Training: (loss 1.1540):  54%|█████▍    | 7/13 [00:04<00:04,  1.41it/s]\u001b[A\n",
            "Training: (loss 1.1363):  54%|█████▍    | 7/13 [00:05<00:04,  1.41it/s]\u001b[A\n",
            "Training: (loss 1.1363):  62%|██████▏   | 8/13 [00:05<00:03,  1.41it/s]\u001b[A\n",
            "Training: (loss 1.2000):  62%|██████▏   | 8/13 [00:06<00:03,  1.41it/s]\u001b[A\n",
            "Training: (loss 1.2000):  69%|██████▉   | 9/13 [00:06<00:02,  1.42it/s]\u001b[A\n",
            "Training: (loss 1.1962):  69%|██████▉   | 9/13 [00:07<00:02,  1.42it/s]\u001b[A\n",
            "Training: (loss 1.1962):  77%|███████▋  | 10/13 [00:07<00:02,  1.43it/s]\u001b[A\n",
            "Training: (loss 1.0849):  77%|███████▋  | 10/13 [00:07<00:02,  1.43it/s]\u001b[A\n",
            "Training: (loss 1.0849):  85%|████████▍ | 11/13 [00:07<00:01,  1.43it/s]\u001b[A\n",
            "Training: (loss 1.0518):  85%|████████▍ | 11/13 [00:08<00:01,  1.43it/s]\u001b[A\n",
            "Training: (loss 1.0518):  92%|█████████▏| 12/13 [00:08<00:00,  1.43it/s]\u001b[A\n",
            "Training: (loss 1.2296):  92%|█████████▏| 12/13 [00:08<00:00,  1.43it/s]\u001b[A\n",
            "Training: (loss 1.2296): 100%|██████████| 13/13 [00:08<00:00,  1.65it/s]\u001b[A\n",
            "                                                                        \u001b[A\n",
            "Validation:   0%|          | 0/12 [00:00<?, ?it/s]\u001b[A\n",
            "Validation: (loss 1.5173):   0%|          | 0/12 [00:00<?, ?it/s]\u001b[A\n",
            "Validation: (loss 1.5173):   8%|▊         | 1/12 [00:00<00:03,  2.99it/s]\u001b[A\n",
            "Validation: (loss 0.9936):   8%|▊         | 1/12 [00:00<00:03,  2.99it/s]\u001b[A\n",
            "Validation: (loss 0.9936):  17%|█▋        | 2/12 [00:00<00:03,  3.19it/s]\u001b[A\n",
            "Validation: (loss 1.2927):  17%|█▋        | 2/12 [00:00<00:03,  3.19it/s]\u001b[A\n",
            "Validation: (loss 1.2927):  25%|██▌       | 3/12 [00:00<00:02,  3.27it/s]\u001b[A\n",
            "Validation: (loss 1.1159):  25%|██▌       | 3/12 [00:01<00:02,  3.27it/s]\u001b[A\n",
            "Validation: (loss 1.1159):  33%|███▎      | 4/12 [00:01<00:02,  3.35it/s]\u001b[A\n",
            "Validation: (loss 1.0896):  33%|███▎      | 4/12 [00:01<00:02,  3.35it/s]\u001b[A\n",
            "Validation: (loss 1.0896):  42%|████▏     | 5/12 [00:01<00:02,  3.40it/s]\u001b[A\n",
            "Validation: (loss 1.2933):  42%|████▏     | 5/12 [00:01<00:02,  3.40it/s]\u001b[A\n",
            "Validation: (loss 1.2933):  50%|█████     | 6/12 [00:01<00:01,  3.46it/s]\u001b[A\n",
            "Validation: (loss 0.8975):  50%|█████     | 6/12 [00:01<00:01,  3.46it/s]\u001b[A\n",
            "Validation: (loss 0.8975):  58%|█████▊    | 7/12 [00:02<00:01,  3.51it/s]\u001b[A\n",
            "Validation: (loss 1.2884):  58%|█████▊    | 7/12 [00:02<00:01,  3.51it/s]\u001b[A\n",
            "Validation: (loss 1.2884):  67%|██████▋   | 8/12 [00:02<00:01,  3.55it/s]\u001b[A\n",
            "Validation: (loss 1.1703):  67%|██████▋   | 8/12 [00:02<00:01,  3.55it/s]\u001b[A\n",
            "Validation: (loss 1.1703):  75%|███████▌  | 9/12 [00:02<00:00,  3.56it/s]\u001b[A\n",
            "Validation: (loss 1.0061):  75%|███████▌  | 9/12 [00:02<00:00,  3.56it/s]\u001b[A\n",
            "Validation: (loss 1.0061):  83%|████████▎ | 10/12 [00:02<00:00,  3.60it/s]\u001b[A\n",
            "Validation: (loss 1.2179):  83%|████████▎ | 10/12 [00:03<00:00,  3.60it/s]\u001b[A\n",
            "Validation: (loss 1.2179):  92%|█████████▏| 11/12 [00:03<00:00,  3.57it/s]\u001b[A\n",
            "Validation: (loss 1.0493):  92%|█████████▏| 11/12 [00:03<00:00,  3.57it/s]\u001b[A\n",
            "Validation: (loss 1.0493): 100%|██████████| 12/12 [00:03<00:00,  3.50it/s]\u001b[A\n",
            "Progress:  13%|█▎        | 4/30 [00:49<05:22, 12.39s/it]\n",
            "Training:   0%|          | 0/13 [00:00<?, ?it/s]\u001b[A\n",
            "Training: (loss 1.1072):   0%|          | 0/13 [00:00<?, ?it/s]\u001b[A\n",
            "Training: (loss 1.1072):   8%|▊         | 1/13 [00:00<00:08,  1.34it/s]\u001b[A\n",
            "Training: (loss 1.3591):   8%|▊         | 1/13 [00:01<00:08,  1.34it/s]\u001b[A\n",
            "Training: (loss 1.3591):  15%|█▌        | 2/13 [00:01<00:08,  1.36it/s]\u001b[A\n",
            "Training: (loss 0.9977):  15%|█▌        | 2/13 [00:02<00:08,  1.36it/s]\u001b[A\n",
            "Training: (loss 0.9977):  23%|██▎       | 3/13 [00:02<00:07,  1.36it/s]\u001b[A\n",
            "Training: (loss 1.3770):  23%|██▎       | 3/13 [00:02<00:07,  1.36it/s]\u001b[A\n",
            "Training: (loss 1.3770):  31%|███       | 4/13 [00:02<00:06,  1.39it/s]\u001b[A\n",
            "Training: (loss 1.1192):  31%|███       | 4/13 [00:03<00:06,  1.39it/s]\u001b[A\n",
            "Training: (loss 1.1192):  38%|███▊      | 5/13 [00:03<00:05,  1.40it/s]\u001b[A\n",
            "Training: (loss 0.9927):  38%|███▊      | 5/13 [00:04<00:05,  1.40it/s]\u001b[A\n",
            "Training: (loss 0.9927):  46%|████▌     | 6/13 [00:04<00:04,  1.40it/s]\u001b[A\n",
            "Training: (loss 1.1553):  46%|████▌     | 6/13 [00:04<00:04,  1.40it/s]\u001b[A\n",
            "Training: (loss 1.1553):  54%|█████▍    | 7/13 [00:04<00:04,  1.41it/s]\u001b[A\n",
            "Training: (loss 1.1560):  54%|█████▍    | 7/13 [00:05<00:04,  1.41it/s]\u001b[A\n",
            "Training: (loss 1.1560):  62%|██████▏   | 8/13 [00:05<00:03,  1.42it/s]\u001b[A\n",
            "Training: (loss 1.1926):  62%|██████▏   | 8/13 [00:06<00:03,  1.42it/s]\u001b[A\n",
            "Training: (loss 1.1926):  69%|██████▉   | 9/13 [00:06<00:02,  1.42it/s]\u001b[A\n",
            "Training: (loss 0.9821):  69%|██████▉   | 9/13 [00:07<00:02,  1.42it/s]\u001b[A\n",
            "Training: (loss 0.9821):  77%|███████▋  | 10/13 [00:07<00:02,  1.42it/s]\u001b[A\n",
            "Training: (loss 1.3405):  77%|███████▋  | 10/13 [00:07<00:02,  1.42it/s]\u001b[A\n",
            "Training: (loss 1.3405):  85%|████████▍ | 11/13 [00:07<00:01,  1.42it/s]\u001b[A\n",
            "Training: (loss 1.0394):  85%|████████▍ | 11/13 [00:08<00:01,  1.42it/s]\u001b[A\n",
            "Training: (loss 1.0394):  92%|█████████▏| 12/13 [00:08<00:00,  1.43it/s]\u001b[A\n",
            "Training: (loss 1.4746):  92%|█████████▏| 12/13 [00:08<00:00,  1.43it/s]\u001b[A\n",
            "Training: (loss 1.4746): 100%|██████████| 13/13 [00:08<00:00,  1.64it/s]\u001b[A\n",
            "                                                                        \u001b[A\n",
            "Validation:   0%|          | 0/12 [00:00<?, ?it/s]\u001b[A\n",
            "Validation: (loss 1.4846):   0%|          | 0/12 [00:00<?, ?it/s]\u001b[A\n",
            "Validation: (loss 1.4846):   8%|▊         | 1/12 [00:00<00:03,  2.92it/s]\u001b[A\n",
            "Validation: (loss 1.0554):   8%|▊         | 1/12 [00:00<00:03,  2.92it/s]\u001b[A\n",
            "Validation: (loss 1.0554):  17%|█▋        | 2/12 [00:00<00:03,  3.09it/s]\u001b[A\n",
            "Validation: (loss 1.3190):  17%|█▋        | 2/12 [00:00<00:03,  3.09it/s]\u001b[A\n",
            "Validation: (loss 1.3190):  25%|██▌       | 3/12 [00:00<00:02,  3.26it/s]\u001b[A\n",
            "Validation: (loss 1.1608):  25%|██▌       | 3/12 [00:01<00:02,  3.26it/s]\u001b[A\n",
            "Validation: (loss 1.1608):  33%|███▎      | 4/12 [00:01<00:02,  3.35it/s]\u001b[A\n",
            "Validation: (loss 1.1096):  33%|███▎      | 4/12 [00:01<00:02,  3.35it/s]\u001b[A\n",
            "Validation: (loss 1.1096):  42%|████▏     | 5/12 [00:01<00:02,  3.41it/s]\u001b[A\n",
            "Validation: (loss 1.2884):  42%|████▏     | 5/12 [00:01<00:02,  3.41it/s]\u001b[A\n",
            "Validation: (loss 1.2884):  50%|█████     | 6/12 [00:01<00:01,  3.44it/s]\u001b[A\n",
            "Validation: (loss 0.9133):  50%|█████     | 6/12 [00:01<00:01,  3.44it/s]\u001b[A\n",
            "Validation: (loss 0.9133):  58%|█████▊    | 7/12 [00:02<00:01,  3.52it/s]\u001b[A\n",
            "Validation: (loss 1.2508):  58%|█████▊    | 7/12 [00:02<00:01,  3.52it/s]\u001b[A\n",
            "Validation: (loss 1.2508):  67%|██████▋   | 8/12 [00:02<00:01,  3.47it/s]\u001b[A\n",
            "Validation: (loss 1.1623):  67%|██████▋   | 8/12 [00:02<00:01,  3.47it/s]\u001b[A\n",
            "Validation: (loss 1.1623):  75%|███████▌  | 9/12 [00:02<00:00,  3.48it/s]\u001b[A\n",
            "Validation: (loss 1.0492):  75%|███████▌  | 9/12 [00:02<00:00,  3.48it/s]\u001b[A\n",
            "Validation: (loss 1.0492):  83%|████████▎ | 10/12 [00:02<00:00,  3.49it/s]\u001b[A\n",
            "Validation: (loss 1.2318):  83%|████████▎ | 10/12 [00:03<00:00,  3.49it/s]\u001b[A\n",
            "Validation: (loss 1.2318):  92%|█████████▏| 11/12 [00:03<00:00,  3.59it/s]\u001b[A\n",
            "Validation: (loss 1.0739):  92%|█████████▏| 11/12 [00:03<00:00,  3.59it/s]\u001b[A\n",
            "Validation: (loss 1.0739): 100%|██████████| 12/12 [00:03<00:00,  3.56it/s]\u001b[A\n",
            "Progress:  17%|█▋        | 5/30 [01:02<05:10, 12.42s/it]\n",
            "Training:   0%|          | 0/13 [00:00<?, ?it/s]\u001b[A\n",
            "Training: (loss 1.0714):   0%|          | 0/13 [00:00<?, ?it/s]\u001b[A\n",
            "Training: (loss 1.0714):   8%|▊         | 1/13 [00:00<00:08,  1.34it/s]\u001b[A\n",
            "Training: (loss 1.2321):   8%|▊         | 1/13 [00:01<00:08,  1.34it/s]\u001b[A\n",
            "Training: (loss 1.2321):  15%|█▌        | 2/13 [00:01<00:08,  1.36it/s]\u001b[A\n",
            "Training: (loss 1.1354):  15%|█▌        | 2/13 [00:02<00:08,  1.36it/s]\u001b[A\n",
            "Training: (loss 1.1354):  23%|██▎       | 3/13 [00:02<00:07,  1.39it/s]\u001b[A\n",
            "Training: (loss 1.1349):  23%|██▎       | 3/13 [00:02<00:07,  1.39it/s]\u001b[A\n",
            "Training: (loss 1.1349):  31%|███       | 4/13 [00:02<00:06,  1.39it/s]\u001b[A\n",
            "Training: (loss 1.1243):  31%|███       | 4/13 [00:03<00:06,  1.39it/s]\u001b[A\n",
            "Training: (loss 1.1243):  38%|███▊      | 5/13 [00:03<00:05,  1.39it/s]\u001b[A\n",
            "Training: (loss 1.5395):  38%|███▊      | 5/13 [00:04<00:05,  1.39it/s]\u001b[A\n",
            "Training: (loss 1.5395):  46%|████▌     | 6/13 [00:04<00:05,  1.39it/s]\u001b[A\n",
            "Training: (loss 1.2687):  46%|████▌     | 6/13 [00:04<00:05,  1.39it/s]\u001b[A\n",
            "Training: (loss 1.2687):  54%|█████▍    | 7/13 [00:04<00:04,  1.41it/s]\u001b[A\n",
            "Training: (loss 1.0146):  54%|█████▍    | 7/13 [00:05<00:04,  1.41it/s]\u001b[A\n",
            "Training: (loss 1.0146):  62%|██████▏   | 8/13 [00:05<00:03,  1.42it/s]\u001b[A\n",
            "Training: (loss 0.9958):  62%|██████▏   | 8/13 [00:06<00:03,  1.42it/s]\u001b[A\n",
            "Training: (loss 0.9958):  69%|██████▉   | 9/13 [00:06<00:02,  1.43it/s]\u001b[A\n",
            "Training: (loss 1.1705):  69%|██████▉   | 9/13 [00:07<00:02,  1.43it/s]\u001b[A\n",
            "Training: (loss 1.1705):  77%|███████▋  | 10/13 [00:07<00:02,  1.43it/s]\u001b[A\n",
            "Training: (loss 1.0422):  77%|███████▋  | 10/13 [00:07<00:02,  1.43it/s]\u001b[A\n",
            "Training: (loss 1.0422):  85%|████████▍ | 11/13 [00:07<00:01,  1.43it/s]\u001b[A\n",
            "Training: (loss 1.2551):  85%|████████▍ | 11/13 [00:08<00:01,  1.43it/s]\u001b[A\n",
            "Training: (loss 1.2551):  92%|█████████▏| 12/13 [00:08<00:00,  1.43it/s]\u001b[A\n",
            "Training: (loss 0.9997):  92%|█████████▏| 12/13 [00:08<00:00,  1.43it/s]\u001b[A\n",
            "Training: (loss 0.9997): 100%|██████████| 13/13 [00:08<00:00,  1.65it/s]\u001b[A\n",
            "                                                                        \u001b[A\n",
            "Validation:   0%|          | 0/12 [00:00<?, ?it/s]\u001b[A\n",
            "Validation: (loss 1.5334):   0%|          | 0/12 [00:00<?, ?it/s]\u001b[A\n",
            "Validation: (loss 1.5334):   8%|▊         | 1/12 [00:00<00:03,  2.95it/s]\u001b[A\n",
            "Validation: (loss 1.0015):   8%|▊         | 1/12 [00:00<00:03,  2.95it/s]\u001b[A\n",
            "Validation: (loss 1.0015):  17%|█▋        | 2/12 [00:00<00:03,  3.12it/s]\u001b[A\n",
            "Validation: (loss 1.3965):  17%|█▋        | 2/12 [00:00<00:03,  3.12it/s]\u001b[A\n",
            "Validation: (loss 1.3965):  25%|██▌       | 3/12 [00:00<00:02,  3.23it/s]\u001b[A\n",
            "Validation: (loss 1.1779):  25%|██▌       | 3/12 [00:01<00:02,  3.23it/s]\u001b[A\n",
            "Validation: (loss 1.1779):  33%|███▎      | 4/12 [00:01<00:02,  3.35it/s]\u001b[A\n",
            "Validation: (loss 1.1040):  33%|███▎      | 4/12 [00:01<00:02,  3.35it/s]\u001b[A\n",
            "Validation: (loss 1.1040):  42%|████▏     | 5/12 [00:01<00:02,  3.39it/s]\u001b[A\n",
            "Validation: (loss 1.1508):  42%|████▏     | 5/12 [00:01<00:02,  3.39it/s]\u001b[A\n",
            "Validation: (loss 1.1508):  50%|█████     | 6/12 [00:01<00:01,  3.42it/s]\u001b[A\n",
            "Validation: (loss 0.9434):  50%|█████     | 6/12 [00:02<00:01,  3.42it/s]\u001b[A\n",
            "Validation: (loss 0.9434):  58%|█████▊    | 7/12 [00:02<00:01,  3.44it/s]\u001b[A\n",
            "Validation: (loss 1.3955):  58%|█████▊    | 7/12 [00:02<00:01,  3.44it/s]\u001b[A\n",
            "Validation: (loss 1.3955):  67%|██████▋   | 8/12 [00:02<00:01,  3.56it/s]\u001b[A\n",
            "Validation: (loss 1.2035):  67%|██████▋   | 8/12 [00:02<00:01,  3.56it/s]\u001b[A\n",
            "Validation: (loss 1.2035):  75%|███████▌  | 9/12 [00:02<00:00,  3.54it/s]\u001b[A\n",
            "Validation: (loss 1.1202):  75%|███████▌  | 9/12 [00:02<00:00,  3.54it/s]\u001b[A\n",
            "Validation: (loss 1.1202):  83%|████████▎ | 10/12 [00:02<00:00,  3.51it/s]\u001b[A\n",
            "Validation: (loss 1.3559):  83%|████████▎ | 10/12 [00:03<00:00,  3.51it/s]\u001b[A\n",
            "Validation: (loss 1.3559):  92%|█████████▏| 11/12 [00:03<00:00,  3.53it/s]\u001b[A\n",
            "Validation: (loss 1.0474):  92%|█████████▏| 11/12 [00:03<00:00,  3.53it/s]\u001b[A\n",
            "Validation: (loss 1.0474): 100%|██████████| 12/12 [00:03<00:00,  3.60it/s]\u001b[A\n",
            "Progress:  20%|██        | 6/30 [01:14<04:58, 12.43s/it]\n",
            "Training:   0%|          | 0/13 [00:00<?, ?it/s]\u001b[A\n",
            "Training: (loss 1.4043):   0%|          | 0/13 [00:00<?, ?it/s]\u001b[A\n",
            "Training: (loss 1.4043):   8%|▊         | 1/13 [00:00<00:09,  1.31it/s]\u001b[A\n",
            "Training: (loss 1.2474):   8%|▊         | 1/13 [00:01<00:09,  1.31it/s]\u001b[A\n",
            "Training: (loss 1.2474):  15%|█▌        | 2/13 [00:01<00:08,  1.35it/s]\u001b[A\n",
            "Training: (loss 1.2843):  15%|█▌        | 2/13 [00:02<00:08,  1.35it/s]\u001b[A\n",
            "Training: (loss 1.2843):  23%|██▎       | 3/13 [00:02<00:07,  1.37it/s]\u001b[A\n",
            "Training: (loss 0.9561):  23%|██▎       | 3/13 [00:02<00:07,  1.37it/s]\u001b[A\n",
            "Training: (loss 0.9561):  31%|███       | 4/13 [00:02<00:06,  1.38it/s]\u001b[A\n",
            "Training: (loss 1.0283):  31%|███       | 4/13 [00:03<00:06,  1.38it/s]\u001b[A\n",
            "Training: (loss 1.0283):  38%|███▊      | 5/13 [00:03<00:05,  1.39it/s]\u001b[A\n",
            "Training: (loss 1.0670):  38%|███▊      | 5/13 [00:04<00:05,  1.39it/s]\u001b[A\n",
            "Training: (loss 1.0670):  46%|████▌     | 6/13 [00:04<00:05,  1.40it/s]\u001b[A\n",
            "Training: (loss 1.2349):  46%|████▌     | 6/13 [00:04<00:05,  1.40it/s]\u001b[A\n",
            "Training: (loss 1.2349):  54%|█████▍    | 7/13 [00:04<00:04,  1.41it/s]\u001b[A\n",
            "Training: (loss 1.0508):  54%|█████▍    | 7/13 [00:05<00:04,  1.41it/s]\u001b[A\n",
            "Training: (loss 1.0508):  62%|██████▏   | 8/13 [00:05<00:03,  1.41it/s]\u001b[A\n",
            "Training: (loss 1.0283):  62%|██████▏   | 8/13 [00:06<00:03,  1.41it/s]\u001b[A\n",
            "Training: (loss 1.0283):  69%|██████▉   | 9/13 [00:06<00:02,  1.41it/s]\u001b[A\n",
            "Training: (loss 0.9800):  69%|██████▉   | 9/13 [00:07<00:02,  1.41it/s]\u001b[A\n",
            "Training: (loss 0.9800):  77%|███████▋  | 10/13 [00:07<00:02,  1.41it/s]\u001b[A\n",
            "Training: (loss 0.9599):  77%|███████▋  | 10/13 [00:07<00:02,  1.41it/s]\u001b[A\n",
            "Training: (loss 0.9599):  85%|████████▍ | 11/13 [00:07<00:01,  1.41it/s]\u001b[A\n",
            "Training: (loss 1.3730):  85%|████████▍ | 11/13 [00:08<00:01,  1.41it/s]\u001b[A\n",
            "Training: (loss 1.3730):  92%|█████████▏| 12/13 [00:08<00:00,  1.42it/s]\u001b[A\n",
            "Training: (loss 1.1620):  92%|█████████▏| 12/13 [00:08<00:00,  1.42it/s]\u001b[A\n",
            "Training: (loss 1.1620): 100%|██████████| 13/13 [00:08<00:00,  1.63it/s]\u001b[A\n",
            "                                                                        \u001b[A\n",
            "Validation:   0%|          | 0/12 [00:00<?, ?it/s]\u001b[A\n",
            "Validation: (loss 1.5098):   0%|          | 0/12 [00:00<?, ?it/s]\u001b[A\n",
            "Validation: (loss 1.5098):   8%|▊         | 1/12 [00:00<00:03,  3.17it/s]\u001b[A\n",
            "Validation: (loss 0.9303):   8%|▊         | 1/12 [00:00<00:03,  3.17it/s]\u001b[A\n",
            "Validation: (loss 0.9303):  17%|█▋        | 2/12 [00:00<00:03,  3.23it/s]\u001b[A\n",
            "Validation: (loss 1.2553):  17%|█▋        | 2/12 [00:00<00:03,  3.23it/s]\u001b[A\n",
            "Validation: (loss 1.2553):  25%|██▌       | 3/12 [00:00<00:02,  3.32it/s]\u001b[A\n",
            "Validation: (loss 1.0096):  25%|██▌       | 3/12 [00:01<00:02,  3.32it/s]\u001b[A\n",
            "Validation: (loss 1.0096):  33%|███▎      | 4/12 [00:01<00:02,  3.39it/s]\u001b[A\n",
            "Validation: (loss 1.0122):  33%|███▎      | 4/12 [00:01<00:02,  3.39it/s]\u001b[A\n",
            "Validation: (loss 1.0122):  42%|████▏     | 5/12 [00:01<00:02,  3.50it/s]\u001b[A\n",
            "Validation: (loss 1.2065):  42%|████▏     | 5/12 [00:01<00:02,  3.50it/s]\u001b[A\n",
            "Validation: (loss 1.2065):  50%|█████     | 6/12 [00:01<00:01,  3.54it/s]\u001b[A\n",
            "Validation: (loss 0.8521):  50%|█████     | 6/12 [00:01<00:01,  3.54it/s]\u001b[A\n",
            "Validation: (loss 0.8521):  58%|█████▊    | 7/12 [00:02<00:01,  3.51it/s]\u001b[A\n",
            "Validation: (loss 1.2446):  58%|█████▊    | 7/12 [00:02<00:01,  3.51it/s]\u001b[A\n",
            "Validation: (loss 1.2446):  67%|██████▋   | 8/12 [00:02<00:01,  3.51it/s]\u001b[A\n",
            "Validation: (loss 1.1081):  67%|██████▋   | 8/12 [00:02<00:01,  3.51it/s]\u001b[A\n",
            "Validation: (loss 1.1081):  75%|███████▌  | 9/12 [00:02<00:00,  3.62it/s]\u001b[A\n",
            "Validation: (loss 0.9830):  75%|███████▌  | 9/12 [00:02<00:00,  3.62it/s]\u001b[A\n",
            "Validation: (loss 0.9830):  83%|████████▎ | 10/12 [00:02<00:00,  3.59it/s]\u001b[A\n",
            "Validation: (loss 1.1687):  83%|████████▎ | 10/12 [00:03<00:00,  3.59it/s]\u001b[A\n",
            "Validation: (loss 1.1687):  92%|█████████▏| 11/12 [00:03<00:00,  3.57it/s]\u001b[A\n",
            "Validation: (loss 0.9853):  92%|█████████▏| 11/12 [00:03<00:00,  3.57it/s]\u001b[A\n",
            "Validation: (loss 0.9853): 100%|██████████| 12/12 [00:03<00:00,  3.57it/s]\u001b[A\n",
            "Progress:  23%|██▎       | 7/30 [01:26<04:46, 12.45s/it]\n",
            "Training:   0%|          | 0/13 [00:00<?, ?it/s]\u001b[A\n",
            "Training: (loss 1.2498):   0%|          | 0/13 [00:00<?, ?it/s]\u001b[A\n",
            "Training: (loss 1.2498):   8%|▊         | 1/13 [00:00<00:08,  1.37it/s]\u001b[A\n",
            "Training: (loss 0.9901):   8%|▊         | 1/13 [00:01<00:08,  1.37it/s]\u001b[A\n",
            "Training: (loss 0.9901):  15%|█▌        | 2/13 [00:01<00:07,  1.39it/s]\u001b[A\n",
            "Training: (loss 1.4112):  15%|█▌        | 2/13 [00:02<00:07,  1.39it/s]\u001b[A\n",
            "Training: (loss 1.4112):  23%|██▎       | 3/13 [00:02<00:07,  1.40it/s]\u001b[A\n",
            "Training: (loss 0.9074):  23%|██▎       | 3/13 [00:02<00:07,  1.40it/s]\u001b[A\n",
            "Training: (loss 0.9074):  31%|███       | 4/13 [00:02<00:06,  1.40it/s]\u001b[A\n",
            "Training: (loss 1.2166):  31%|███       | 4/13 [00:03<00:06,  1.40it/s]\u001b[A\n",
            "Training: (loss 1.2166):  38%|███▊      | 5/13 [00:03<00:05,  1.41it/s]\u001b[A\n",
            "Training: (loss 1.1156):  38%|███▊      | 5/13 [00:04<00:05,  1.41it/s]\u001b[A\n",
            "Training: (loss 1.1156):  46%|████▌     | 6/13 [00:04<00:04,  1.41it/s]\u001b[A\n",
            "Training: (loss 1.0023):  46%|████▌     | 6/13 [00:04<00:04,  1.41it/s]\u001b[A\n",
            "Training: (loss 1.0023):  54%|█████▍    | 7/13 [00:04<00:04,  1.41it/s]\u001b[A\n",
            "Training: (loss 1.1071):  54%|█████▍    | 7/13 [00:05<00:04,  1.41it/s]\u001b[A\n",
            "Training: (loss 1.1071):  62%|██████▏   | 8/13 [00:05<00:03,  1.41it/s]\u001b[A\n",
            "Training: (loss 0.9956):  62%|██████▏   | 8/13 [00:06<00:03,  1.41it/s]\u001b[A\n",
            "Training: (loss 0.9956):  69%|██████▉   | 9/13 [00:06<00:02,  1.42it/s]\u001b[A\n",
            "Training: (loss 1.2288):  69%|██████▉   | 9/13 [00:07<00:02,  1.42it/s]\u001b[A\n",
            "Training: (loss 1.2288):  77%|███████▋  | 10/13 [00:07<00:02,  1.42it/s]\u001b[A\n",
            "Training: (loss 1.0420):  77%|███████▋  | 10/13 [00:07<00:02,  1.42it/s]\u001b[A\n",
            "Training: (loss 1.0420):  85%|████████▍ | 11/13 [00:07<00:01,  1.41it/s]\u001b[A\n",
            "Training: (loss 1.0342):  85%|████████▍ | 11/13 [00:08<00:01,  1.41it/s]\u001b[A\n",
            "Training: (loss 1.0342):  92%|█████████▏| 12/13 [00:08<00:00,  1.41it/s]\u001b[A\n",
            "Training: (loss 1.6100):  92%|█████████▏| 12/13 [00:08<00:00,  1.41it/s]\u001b[A\n",
            "Training: (loss 1.6100): 100%|██████████| 13/13 [00:08<00:00,  1.63it/s]\u001b[A\n",
            "                                                                        \u001b[A\n",
            "Validation:   0%|          | 0/12 [00:00<?, ?it/s]\u001b[A\n",
            "Validation: (loss 1.4563):   0%|          | 0/12 [00:00<?, ?it/s]\u001b[A\n",
            "Validation: (loss 1.4563):   8%|▊         | 1/12 [00:00<00:03,  2.98it/s]\u001b[A\n",
            "Validation: (loss 0.9714):   8%|▊         | 1/12 [00:00<00:03,  2.98it/s]\u001b[A\n",
            "Validation: (loss 0.9714):  17%|█▋        | 2/12 [00:00<00:03,  3.20it/s]\u001b[A\n",
            "Validation: (loss 1.2750):  17%|█▋        | 2/12 [00:00<00:03,  3.20it/s]\u001b[A\n",
            "Validation: (loss 1.2750):  25%|██▌       | 3/12 [00:00<00:02,  3.24it/s]\u001b[A\n",
            "Validation: (loss 1.0441):  25%|██▌       | 3/12 [00:01<00:02,  3.24it/s]\u001b[A\n",
            "Validation: (loss 1.0441):  33%|███▎      | 4/12 [00:01<00:02,  3.32it/s]\u001b[A\n",
            "Validation: (loss 1.1450):  33%|███▎      | 4/12 [00:01<00:02,  3.32it/s]\u001b[A\n",
            "Validation: (loss 1.1450):  42%|████▏     | 5/12 [00:01<00:02,  3.37it/s]\u001b[A\n",
            "Validation: (loss 1.2024):  42%|████▏     | 5/12 [00:01<00:02,  3.37it/s]\u001b[A\n",
            "Validation: (loss 1.2024):  50%|█████     | 6/12 [00:01<00:01,  3.48it/s]\u001b[A\n",
            "Validation: (loss 0.8673):  50%|█████     | 6/12 [00:02<00:01,  3.48it/s]\u001b[A\n",
            "Validation: (loss 0.8673):  58%|█████▊    | 7/12 [00:02<00:01,  3.49it/s]\u001b[A\n",
            "Validation: (loss 1.2135):  58%|█████▊    | 7/12 [00:02<00:01,  3.49it/s]\u001b[A\n",
            "Validation: (loss 1.2135):  67%|██████▋   | 8/12 [00:02<00:01,  3.48it/s]\u001b[A\n",
            "Validation: (loss 1.1429):  67%|██████▋   | 8/12 [00:02<00:01,  3.48it/s]\u001b[A\n",
            "Validation: (loss 1.1429):  75%|███████▌  | 9/12 [00:02<00:00,  3.47it/s]\u001b[A\n",
            "Validation: (loss 0.9944):  75%|███████▌  | 9/12 [00:02<00:00,  3.47it/s]\u001b[A\n",
            "Validation: (loss 0.9944):  83%|████████▎ | 10/12 [00:02<00:00,  3.53it/s]\u001b[A\n",
            "Validation: (loss 1.1631):  83%|████████▎ | 10/12 [00:03<00:00,  3.53it/s]\u001b[A\n",
            "Validation: (loss 1.1631):  92%|█████████▏| 11/12 [00:03<00:00,  3.52it/s]\u001b[A\n",
            "Validation: (loss 0.9789):  92%|█████████▏| 11/12 [00:03<00:00,  3.52it/s]\u001b[A\n",
            "Validation: (loss 0.9789): 100%|██████████| 12/12 [00:03<00:00,  3.53it/s]\u001b[A\n",
            "Progress:  27%|██▋       | 8/30 [01:39<04:34, 12.47s/it]\n",
            "Training:   0%|          | 0/13 [00:00<?, ?it/s]\u001b[A\n",
            "Training: (loss 1.0494):   0%|          | 0/13 [00:00<?, ?it/s]\u001b[A\n",
            "Training: (loss 1.0494):   8%|▊         | 1/13 [00:00<00:08,  1.34it/s]\u001b[A\n",
            "Training: (loss 1.2916):   8%|▊         | 1/13 [00:01<00:08,  1.34it/s]\u001b[A\n",
            "Training: (loss 1.2916):  15%|█▌        | 2/13 [00:01<00:08,  1.36it/s]\u001b[A\n",
            "Training: (loss 0.9676):  15%|█▌        | 2/13 [00:02<00:08,  1.36it/s]\u001b[A\n",
            "Training: (loss 0.9676):  23%|██▎       | 3/13 [00:02<00:07,  1.38it/s]\u001b[A\n",
            "Training: (loss 1.0205):  23%|██▎       | 3/13 [00:02<00:07,  1.38it/s]\u001b[A\n",
            "Training: (loss 1.0205):  31%|███       | 4/13 [00:02<00:06,  1.39it/s]\u001b[A\n",
            "Training: (loss 0.9250):  31%|███       | 4/13 [00:03<00:06,  1.39it/s]\u001b[A\n",
            "Training: (loss 0.9250):  38%|███▊      | 5/13 [00:03<00:05,  1.39it/s]\u001b[A\n",
            "Training: (loss 1.2880):  38%|███▊      | 5/13 [00:04<00:05,  1.39it/s]\u001b[A\n",
            "Training: (loss 1.2880):  46%|████▌     | 6/13 [00:04<00:05,  1.40it/s]\u001b[A\n",
            "Training: (loss 1.0648):  46%|████▌     | 6/13 [00:04<00:05,  1.40it/s]\u001b[A\n",
            "Training: (loss 1.0648):  54%|█████▍    | 7/13 [00:04<00:04,  1.40it/s]\u001b[A\n",
            "Training: (loss 1.0523):  54%|█████▍    | 7/13 [00:05<00:04,  1.40it/s]\u001b[A\n",
            "Training: (loss 1.0523):  62%|██████▏   | 8/13 [00:05<00:03,  1.42it/s]\u001b[A\n",
            "Training: (loss 1.1948):  62%|██████▏   | 8/13 [00:06<00:03,  1.42it/s]\u001b[A\n",
            "Training: (loss 1.1948):  69%|██████▉   | 9/13 [00:06<00:02,  1.42it/s]\u001b[A\n",
            "Training: (loss 1.0024):  69%|██████▉   | 9/13 [00:07<00:02,  1.42it/s]\u001b[A\n",
            "Training: (loss 1.0024):  77%|███████▋  | 10/13 [00:07<00:02,  1.43it/s]\u001b[A\n",
            "Training: (loss 1.2000):  77%|███████▋  | 10/13 [00:07<00:02,  1.43it/s]\u001b[A\n",
            "Training: (loss 1.2000):  85%|████████▍ | 11/13 [00:07<00:01,  1.41it/s]\u001b[A\n",
            "Training: (loss 1.0564):  85%|████████▍ | 11/13 [00:08<00:01,  1.41it/s]\u001b[A\n",
            "Training: (loss 1.0564):  92%|█████████▏| 12/13 [00:08<00:00,  1.43it/s]\u001b[A\n",
            "Training: (loss 1.4015):  92%|█████████▏| 12/13 [00:08<00:00,  1.43it/s]\u001b[A\n",
            "Training: (loss 1.4015): 100%|██████████| 13/13 [00:08<00:00,  1.64it/s]\u001b[A\n",
            "                                                                        \u001b[A\n",
            "Validation:   0%|          | 0/12 [00:00<?, ?it/s]\u001b[A\n",
            "Validation: (loss 1.4367):   0%|          | 0/12 [00:00<?, ?it/s]\u001b[A\n",
            "Validation: (loss 1.4367):   8%|▊         | 1/12 [00:00<00:03,  3.06it/s]\u001b[A\n",
            "Validation: (loss 0.9794):   8%|▊         | 1/12 [00:00<00:03,  3.06it/s]\u001b[A\n",
            "Validation: (loss 0.9794):  17%|█▋        | 2/12 [00:00<00:03,  3.21it/s]\u001b[A\n",
            "Validation: (loss 1.2535):  17%|█▋        | 2/12 [00:00<00:03,  3.21it/s]\u001b[A\n",
            "Validation: (loss 1.2535):  25%|██▌       | 3/12 [00:00<00:02,  3.32it/s]\u001b[A\n",
            "Validation: (loss 1.0570):  25%|██▌       | 3/12 [00:01<00:02,  3.32it/s]\u001b[A\n",
            "Validation: (loss 1.0570):  33%|███▎      | 4/12 [00:01<00:02,  3.36it/s]\u001b[A\n",
            "Validation: (loss 1.0238):  33%|███▎      | 4/12 [00:01<00:02,  3.36it/s]\u001b[A\n",
            "Validation: (loss 1.0238):  42%|████▏     | 5/12 [00:01<00:02,  3.39it/s]\u001b[A\n",
            "Validation: (loss 1.2154):  42%|████▏     | 5/12 [00:01<00:02,  3.39it/s]\u001b[A\n",
            "Validation: (loss 1.2154):  50%|█████     | 6/12 [00:01<00:01,  3.45it/s]\u001b[A\n",
            "Validation: (loss 0.8661):  50%|█████     | 6/12 [00:02<00:01,  3.45it/s]\u001b[A\n",
            "Validation: (loss 0.8661):  58%|█████▊    | 7/12 [00:02<00:01,  3.52it/s]\u001b[A\n",
            "Validation: (loss 1.1675):  58%|█████▊    | 7/12 [00:02<00:01,  3.52it/s]\u001b[A\n",
            "Validation: (loss 1.1675):  67%|██████▋   | 8/12 [00:02<00:01,  3.52it/s]\u001b[A\n",
            "Validation: (loss 1.0946):  67%|██████▋   | 8/12 [00:02<00:01,  3.52it/s]\u001b[A\n",
            "Validation: (loss 1.0946):  75%|███████▌  | 9/12 [00:02<00:00,  3.48it/s]\u001b[A\n",
            "Validation: (loss 0.9848):  75%|███████▌  | 9/12 [00:02<00:00,  3.48it/s]\u001b[A\n",
            "Validation: (loss 0.9848):  83%|████████▎ | 10/12 [00:02<00:00,  3.43it/s]\u001b[A\n",
            "Validation: (loss 1.1766):  83%|████████▎ | 10/12 [00:03<00:00,  3.43it/s]\u001b[A\n",
            "Validation: (loss 1.1766):  92%|█████████▏| 11/12 [00:03<00:00,  3.49it/s]\u001b[A\n",
            "Validation: (loss 0.9456):  92%|█████████▏| 11/12 [00:03<00:00,  3.49it/s]\u001b[A\n",
            "Validation: (loss 0.9456): 100%|██████████| 12/12 [00:03<00:00,  3.47it/s]\u001b[A\n",
            "Progress:  30%|███       | 9/30 [01:52<04:22, 12.50s/it]\n",
            "Training:   0%|          | 0/13 [00:00<?, ?it/s]\u001b[A\n",
            "Training: (loss 0.9749):   0%|          | 0/13 [00:00<?, ?it/s]\u001b[A\n",
            "Training: (loss 0.9749):   8%|▊         | 1/13 [00:00<00:08,  1.34it/s]\u001b[A\n",
            "Training: (loss 1.4766):   8%|▊         | 1/13 [00:01<00:08,  1.34it/s]\u001b[A\n",
            "Training: (loss 1.4766):  15%|█▌        | 2/13 [00:01<00:08,  1.36it/s]\u001b[A\n",
            "Training: (loss 1.0256):  15%|█▌        | 2/13 [00:02<00:08,  1.36it/s]\u001b[A\n",
            "Training: (loss 1.0256):  23%|██▎       | 3/13 [00:02<00:07,  1.39it/s]\u001b[A\n",
            "Training: (loss 1.0001):  23%|██▎       | 3/13 [00:02<00:07,  1.39it/s]\u001b[A\n",
            "Training: (loss 1.0001):  31%|███       | 4/13 [00:02<00:06,  1.40it/s]\u001b[A\n",
            "Training: (loss 1.0066):  31%|███       | 4/13 [00:03<00:06,  1.40it/s]\u001b[A\n",
            "Training: (loss 1.0066):  38%|███▊      | 5/13 [00:03<00:05,  1.40it/s]\u001b[A\n",
            "Training: (loss 1.0044):  38%|███▊      | 5/13 [00:04<00:05,  1.40it/s]\u001b[A\n",
            "Training: (loss 1.0044):  46%|████▌     | 6/13 [00:04<00:04,  1.40it/s]\u001b[A\n",
            "Training: (loss 1.5668):  46%|████▌     | 6/13 [00:04<00:04,  1.40it/s]\u001b[A\n",
            "Training: (loss 1.5668):  54%|█████▍    | 7/13 [00:04<00:04,  1.42it/s]\u001b[A\n",
            "Training: (loss 1.1830):  54%|█████▍    | 7/13 [00:05<00:04,  1.42it/s]\u001b[A\n",
            "Training: (loss 1.1830):  62%|██████▏   | 8/13 [00:05<00:03,  1.42it/s]\u001b[A\n",
            "Training: (loss 0.8788):  62%|██████▏   | 8/13 [00:06<00:03,  1.42it/s]\u001b[A\n",
            "Training: (loss 0.8788):  69%|██████▉   | 9/13 [00:06<00:02,  1.42it/s]\u001b[A\n",
            "Training: (loss 1.1208):  69%|██████▉   | 9/13 [00:07<00:02,  1.42it/s]\u001b[A\n",
            "Training: (loss 1.1208):  77%|███████▋  | 10/13 [00:07<00:02,  1.42it/s]\u001b[A\n",
            "Training: (loss 1.0853):  77%|███████▋  | 10/13 [00:07<00:02,  1.42it/s]\u001b[A\n",
            "Training: (loss 1.0853):  85%|████████▍ | 11/13 [00:07<00:01,  1.43it/s]\u001b[A\n",
            "Training: (loss 1.2161):  85%|████████▍ | 11/13 [00:08<00:01,  1.43it/s]\u001b[A\n",
            "Training: (loss 1.2161):  92%|█████████▏| 12/13 [00:08<00:00,  1.43it/s]\u001b[A\n",
            "Training: (loss 0.8888):  92%|█████████▏| 12/13 [00:08<00:00,  1.43it/s]\u001b[A\n",
            "Training: (loss 0.8888): 100%|██████████| 13/13 [00:08<00:00,  1.64it/s]\u001b[A\n",
            "                                                                        \u001b[A\n",
            "Validation:   0%|          | 0/12 [00:00<?, ?it/s]\u001b[A\n",
            "Validation: (loss 1.4194):   0%|          | 0/12 [00:00<?, ?it/s]\u001b[A\n",
            "Validation: (loss 1.4194):   8%|▊         | 1/12 [00:00<00:03,  3.12it/s]\u001b[A\n",
            "Validation: (loss 0.9309):   8%|▊         | 1/12 [00:00<00:03,  3.12it/s]\u001b[A\n",
            "Validation: (loss 0.9309):  17%|█▋        | 2/12 [00:00<00:03,  3.27it/s]\u001b[A\n",
            "Validation: (loss 1.1329):  17%|█▋        | 2/12 [00:00<00:03,  3.27it/s]\u001b[A\n",
            "Validation: (loss 1.1329):  25%|██▌       | 3/12 [00:00<00:02,  3.33it/s]\u001b[A\n",
            "Validation: (loss 0.9574):  25%|██▌       | 3/12 [00:01<00:02,  3.33it/s]\u001b[A\n",
            "Validation: (loss 0.9574):  33%|███▎      | 4/12 [00:01<00:02,  3.42it/s]\u001b[A\n",
            "Validation: (loss 0.9928):  33%|███▎      | 4/12 [00:01<00:02,  3.42it/s]\u001b[A\n",
            "Validation: (loss 0.9928):  42%|████▏     | 5/12 [00:01<00:02,  3.47it/s]\u001b[A\n",
            "Validation: (loss 1.1010):  42%|████▏     | 5/12 [00:01<00:02,  3.47it/s]\u001b[A\n",
            "Validation: (loss 1.1010):  50%|█████     | 6/12 [00:01<00:01,  3.50it/s]\u001b[A\n",
            "Validation: (loss 0.8877):  50%|█████     | 6/12 [00:01<00:01,  3.50it/s]\u001b[A\n",
            "Validation: (loss 0.8877):  58%|█████▊    | 7/12 [00:01<00:01,  3.54it/s]\u001b[A\n",
            "Validation: (loss 1.2245):  58%|█████▊    | 7/12 [00:02<00:01,  3.54it/s]\u001b[A\n",
            "Validation: (loss 1.2245):  67%|██████▋   | 8/12 [00:02<00:01,  3.61it/s]\u001b[A\n",
            "Validation: (loss 1.0127):  67%|██████▋   | 8/12 [00:02<00:01,  3.61it/s]\u001b[A\n",
            "Validation: (loss 1.0127):  75%|███████▌  | 9/12 [00:02<00:00,  3.54it/s]\u001b[A\n",
            "Validation: (loss 0.9604):  75%|███████▌  | 9/12 [00:02<00:00,  3.54it/s]\u001b[A\n",
            "Validation: (loss 0.9604):  83%|████████▎ | 10/12 [00:02<00:00,  3.54it/s]\u001b[A\n",
            "Validation: (loss 1.1653):  83%|████████▎ | 10/12 [00:03<00:00,  3.54it/s]\u001b[A\n",
            "Validation: (loss 1.1653):  92%|█████████▏| 11/12 [00:03<00:00,  3.49it/s]\u001b[A\n",
            "Validation: (loss 0.9429):  92%|█████████▏| 11/12 [00:03<00:00,  3.49it/s]\u001b[A\n",
            "Validation: (loss 0.9429): 100%|██████████| 12/12 [00:03<00:00,  3.59it/s]\u001b[A\n",
            "Progress:  33%|███▎      | 10/30 [02:04<04:09, 12.48s/it]\n",
            "Training:   0%|          | 0/13 [00:00<?, ?it/s]\u001b[A\n",
            "Training: (loss 1.3915):   0%|          | 0/13 [00:00<?, ?it/s]\u001b[A\n",
            "Training: (loss 1.3915):   8%|▊         | 1/13 [00:00<00:09,  1.32it/s]\u001b[A\n",
            "Training: (loss 1.0065):   8%|▊         | 1/13 [00:01<00:09,  1.32it/s]\u001b[A\n",
            "Training: (loss 1.0065):  15%|█▌        | 2/13 [00:01<00:08,  1.36it/s]\u001b[A\n",
            "Training: (loss 0.9012):  15%|█▌        | 2/13 [00:02<00:08,  1.36it/s]\u001b[A\n",
            "Training: (loss 0.9012):  23%|██▎       | 3/13 [00:02<00:07,  1.38it/s]\u001b[A\n",
            "Training: (loss 1.0813):  23%|██▎       | 3/13 [00:02<00:07,  1.38it/s]\u001b[A\n",
            "Training: (loss 1.0813):  31%|███       | 4/13 [00:02<00:06,  1.40it/s]\u001b[A\n",
            "Training: (loss 0.9531):  31%|███       | 4/13 [00:03<00:06,  1.40it/s]\u001b[A\n",
            "Training: (loss 0.9531):  38%|███▊      | 5/13 [00:03<00:05,  1.41it/s]\u001b[A\n",
            "Training: (loss 1.2355):  38%|███▊      | 5/13 [00:04<00:05,  1.41it/s]\u001b[A\n",
            "Training: (loss 1.2355):  46%|████▌     | 6/13 [00:04<00:04,  1.42it/s]\u001b[A\n",
            "Training: (loss 0.9355):  46%|████▌     | 6/13 [00:04<00:04,  1.42it/s]\u001b[A\n",
            "Training: (loss 0.9355):  54%|█████▍    | 7/13 [00:04<00:04,  1.42it/s]\u001b[A\n",
            "Training: (loss 0.9815):  54%|█████▍    | 7/13 [00:05<00:04,  1.42it/s]\u001b[A\n",
            "Training: (loss 0.9815):  62%|██████▏   | 8/13 [00:05<00:03,  1.43it/s]\u001b[A\n",
            "Training: (loss 1.3196):  62%|██████▏   | 8/13 [00:06<00:03,  1.43it/s]\u001b[A\n",
            "Training: (loss 1.3196):  69%|██████▉   | 9/13 [00:06<00:02,  1.43it/s]\u001b[A\n",
            "Training: (loss 0.9604):  69%|██████▉   | 9/13 [00:06<00:02,  1.43it/s]\u001b[A\n",
            "Training: (loss 0.9604):  77%|███████▋  | 10/13 [00:07<00:02,  1.44it/s]\u001b[A\n",
            "Training: (loss 1.1988):  77%|███████▋  | 10/13 [00:07<00:02,  1.44it/s]\u001b[A\n",
            "Training: (loss 1.1988):  85%|████████▍ | 11/13 [00:07<00:01,  1.44it/s]\u001b[A\n",
            "Training: (loss 0.9823):  85%|████████▍ | 11/13 [00:08<00:01,  1.44it/s]\u001b[A\n",
            "Training: (loss 0.9823):  92%|█████████▏| 12/13 [00:08<00:00,  1.44it/s]\u001b[A\n",
            "Training: (loss 0.8615):  92%|█████████▏| 12/13 [00:08<00:00,  1.44it/s]\u001b[A\n",
            "Training: (loss 0.8615): 100%|██████████| 13/13 [00:08<00:00,  1.65it/s]\u001b[A\n",
            "                                                                        \u001b[A\n",
            "Validation:   0%|          | 0/12 [00:00<?, ?it/s]\u001b[A\n",
            "Validation: (loss 1.4066):   0%|          | 0/12 [00:00<?, ?it/s]\u001b[A\n",
            "Validation: (loss 1.4066):   8%|▊         | 1/12 [00:00<00:03,  3.16it/s]\u001b[A\n",
            "Validation: (loss 0.9027):   8%|▊         | 1/12 [00:00<00:03,  3.16it/s]\u001b[A\n",
            "Validation: (loss 0.9027):  17%|█▋        | 2/12 [00:00<00:03,  3.27it/s]\u001b[A\n",
            "Validation: (loss 1.1435):  17%|█▋        | 2/12 [00:00<00:03,  3.27it/s]\u001b[A\n",
            "Validation: (loss 1.1435):  25%|██▌       | 3/12 [00:00<00:02,  3.32it/s]\u001b[A\n",
            "Validation: (loss 0.9640):  25%|██▌       | 3/12 [00:01<00:02,  3.32it/s]\u001b[A\n",
            "Validation: (loss 0.9640):  33%|███▎      | 4/12 [00:01<00:02,  3.40it/s]\u001b[A\n",
            "Validation: (loss 0.9443):  33%|███▎      | 4/12 [00:01<00:02,  3.40it/s]\u001b[A\n",
            "Validation: (loss 0.9443):  42%|████▏     | 5/12 [00:01<00:01,  3.52it/s]\u001b[A\n",
            "Validation: (loss 1.1206):  42%|████▏     | 5/12 [00:01<00:01,  3.52it/s]\u001b[A\n",
            "Validation: (loss 1.1206):  50%|█████     | 6/12 [00:01<00:01,  3.56it/s]\u001b[A\n",
            "Validation: (loss 0.8425):  50%|█████     | 6/12 [00:01<00:01,  3.56it/s]\u001b[A\n",
            "Validation: (loss 0.8425):  58%|█████▊    | 7/12 [00:01<00:01,  3.59it/s]\u001b[A\n",
            "Validation: (loss 1.1922):  58%|█████▊    | 7/12 [00:02<00:01,  3.59it/s]\u001b[A\n",
            "Validation: (loss 1.1922):  67%|██████▋   | 8/12 [00:02<00:01,  3.61it/s]\u001b[A\n",
            "Validation: (loss 1.0222):  67%|██████▋   | 8/12 [00:02<00:01,  3.61it/s]\u001b[A\n",
            "Validation: (loss 1.0222):  75%|███████▌  | 9/12 [00:02<00:00,  3.64it/s]\u001b[A\n",
            "Validation: (loss 0.9315):  75%|███████▌  | 9/12 [00:02<00:00,  3.64it/s]\u001b[A\n",
            "Validation: (loss 0.9315):  83%|████████▎ | 10/12 [00:02<00:00,  3.60it/s]\u001b[A\n",
            "Validation: (loss 1.1252):  83%|████████▎ | 10/12 [00:03<00:00,  3.60it/s]\u001b[A\n",
            "Validation: (loss 1.1252):  92%|█████████▏| 11/12 [00:03<00:00,  3.56it/s]\u001b[A\n",
            "Validation: (loss 0.9019):  92%|█████████▏| 11/12 [00:03<00:00,  3.56it/s]\u001b[A\n",
            "Validation: (loss 0.9019): 100%|██████████| 12/12 [00:03<00:00,  3.58it/s]\u001b[A\n",
            "Progress:  37%|███▋      | 11/30 [02:16<03:56, 12.45s/it]\n",
            "Training:   0%|          | 0/13 [00:00<?, ?it/s]\u001b[A\n",
            "Training: (loss 1.1160):   0%|          | 0/13 [00:00<?, ?it/s]\u001b[A\n",
            "Training: (loss 1.1160):   8%|▊         | 1/13 [00:00<00:08,  1.36it/s]\u001b[A\n",
            "Training: (loss 0.9010):   8%|▊         | 1/13 [00:01<00:08,  1.36it/s]\u001b[A\n",
            "Training: (loss 0.9010):  15%|█▌        | 2/13 [00:01<00:07,  1.38it/s]\u001b[A\n",
            "Training: (loss 0.9785):  15%|█▌        | 2/13 [00:02<00:07,  1.38it/s]\u001b[A\n",
            "Training: (loss 0.9785):  23%|██▎       | 3/13 [00:02<00:07,  1.39it/s]\u001b[A\n",
            "Training: (loss 1.2861):  23%|██▎       | 3/13 [00:02<00:07,  1.39it/s]\u001b[A\n",
            "Training: (loss 1.2861):  31%|███       | 4/13 [00:02<00:06,  1.40it/s]\u001b[A\n",
            "Training: (loss 1.0396):  31%|███       | 4/13 [00:03<00:06,  1.40it/s]\u001b[A\n",
            "Training: (loss 1.0396):  38%|███▊      | 5/13 [00:03<00:05,  1.42it/s]\u001b[A\n",
            "Training: (loss 0.9095):  38%|███▊      | 5/13 [00:04<00:05,  1.42it/s]\u001b[A\n",
            "Training: (loss 0.9095):  46%|████▌     | 6/13 [00:04<00:04,  1.43it/s]\u001b[A\n",
            "Training: (loss 1.0383):  46%|████▌     | 6/13 [00:04<00:04,  1.43it/s]\u001b[A\n",
            "Training: (loss 1.0383):  54%|█████▍    | 7/13 [00:04<00:04,  1.42it/s]\u001b[A\n",
            "Training: (loss 0.9890):  54%|█████▍    | 7/13 [00:05<00:04,  1.42it/s]\u001b[A\n",
            "Training: (loss 0.9890):  62%|██████▏   | 8/13 [00:05<00:03,  1.43it/s]\u001b[A\n",
            "Training: (loss 1.1212):  62%|██████▏   | 8/13 [00:06<00:03,  1.43it/s]\u001b[A\n",
            "Training: (loss 1.1212):  69%|██████▉   | 9/13 [00:06<00:02,  1.44it/s]\u001b[A\n",
            "Training: (loss 1.0353):  69%|██████▉   | 9/13 [00:07<00:02,  1.44it/s]\u001b[A\n",
            "Training: (loss 1.0353):  77%|███████▋  | 10/13 [00:07<00:02,  1.43it/s]\u001b[A\n",
            "Training: (loss 1.0006):  77%|███████▋  | 10/13 [00:07<00:02,  1.43it/s]\u001b[A\n",
            "Training: (loss 1.0006):  85%|████████▍ | 11/13 [00:07<00:01,  1.43it/s]\u001b[A\n",
            "Training: (loss 0.9431):  85%|████████▍ | 11/13 [00:08<00:01,  1.43it/s]\u001b[A\n",
            "Training: (loss 0.9431):  92%|█████████▏| 12/13 [00:08<00:00,  1.43it/s]\u001b[A\n",
            "Training: (loss 0.8907):  92%|█████████▏| 12/13 [00:08<00:00,  1.43it/s]\u001b[A\n",
            "Training: (loss 0.8907): 100%|██████████| 13/13 [00:08<00:00,  1.65it/s]\u001b[A\n",
            "                                                                        \u001b[A\n",
            "Validation:   0%|          | 0/12 [00:00<?, ?it/s]\u001b[A\n",
            "Validation: (loss 1.4120):   0%|          | 0/12 [00:00<?, ?it/s]\u001b[A\n",
            "Validation: (loss 1.4120):   8%|▊         | 1/12 [00:00<00:03,  2.90it/s]\u001b[A\n",
            "Validation: (loss 0.9427):   8%|▊         | 1/12 [00:00<00:03,  2.90it/s]\u001b[A\n",
            "Validation: (loss 0.9427):  17%|█▋        | 2/12 [00:00<00:03,  3.14it/s]\u001b[A\n",
            "Validation: (loss 1.1521):  17%|█▋        | 2/12 [00:00<00:03,  3.14it/s]\u001b[A\n",
            "Validation: (loss 1.1521):  25%|██▌       | 3/12 [00:00<00:02,  3.18it/s]\u001b[A\n",
            "Validation: (loss 1.0619):  25%|██▌       | 3/12 [00:01<00:02,  3.18it/s]\u001b[A\n",
            "Validation: (loss 1.0619):  33%|███▎      | 4/12 [00:01<00:02,  3.23it/s]\u001b[A\n",
            "Validation: (loss 0.9973):  33%|███▎      | 4/12 [00:01<00:02,  3.23it/s]\u001b[A\n",
            "Validation: (loss 0.9973):  42%|████▏     | 5/12 [00:01<00:02,  3.31it/s]\u001b[A\n",
            "Validation: (loss 1.1002):  42%|████▏     | 5/12 [00:01<00:02,  3.31it/s]\u001b[A\n",
            "Validation: (loss 1.1002):  50%|█████     | 6/12 [00:01<00:01,  3.42it/s]\u001b[A\n",
            "Validation: (loss 0.8494):  50%|█████     | 6/12 [00:02<00:01,  3.42it/s]\u001b[A\n",
            "Validation: (loss 0.8494):  58%|█████▊    | 7/12 [00:02<00:01,  3.44it/s]\u001b[A\n",
            "Validation: (loss 1.1897):  58%|█████▊    | 7/12 [00:02<00:01,  3.44it/s]\u001b[A\n",
            "Validation: (loss 1.1897):  67%|██████▋   | 8/12 [00:02<00:01,  3.48it/s]\u001b[A\n",
            "Validation: (loss 1.1012):  67%|██████▋   | 8/12 [00:02<00:01,  3.48it/s]\u001b[A\n",
            "Validation: (loss 1.1012):  75%|███████▌  | 9/12 [00:02<00:00,  3.50it/s]\u001b[A\n",
            "Validation: (loss 0.9872):  75%|███████▌  | 9/12 [00:02<00:00,  3.50it/s]\u001b[A\n",
            "Validation: (loss 0.9872):  83%|████████▎ | 10/12 [00:02<00:00,  3.60it/s]\u001b[A\n",
            "Validation: (loss 1.1572):  83%|████████▎ | 10/12 [00:03<00:00,  3.60it/s]\u001b[A\n",
            "Validation: (loss 1.1572):  92%|█████████▏| 11/12 [00:03<00:00,  3.58it/s]\u001b[A\n",
            "Validation: (loss 0.9264):  92%|█████████▏| 11/12 [00:03<00:00,  3.58it/s]\u001b[A\n",
            "Validation: (loss 0.9264): 100%|██████████| 12/12 [00:03<00:00,  3.61it/s]\u001b[A\n",
            "Progress:  40%|████      | 12/30 [02:29<03:43, 12.44s/it]\n",
            "Training:   0%|          | 0/13 [00:00<?, ?it/s]\u001b[A\n",
            "Training: (loss 0.9757):   0%|          | 0/13 [00:00<?, ?it/s]\u001b[A\n",
            "Training: (loss 0.9757):   8%|▊         | 1/13 [00:00<00:08,  1.34it/s]\u001b[A\n",
            "Training: (loss 1.0174):   8%|▊         | 1/13 [00:01<00:08,  1.34it/s]\u001b[A\n",
            "Training: (loss 1.0174):  15%|█▌        | 2/13 [00:01<00:08,  1.37it/s]\u001b[A\n",
            "Training: (loss 0.9811):  15%|█▌        | 2/13 [00:02<00:08,  1.37it/s]\u001b[A\n",
            "Training: (loss 0.9811):  23%|██▎       | 3/13 [00:02<00:07,  1.38it/s]\u001b[A\n",
            "Training: (loss 0.9957):  23%|██▎       | 3/13 [00:02<00:07,  1.38it/s]\u001b[A\n",
            "Training: (loss 0.9957):  31%|███       | 4/13 [00:02<00:06,  1.40it/s]\u001b[A\n",
            "Training: (loss 0.9883):  31%|███       | 4/13 [00:03<00:06,  1.40it/s]\u001b[A\n",
            "Training: (loss 0.9883):  38%|███▊      | 5/13 [00:03<00:05,  1.41it/s]\u001b[A\n",
            "Training: (loss 0.9174):  38%|███▊      | 5/13 [00:04<00:05,  1.41it/s]\u001b[A\n",
            "Training: (loss 0.9174):  46%|████▌     | 6/13 [00:04<00:04,  1.41it/s]\u001b[A\n",
            "Training: (loss 0.9349):  46%|████▌     | 6/13 [00:04<00:04,  1.41it/s]\u001b[A\n",
            "Training: (loss 0.9349):  54%|█████▍    | 7/13 [00:04<00:04,  1.41it/s]\u001b[A\n",
            "Training: (loss 1.1949):  54%|█████▍    | 7/13 [00:05<00:04,  1.41it/s]\u001b[A\n",
            "Training: (loss 1.1949):  62%|██████▏   | 8/13 [00:05<00:03,  1.43it/s]\u001b[A\n",
            "Training: (loss 0.9563):  62%|██████▏   | 8/13 [00:06<00:03,  1.43it/s]\u001b[A\n",
            "Training: (loss 0.9563):  69%|██████▉   | 9/13 [00:06<00:02,  1.42it/s]\u001b[A\n",
            "Training: (loss 1.0500):  69%|██████▉   | 9/13 [00:07<00:02,  1.42it/s]\u001b[A\n",
            "Training: (loss 1.0500):  77%|███████▋  | 10/13 [00:07<00:02,  1.42it/s]\u001b[A\n",
            "Training: (loss 0.9023):  77%|███████▋  | 10/13 [00:07<00:02,  1.42it/s]\u001b[A\n",
            "Training: (loss 0.9023):  85%|████████▍ | 11/13 [00:07<00:01,  1.42it/s]\u001b[A\n",
            "Training: (loss 1.0226):  85%|████████▍ | 11/13 [00:08<00:01,  1.42it/s]\u001b[A\n",
            "Training: (loss 1.0226):  92%|█████████▏| 12/13 [00:08<00:00,  1.43it/s]\u001b[A\n",
            "Training: (loss 1.3415):  92%|█████████▏| 12/13 [00:08<00:00,  1.43it/s]\u001b[A\n",
            "Training: (loss 1.3415): 100%|██████████| 13/13 [00:08<00:00,  1.65it/s]\u001b[A\n",
            "                                                                        \u001b[A\n",
            "Validation:   0%|          | 0/12 [00:00<?, ?it/s]\u001b[A\n",
            "Validation: (loss 1.3837):   0%|          | 0/12 [00:00<?, ?it/s]\u001b[A\n",
            "Validation: (loss 1.3837):   8%|▊         | 1/12 [00:00<00:03,  2.93it/s]\u001b[A\n",
            "Validation: (loss 0.9461):   8%|▊         | 1/12 [00:00<00:03,  2.93it/s]\u001b[A\n",
            "Validation: (loss 0.9461):  17%|█▋        | 2/12 [00:00<00:03,  3.09it/s]\u001b[A\n",
            "Validation: (loss 1.1331):  17%|█▋        | 2/12 [00:00<00:03,  3.09it/s]\u001b[A\n",
            "Validation: (loss 1.1331):  25%|██▌       | 3/12 [00:00<00:02,  3.25it/s]\u001b[A\n",
            "Validation: (loss 1.0250):  25%|██▌       | 3/12 [00:01<00:02,  3.25it/s]\u001b[A\n",
            "Validation: (loss 1.0250):  33%|███▎      | 4/12 [00:01<00:02,  3.33it/s]\u001b[A\n",
            "Validation: (loss 0.9799):  33%|███▎      | 4/12 [00:01<00:02,  3.33it/s]\u001b[A\n",
            "Validation: (loss 0.9799):  42%|████▏     | 5/12 [00:01<00:02,  3.40it/s]\u001b[A\n",
            "Validation: (loss 1.1175):  42%|████▏     | 5/12 [00:01<00:02,  3.40it/s]\u001b[A\n",
            "Validation: (loss 1.1175):  50%|█████     | 6/12 [00:01<00:01,  3.44it/s]\u001b[A\n",
            "Validation: (loss 0.8532):  50%|█████     | 6/12 [00:01<00:01,  3.44it/s]\u001b[A\n",
            "Validation: (loss 0.8532):  58%|█████▊    | 7/12 [00:02<00:01,  3.52it/s]\u001b[A\n",
            "Validation: (loss 1.1472):  58%|█████▊    | 7/12 [00:02<00:01,  3.52it/s]\u001b[A\n",
            "Validation: (loss 1.1472):  67%|██████▋   | 8/12 [00:02<00:01,  3.51it/s]\u001b[A\n",
            "Validation: (loss 1.0600):  67%|██████▋   | 8/12 [00:02<00:01,  3.51it/s]\u001b[A\n",
            "Validation: (loss 1.0600):  75%|███████▌  | 9/12 [00:02<00:00,  3.55it/s]\u001b[A\n",
            "Validation: (loss 0.9422):  75%|███████▌  | 9/12 [00:02<00:00,  3.55it/s]\u001b[A\n",
            "Validation: (loss 0.9422):  83%|████████▎ | 10/12 [00:02<00:00,  3.56it/s]\u001b[A\n",
            "Validation: (loss 1.1133):  83%|████████▎ | 10/12 [00:03<00:00,  3.56it/s]\u001b[A\n",
            "Validation: (loss 1.1133):  92%|█████████▏| 11/12 [00:03<00:00,  3.62it/s]\u001b[A\n",
            "Validation: (loss 0.9370):  92%|█████████▏| 11/12 [00:03<00:00,  3.62it/s]\u001b[A\n",
            "Validation: (loss 0.9370): 100%|██████████| 12/12 [00:03<00:00,  3.61it/s]\u001b[A\n",
            "Progress:  43%|████▎     | 13/30 [02:41<03:31, 12.44s/it]\n",
            "Training:   0%|          | 0/13 [00:00<?, ?it/s]\u001b[A\n",
            "Training: (loss 0.9399):   0%|          | 0/13 [00:00<?, ?it/s]\u001b[A\n",
            "Training: (loss 0.9399):   8%|▊         | 1/13 [00:00<00:08,  1.34it/s]\u001b[A\n",
            "Training: (loss 1.4226):   8%|▊         | 1/13 [00:01<00:08,  1.34it/s]\u001b[A\n",
            "Training: (loss 1.4226):  15%|█▌        | 2/13 [00:01<00:08,  1.36it/s]\u001b[A\n",
            "Training: (loss 1.0899):  15%|█▌        | 2/13 [00:02<00:08,  1.36it/s]\u001b[A\n",
            "Training: (loss 1.0899):  23%|██▎       | 3/13 [00:02<00:07,  1.39it/s]\u001b[A\n",
            "Training: (loss 0.9218):  23%|██▎       | 3/13 [00:02<00:07,  1.39it/s]\u001b[A\n",
            "Training: (loss 0.9218):  31%|███       | 4/13 [00:02<00:06,  1.40it/s]\u001b[A\n",
            "Training: (loss 1.1800):  31%|███       | 4/13 [00:03<00:06,  1.40it/s]\u001b[A\n",
            "Training: (loss 1.1800):  38%|███▊      | 5/13 [00:03<00:05,  1.40it/s]\u001b[A\n",
            "Training: (loss 1.0717):  38%|███▊      | 5/13 [00:04<00:05,  1.40it/s]\u001b[A\n",
            "Training: (loss 1.0717):  46%|████▌     | 6/13 [00:04<00:04,  1.41it/s]\u001b[A\n",
            "Training: (loss 1.1503):  46%|████▌     | 6/13 [00:04<00:04,  1.41it/s]\u001b[A\n",
            "Training: (loss 1.1503):  54%|█████▍    | 7/13 [00:04<00:04,  1.43it/s]\u001b[A\n",
            "Training: (loss 0.9442):  54%|█████▍    | 7/13 [00:05<00:04,  1.43it/s]\u001b[A\n",
            "Training: (loss 0.9442):  62%|██████▏   | 8/13 [00:05<00:03,  1.43it/s]\u001b[A\n",
            "Training: (loss 0.9586):  62%|██████▏   | 8/13 [00:06<00:03,  1.43it/s]\u001b[A\n",
            "Training: (loss 0.9586):  69%|██████▉   | 9/13 [00:06<00:02,  1.42it/s]\u001b[A\n",
            "Training: (loss 0.9517):  69%|██████▉   | 9/13 [00:07<00:02,  1.42it/s]\u001b[A\n",
            "Training: (loss 0.9517):  77%|███████▋  | 10/13 [00:07<00:02,  1.43it/s]\u001b[A\n",
            "Training: (loss 1.1231):  77%|███████▋  | 10/13 [00:07<00:02,  1.43it/s]\u001b[A\n",
            "Training: (loss 1.1231):  85%|████████▍ | 11/13 [00:07<00:01,  1.43it/s]\u001b[A\n",
            "Training: (loss 0.8939):  85%|████████▍ | 11/13 [00:08<00:01,  1.43it/s]\u001b[A\n",
            "Training: (loss 0.8939):  92%|█████████▏| 12/13 [00:08<00:00,  1.43it/s]\u001b[A\n",
            "Training: (loss 1.0788):  92%|█████████▏| 12/13 [00:08<00:00,  1.43it/s]\u001b[A\n",
            "Training: (loss 1.0788): 100%|██████████| 13/13 [00:08<00:00,  1.64it/s]\u001b[A\n",
            "                                                                        \u001b[A\n",
            "Validation:   0%|          | 0/12 [00:00<?, ?it/s]\u001b[A\n",
            "Validation: (loss 1.4287):   0%|          | 0/12 [00:00<?, ?it/s]\u001b[A\n",
            "Validation: (loss 1.4287):   8%|▊         | 1/12 [00:00<00:03,  2.88it/s]\u001b[A\n",
            "Validation: (loss 0.8963):   8%|▊         | 1/12 [00:00<00:03,  2.88it/s]\u001b[A\n",
            "Validation: (loss 0.8963):  17%|█▋        | 2/12 [00:00<00:03,  3.03it/s]\u001b[A\n",
            "Validation: (loss 1.1215):  17%|█▋        | 2/12 [00:00<00:03,  3.03it/s]\u001b[A\n",
            "Validation: (loss 1.1215):  25%|██▌       | 3/12 [00:00<00:02,  3.14it/s]\u001b[A\n",
            "Validation: (loss 0.9533):  25%|██▌       | 3/12 [00:01<00:02,  3.14it/s]\u001b[A\n",
            "Validation: (loss 0.9533):  33%|███▎      | 4/12 [00:01<00:02,  3.32it/s]\u001b[A\n",
            "Validation: (loss 0.9291):  33%|███▎      | 4/12 [00:01<00:02,  3.32it/s]\u001b[A\n",
            "Validation: (loss 0.9291):  42%|████▏     | 5/12 [00:01<00:02,  3.37it/s]\u001b[A\n",
            "Validation: (loss 1.1743):  42%|████▏     | 5/12 [00:01<00:02,  3.37it/s]\u001b[A\n",
            "Validation: (loss 1.1743):  50%|█████     | 6/12 [00:01<00:01,  3.43it/s]\u001b[A\n",
            "Validation: (loss 0.8644):  50%|█████     | 6/12 [00:02<00:01,  3.43it/s]\u001b[A\n",
            "Validation: (loss 0.8644):  58%|█████▊    | 7/12 [00:02<00:01,  3.46it/s]\u001b[A\n",
            "Validation: (loss 1.1996):  58%|█████▊    | 7/12 [00:02<00:01,  3.46it/s]\u001b[A\n",
            "Validation: (loss 1.1996):  67%|██████▋   | 8/12 [00:02<00:01,  3.53it/s]\u001b[A\n",
            "Validation: (loss 1.0092):  67%|██████▋   | 8/12 [00:02<00:01,  3.53it/s]\u001b[A\n",
            "Validation: (loss 1.0092):  75%|███████▌  | 9/12 [00:02<00:00,  3.51it/s]\u001b[A\n",
            "Validation: (loss 0.9494):  75%|███████▌  | 9/12 [00:02<00:00,  3.51it/s]\u001b[A\n",
            "Validation: (loss 0.9494):  83%|████████▎ | 10/12 [00:02<00:00,  3.54it/s]\u001b[A\n",
            "Validation: (loss 1.1373):  83%|████████▎ | 10/12 [00:03<00:00,  3.54it/s]\u001b[A\n",
            "Validation: (loss 1.1373):  92%|█████████▏| 11/12 [00:03<00:00,  3.55it/s]\u001b[A\n",
            "Validation: (loss 0.9140):  92%|█████████▏| 11/12 [00:03<00:00,  3.55it/s]\u001b[A\n",
            "Validation: (loss 0.9140): 100%|██████████| 12/12 [00:03<00:00,  3.60it/s]\u001b[A\n",
            "Progress:  47%|████▋     | 14/30 [02:54<03:19, 12.44s/it]\n",
            "Training:   0%|          | 0/13 [00:00<?, ?it/s]\u001b[A\n",
            "Training: (loss 1.1221):   0%|          | 0/13 [00:00<?, ?it/s]\u001b[A\n",
            "Training: (loss 1.1221):   8%|▊         | 1/13 [00:00<00:08,  1.33it/s]\u001b[A\n",
            "Training: (loss 0.8954):   8%|▊         | 1/13 [00:01<00:08,  1.33it/s]\u001b[A\n",
            "Training: (loss 0.8954):  15%|█▌        | 2/13 [00:01<00:08,  1.36it/s]\u001b[A\n",
            "Training: (loss 1.0601):  15%|█▌        | 2/13 [00:02<00:08,  1.36it/s]\u001b[A\n",
            "Training: (loss 1.0601):  23%|██▎       | 3/13 [00:02<00:07,  1.38it/s]\u001b[A\n",
            "Training: (loss 0.9015):  23%|██▎       | 3/13 [00:02<00:07,  1.38it/s]\u001b[A\n",
            "Training: (loss 0.9015):  31%|███       | 4/13 [00:02<00:06,  1.39it/s]\u001b[A\n",
            "Training: (loss 0.9495):  31%|███       | 4/13 [00:03<00:06,  1.39it/s]\u001b[A\n",
            "Training: (loss 0.9495):  38%|███▊      | 5/13 [00:03<00:05,  1.39it/s]\u001b[A\n",
            "Training: (loss 1.0209):  38%|███▊      | 5/13 [00:04<00:05,  1.39it/s]\u001b[A\n",
            "Training: (loss 1.0209):  46%|████▌     | 6/13 [00:04<00:04,  1.40it/s]\u001b[A\n",
            "Training: (loss 1.0010):  46%|████▌     | 6/13 [00:04<00:04,  1.40it/s]\u001b[A\n",
            "Training: (loss 1.0010):  54%|█████▍    | 7/13 [00:04<00:04,  1.40it/s]\u001b[A\n",
            "Training: (loss 0.9777):  54%|█████▍    | 7/13 [00:05<00:04,  1.40it/s]\u001b[A\n",
            "Training: (loss 0.9777):  62%|██████▏   | 8/13 [00:05<00:03,  1.40it/s]\u001b[A\n",
            "Training: (loss 0.9053):  62%|██████▏   | 8/13 [00:06<00:03,  1.40it/s]\u001b[A\n",
            "Training: (loss 0.9053):  69%|██████▉   | 9/13 [00:06<00:02,  1.41it/s]\u001b[A\n",
            "Training: (loss 1.0652):  69%|██████▉   | 9/13 [00:07<00:02,  1.41it/s]\u001b[A\n",
            "Training: (loss 1.0652):  77%|███████▋  | 10/13 [00:07<00:02,  1.42it/s]\u001b[A\n",
            "Training: (loss 1.1194):  77%|███████▋  | 10/13 [00:07<00:02,  1.42it/s]\u001b[A\n",
            "Training: (loss 1.1194):  85%|████████▍ | 11/13 [00:07<00:01,  1.42it/s]\u001b[A\n",
            "Training: (loss 0.8733):  85%|████████▍ | 11/13 [00:08<00:01,  1.42it/s]\u001b[A\n",
            "Training: (loss 0.8733):  92%|█████████▏| 12/13 [00:08<00:00,  1.42it/s]\u001b[A\n",
            "Training: (loss 1.4471):  92%|█████████▏| 12/13 [00:08<00:00,  1.42it/s]\u001b[A\n",
            "Training: (loss 1.4471): 100%|██████████| 13/13 [00:08<00:00,  1.64it/s]\u001b[A\n",
            "                                                                        \u001b[A\n",
            "Validation:   0%|          | 0/12 [00:00<?, ?it/s]\u001b[A\n",
            "Validation: (loss 1.4582):   0%|          | 0/12 [00:00<?, ?it/s]\u001b[A\n",
            "Validation: (loss 1.4582):   8%|▊         | 1/12 [00:00<00:03,  3.13it/s]\u001b[A\n",
            "Validation: (loss 0.9082):   8%|▊         | 1/12 [00:00<00:03,  3.13it/s]\u001b[A\n",
            "Validation: (loss 0.9082):  17%|█▋        | 2/12 [00:00<00:03,  3.27it/s]\u001b[A\n",
            "Validation: (loss 1.1246):  17%|█▋        | 2/12 [00:00<00:03,  3.27it/s]\u001b[A\n",
            "Validation: (loss 1.1246):  25%|██▌       | 3/12 [00:00<00:02,  3.32it/s]\u001b[A\n",
            "Validation: (loss 0.9754):  25%|██▌       | 3/12 [00:01<00:02,  3.32it/s]\u001b[A\n",
            "Validation: (loss 0.9754):  33%|███▎      | 4/12 [00:01<00:02,  3.35it/s]\u001b[A\n",
            "Validation: (loss 0.9625):  33%|███▎      | 4/12 [00:01<00:02,  3.35it/s]\u001b[A\n",
            "Validation: (loss 0.9625):  42%|████▏     | 5/12 [00:01<00:02,  3.48it/s]\u001b[A\n",
            "Validation: (loss 1.0828):  42%|████▏     | 5/12 [00:01<00:02,  3.48it/s]\u001b[A\n",
            "Validation: (loss 1.0828):  50%|█████     | 6/12 [00:01<00:01,  3.50it/s]\u001b[A\n",
            "Validation: (loss 0.8428):  50%|█████     | 6/12 [00:01<00:01,  3.50it/s]\u001b[A\n",
            "Validation: (loss 0.8428):  58%|█████▊    | 7/12 [00:02<00:01,  3.53it/s]\u001b[A\n",
            "Validation: (loss 1.1802):  58%|█████▊    | 7/12 [00:02<00:01,  3.53it/s]\u001b[A\n",
            "Validation: (loss 1.1802):  67%|██████▋   | 8/12 [00:02<00:01,  3.54it/s]\u001b[A\n",
            "Validation: (loss 1.1222):  67%|██████▋   | 8/12 [00:02<00:01,  3.54it/s]\u001b[A\n",
            "Validation: (loss 1.1222):  75%|███████▌  | 9/12 [00:02<00:00,  3.61it/s]\u001b[A\n",
            "Validation: (loss 0.9655):  75%|███████▌  | 9/12 [00:02<00:00,  3.61it/s]\u001b[A\n",
            "Validation: (loss 0.9655):  83%|████████▎ | 10/12 [00:02<00:00,  3.58it/s]\u001b[A\n",
            "Validation: (loss 1.1059):  83%|████████▎ | 10/12 [00:03<00:00,  3.58it/s]\u001b[A\n",
            "Validation: (loss 1.1059):  92%|█████████▏| 11/12 [00:03<00:00,  3.61it/s]\u001b[A\n",
            "Validation: (loss 0.8849):  92%|█████████▏| 11/12 [00:03<00:00,  3.61it/s]\u001b[A\n",
            "Validation: (loss 0.8849): 100%|██████████| 12/12 [00:03<00:00,  3.60it/s]\u001b[A\n",
            "Progress:  50%|█████     | 15/30 [03:06<03:06, 12.46s/it]\n",
            "Training:   0%|          | 0/13 [00:00<?, ?it/s]\u001b[A\n",
            "Training: (loss 1.4611):   0%|          | 0/13 [00:00<?, ?it/s]\u001b[A\n",
            "Training: (loss 1.4611):   8%|▊         | 1/13 [00:00<00:08,  1.35it/s]\u001b[A\n",
            "Training: (loss 1.2543):   8%|▊         | 1/13 [00:01<00:08,  1.35it/s]\u001b[A\n",
            "Training: (loss 1.2543):  15%|█▌        | 2/13 [00:01<00:08,  1.37it/s]\u001b[A\n",
            "Training: (loss 0.8583):  15%|█▌        | 2/13 [00:02<00:08,  1.37it/s]\u001b[A\n",
            "Training: (loss 0.8583):  23%|██▎       | 3/13 [00:02<00:07,  1.38it/s]\u001b[A\n",
            "Training: (loss 1.1018):  23%|██▎       | 3/13 [00:02<00:07,  1.38it/s]\u001b[A\n",
            "Training: (loss 1.1018):  31%|███       | 4/13 [00:02<00:06,  1.39it/s]\u001b[A\n",
            "Training: (loss 0.9483):  31%|███       | 4/13 [00:03<00:06,  1.39it/s]\u001b[A\n",
            "Training: (loss 0.9483):  38%|███▊      | 5/13 [00:03<00:05,  1.42it/s]\u001b[A\n",
            "Training: (loss 1.1155):  38%|███▊      | 5/13 [00:04<00:05,  1.42it/s]\u001b[A\n",
            "Training: (loss 1.1155):  46%|████▌     | 6/13 [00:04<00:04,  1.42it/s]\u001b[A\n",
            "Training: (loss 1.1229):  46%|████▌     | 6/13 [00:04<00:04,  1.42it/s]\u001b[A\n",
            "Training: (loss 1.1229):  54%|█████▍    | 7/13 [00:04<00:04,  1.43it/s]\u001b[A\n",
            "Training: (loss 0.9723):  54%|█████▍    | 7/13 [00:05<00:04,  1.43it/s]\u001b[A\n",
            "Training: (loss 0.9723):  62%|██████▏   | 8/13 [00:05<00:03,  1.42it/s]\u001b[A\n",
            "Training: (loss 0.9016):  62%|██████▏   | 8/13 [00:06<00:03,  1.42it/s]\u001b[A\n",
            "Training: (loss 0.9016):  69%|██████▉   | 9/13 [00:06<00:02,  1.43it/s]\u001b[A\n",
            "Training: (loss 0.9052):  69%|██████▉   | 9/13 [00:07<00:02,  1.43it/s]\u001b[A\n",
            "Training: (loss 0.9052):  77%|███████▋  | 10/13 [00:07<00:02,  1.43it/s]\u001b[A\n",
            "Training: (loss 0.8980):  77%|███████▋  | 10/13 [00:07<00:02,  1.43it/s]\u001b[A\n",
            "Training: (loss 0.8980):  85%|████████▍ | 11/13 [00:07<00:01,  1.43it/s]\u001b[A\n",
            "Training: (loss 1.2794):  85%|████████▍ | 11/13 [00:08<00:01,  1.43it/s]\u001b[A\n",
            "Training: (loss 1.2794):  92%|█████████▏| 12/13 [00:08<00:00,  1.43it/s]\u001b[A\n",
            "Training: (loss 0.8501):  92%|█████████▏| 12/13 [00:08<00:00,  1.43it/s]\u001b[A\n",
            "Training: (loss 0.8501): 100%|██████████| 13/13 [00:08<00:00,  1.65it/s]\u001b[A\n",
            "                                                                        \u001b[A\n",
            "Validation:   0%|          | 0/12 [00:00<?, ?it/s]\u001b[A\n",
            "Validation: (loss 1.4220):   0%|          | 0/12 [00:00<?, ?it/s]\u001b[A\n",
            "Validation: (loss 1.4220):   8%|▊         | 1/12 [00:00<00:04,  2.73it/s]\u001b[A\n",
            "Validation: (loss 0.9228):   8%|▊         | 1/12 [00:00<00:04,  2.73it/s]\u001b[A\n",
            "Validation: (loss 0.9228):  17%|█▋        | 2/12 [00:00<00:03,  2.96it/s]\u001b[A\n",
            "Validation: (loss 1.1813):  17%|█▋        | 2/12 [00:00<00:03,  2.96it/s]\u001b[A\n",
            "Validation: (loss 1.1813):  25%|██▌       | 3/12 [00:00<00:02,  3.12it/s]\u001b[A\n",
            "Validation: (loss 0.9215):  25%|██▌       | 3/12 [00:01<00:02,  3.12it/s]\u001b[A\n",
            "Validation: (loss 0.9215):  33%|███▎      | 4/12 [00:01<00:02,  3.19it/s]\u001b[A\n",
            "Validation: (loss 0.9684):  33%|███▎      | 4/12 [00:01<00:02,  3.19it/s]\u001b[A\n",
            "Validation: (loss 0.9684):  42%|████▏     | 5/12 [00:01<00:02,  3.27it/s]\u001b[A\n",
            "Validation: (loss 1.1293):  42%|████▏     | 5/12 [00:01<00:02,  3.27it/s]\u001b[A\n",
            "Validation: (loss 1.1293):  50%|█████     | 6/12 [00:01<00:01,  3.40it/s]\u001b[A\n",
            "Validation: (loss 0.8742):  50%|█████     | 6/12 [00:02<00:01,  3.40it/s]\u001b[A\n",
            "Validation: (loss 0.8742):  58%|█████▊    | 7/12 [00:02<00:01,  3.42it/s]\u001b[A\n",
            "Validation: (loss 1.1671):  58%|█████▊    | 7/12 [00:02<00:01,  3.42it/s]\u001b[A\n",
            "Validation: (loss 1.1671):  67%|██████▋   | 8/12 [00:02<00:01,  3.46it/s]\u001b[A\n",
            "Validation: (loss 0.9718):  67%|██████▋   | 8/12 [00:02<00:01,  3.46it/s]\u001b[A\n",
            "Validation: (loss 0.9718):  75%|███████▌  | 9/12 [00:02<00:00,  3.44it/s]\u001b[A\n",
            "Validation: (loss 0.9693):  75%|███████▌  | 9/12 [00:02<00:00,  3.44it/s]\u001b[A\n",
            "Validation: (loss 0.9693):  83%|████████▎ | 10/12 [00:02<00:00,  3.51it/s]\u001b[A\n",
            "Validation: (loss 1.1534):  83%|████████▎ | 10/12 [00:03<00:00,  3.51it/s]\u001b[A\n",
            "Validation: (loss 1.1534):  92%|█████████▏| 11/12 [00:03<00:00,  3.49it/s]\u001b[A\n",
            "Validation: (loss 0.9133):  92%|█████████▏| 11/12 [00:03<00:00,  3.49it/s]\u001b[A\n",
            "Validation: (loss 0.9133): 100%|██████████| 12/12 [00:03<00:00,  3.43it/s]\u001b[A\n",
            "Progress:  53%|█████▎    | 16/30 [03:19<02:54, 12.47s/it]\n",
            "Training:   0%|          | 0/13 [00:00<?, ?it/s]\u001b[A\n",
            "Training: (loss 0.9680):   0%|          | 0/13 [00:00<?, ?it/s]\u001b[A\n",
            "Training: (loss 0.9680):   8%|▊         | 1/13 [00:00<00:09,  1.32it/s]\u001b[A\n",
            "Training: (loss 0.9259):   8%|▊         | 1/13 [00:01<00:09,  1.32it/s]\u001b[A\n",
            "Training: (loss 0.9259):  15%|█▌        | 2/13 [00:01<00:08,  1.35it/s]\u001b[A\n",
            "Training: (loss 0.8175):  15%|█▌        | 2/13 [00:02<00:08,  1.35it/s]\u001b[A\n",
            "Training: (loss 0.8175):  23%|██▎       | 3/13 [00:02<00:07,  1.36it/s]\u001b[A\n",
            "Training: (loss 1.2438):  23%|██▎       | 3/13 [00:02<00:07,  1.36it/s]\u001b[A\n",
            "Training: (loss 1.2438):  31%|███       | 4/13 [00:02<00:06,  1.38it/s]\u001b[A\n",
            "Training: (loss 1.0649):  31%|███       | 4/13 [00:03<00:06,  1.38it/s]\u001b[A\n",
            "Training: (loss 1.0649):  38%|███▊      | 5/13 [00:03<00:05,  1.39it/s]\u001b[A\n",
            "Training: (loss 0.8716):  38%|███▊      | 5/13 [00:04<00:05,  1.39it/s]\u001b[A\n",
            "Training: (loss 0.8716):  46%|████▌     | 6/13 [00:04<00:05,  1.40it/s]\u001b[A\n",
            "Training: (loss 1.2358):  46%|████▌     | 6/13 [00:04<00:05,  1.40it/s]\u001b[A\n",
            "Training: (loss 1.2358):  54%|█████▍    | 7/13 [00:05<00:04,  1.40it/s]\u001b[A\n",
            "Training: (loss 0.9304):  54%|█████▍    | 7/13 [00:05<00:04,  1.40it/s]\u001b[A\n",
            "Training: (loss 0.9304):  62%|██████▏   | 8/13 [00:05<00:03,  1.41it/s]\u001b[A\n",
            "Training: (loss 0.9161):  62%|██████▏   | 8/13 [00:06<00:03,  1.41it/s]\u001b[A\n",
            "Training: (loss 0.9161):  69%|██████▉   | 9/13 [00:06<00:02,  1.42it/s]\u001b[A\n",
            "Training: (loss 0.9336):  69%|██████▉   | 9/13 [00:07<00:02,  1.42it/s]\u001b[A\n",
            "Training: (loss 0.9336):  77%|███████▋  | 10/13 [00:07<00:02,  1.42it/s]\u001b[A\n",
            "Training: (loss 1.1382):  77%|███████▋  | 10/13 [00:07<00:02,  1.42it/s]\u001b[A\n",
            "Training: (loss 1.1382):  85%|████████▍ | 11/13 [00:07<00:01,  1.41it/s]\u001b[A\n",
            "Training: (loss 1.0689):  85%|████████▍ | 11/13 [00:08<00:01,  1.41it/s]\u001b[A\n",
            "Training: (loss 1.0689):  92%|█████████▏| 12/13 [00:08<00:00,  1.42it/s]\u001b[A\n",
            "Training: (loss 0.9465):  92%|█████████▏| 12/13 [00:08<00:00,  1.42it/s]\u001b[A\n",
            "Training: (loss 0.9465): 100%|██████████| 13/13 [00:08<00:00,  1.64it/s]\u001b[A\n",
            "                                                                        \u001b[A\n",
            "Validation:   0%|          | 0/12 [00:00<?, ?it/s]\u001b[A\n",
            "Validation: (loss 1.3651):   0%|          | 0/12 [00:00<?, ?it/s]\u001b[A\n",
            "Validation: (loss 1.3651):   8%|▊         | 1/12 [00:00<00:03,  2.87it/s]\u001b[A\n",
            "Validation: (loss 0.9409):   8%|▊         | 1/12 [00:00<00:03,  2.87it/s]\u001b[A\n",
            "Validation: (loss 0.9409):  17%|█▋        | 2/12 [00:00<00:03,  3.03it/s]\u001b[A\n",
            "Validation: (loss 1.1036):  17%|█▋        | 2/12 [00:00<00:03,  3.03it/s]\u001b[A\n",
            "Validation: (loss 1.1036):  25%|██▌       | 3/12 [00:00<00:02,  3.19it/s]\u001b[A\n",
            "Validation: (loss 1.0115):  25%|██▌       | 3/12 [00:01<00:02,  3.19it/s]\u001b[A\n",
            "Validation: (loss 1.0115):  33%|███▎      | 4/12 [00:01<00:02,  3.30it/s]\u001b[A\n",
            "Validation: (loss 0.9806):  33%|███▎      | 4/12 [00:01<00:02,  3.30it/s]\u001b[A\n",
            "Validation: (loss 0.9806):  42%|████▏     | 5/12 [00:01<00:02,  3.39it/s]\u001b[A\n",
            "Validation: (loss 1.1559):  42%|████▏     | 5/12 [00:01<00:02,  3.39it/s]\u001b[A\n",
            "Validation: (loss 1.1559):  50%|█████     | 6/12 [00:01<00:01,  3.46it/s]\u001b[A\n",
            "Validation: (loss 0.8441):  50%|█████     | 6/12 [00:01<00:01,  3.46it/s]\u001b[A\n",
            "Validation: (loss 0.8441):  58%|█████▊    | 7/12 [00:02<00:01,  3.55it/s]\u001b[A\n",
            "Validation: (loss 1.1296):  58%|█████▊    | 7/12 [00:02<00:01,  3.55it/s]\u001b[A\n",
            "Validation: (loss 1.1296):  67%|██████▋   | 8/12 [00:02<00:01,  3.53it/s]\u001b[A\n",
            "Validation: (loss 1.0451):  67%|██████▋   | 8/12 [00:02<00:01,  3.53it/s]\u001b[A\n",
            "Validation: (loss 1.0451):  75%|███████▌  | 9/12 [00:02<00:00,  3.55it/s]\u001b[A\n",
            "Validation: (loss 0.9285):  75%|███████▌  | 9/12 [00:02<00:00,  3.55it/s]\u001b[A\n",
            "Validation: (loss 0.9285):  83%|████████▎ | 10/12 [00:02<00:00,  3.53it/s]\u001b[A\n",
            "Validation: (loss 1.1006):  83%|████████▎ | 10/12 [00:03<00:00,  3.53it/s]\u001b[A\n",
            "Validation: (loss 1.1006):  92%|█████████▏| 11/12 [00:03<00:00,  3.60it/s]\u001b[A\n",
            "Validation: (loss 0.9189):  92%|█████████▏| 11/12 [00:03<00:00,  3.60it/s]\u001b[A\n",
            "Validation: (loss 0.9189): 100%|██████████| 12/12 [00:03<00:00,  3.59it/s]\u001b[A\n",
            "Progress:  57%|█████▋    | 17/30 [03:31<02:42, 12.49s/it]\n",
            "Training:   0%|          | 0/13 [00:00<?, ?it/s]\u001b[A\n",
            "Training: (loss 0.8715):   0%|          | 0/13 [00:00<?, ?it/s]\u001b[A\n",
            "Training: (loss 0.8715):   8%|▊         | 1/13 [00:00<00:09,  1.32it/s]\u001b[A\n",
            "Training: (loss 0.8638):   8%|▊         | 1/13 [00:01<00:09,  1.32it/s]\u001b[A\n",
            "Training: (loss 0.8638):  15%|█▌        | 2/13 [00:01<00:08,  1.34it/s]\u001b[A\n",
            "Training: (loss 1.0723):  15%|█▌        | 2/13 [00:02<00:08,  1.34it/s]\u001b[A\n",
            "Training: (loss 1.0723):  23%|██▎       | 3/13 [00:02<00:07,  1.37it/s]\u001b[A\n",
            "Training: (loss 0.8774):  23%|██▎       | 3/13 [00:02<00:07,  1.37it/s]\u001b[A\n",
            "Training: (loss 0.8774):  31%|███       | 4/13 [00:02<00:06,  1.38it/s]\u001b[A\n",
            "Training: (loss 0.9659):  31%|███       | 4/13 [00:03<00:06,  1.38it/s]\u001b[A\n",
            "Training: (loss 0.9659):  38%|███▊      | 5/13 [00:03<00:05,  1.39it/s]\u001b[A\n",
            "Training: (loss 1.2170):  38%|███▊      | 5/13 [00:04<00:05,  1.39it/s]\u001b[A\n",
            "Training: (loss 1.2170):  46%|████▌     | 6/13 [00:04<00:04,  1.40it/s]\u001b[A\n",
            "Training: (loss 0.9034):  46%|████▌     | 6/13 [00:04<00:04,  1.40it/s]\u001b[A\n",
            "Training: (loss 0.9034):  54%|█████▍    | 7/13 [00:04<00:04,  1.42it/s]\u001b[A\n",
            "Training: (loss 0.9511):  54%|█████▍    | 7/13 [00:05<00:04,  1.42it/s]\u001b[A\n",
            "Training: (loss 0.9511):  62%|██████▏   | 8/13 [00:05<00:03,  1.43it/s]\u001b[A\n",
            "Training: (loss 0.9843):  62%|██████▏   | 8/13 [00:06<00:03,  1.43it/s]\u001b[A\n",
            "Training: (loss 0.9843):  69%|██████▉   | 9/13 [00:06<00:02,  1.43it/s]\u001b[A\n",
            "Training: (loss 1.0794):  69%|██████▉   | 9/13 [00:07<00:02,  1.43it/s]\u001b[A\n",
            "Training: (loss 1.0794):  77%|███████▋  | 10/13 [00:07<00:02,  1.42it/s]\u001b[A\n",
            "Training: (loss 0.9448):  77%|███████▋  | 10/13 [00:07<00:02,  1.42it/s]\u001b[A\n",
            "Training: (loss 0.9448):  85%|████████▍ | 11/13 [00:07<00:01,  1.43it/s]\u001b[A\n",
            "Training: (loss 0.9079):  85%|████████▍ | 11/13 [00:08<00:01,  1.43it/s]\u001b[A\n",
            "Training: (loss 0.9079):  92%|█████████▏| 12/13 [00:08<00:00,  1.43it/s]\u001b[A\n",
            "Training: (loss 1.2325):  92%|█████████▏| 12/13 [00:08<00:00,  1.43it/s]\u001b[A\n",
            "Training: (loss 1.2325): 100%|██████████| 13/13 [00:08<00:00,  1.64it/s]\u001b[A\n",
            "                                                                        \u001b[A\n",
            "Validation:   0%|          | 0/12 [00:00<?, ?it/s]\u001b[A\n",
            "Validation: (loss 1.3699):   0%|          | 0/12 [00:00<?, ?it/s]\u001b[A\n",
            "Validation: (loss 1.3699):   8%|▊         | 1/12 [00:00<00:03,  2.92it/s]\u001b[A\n",
            "Validation: (loss 0.9382):   8%|▊         | 1/12 [00:00<00:03,  2.92it/s]\u001b[A\n",
            "Validation: (loss 0.9382):  17%|█▋        | 2/12 [00:00<00:03,  3.11it/s]\u001b[A\n",
            "Validation: (loss 1.0823):  17%|█▋        | 2/12 [00:00<00:03,  3.11it/s]\u001b[A\n",
            "Validation: (loss 1.0823):  25%|██▌       | 3/12 [00:00<00:02,  3.17it/s]\u001b[A\n",
            "Validation: (loss 0.9674):  25%|██▌       | 3/12 [00:01<00:02,  3.17it/s]\u001b[A\n",
            "Validation: (loss 0.9674):  33%|███▎      | 4/12 [00:01<00:02,  3.33it/s]\u001b[A\n",
            "Validation: (loss 0.9343):  33%|███▎      | 4/12 [00:01<00:02,  3.33it/s]\u001b[A\n",
            "Validation: (loss 0.9343):  42%|████▏     | 5/12 [00:01<00:02,  3.36it/s]\u001b[A\n",
            "Validation: (loss 0.9984):  42%|████▏     | 5/12 [00:01<00:02,  3.36it/s]\u001b[A\n",
            "Validation: (loss 0.9984):  50%|█████     | 6/12 [00:01<00:01,  3.40it/s]\u001b[A\n",
            "Validation: (loss 0.8777):  50%|█████     | 6/12 [00:02<00:01,  3.40it/s]\u001b[A\n",
            "Validation: (loss 0.8777):  58%|█████▊    | 7/12 [00:02<00:01,  3.42it/s]\u001b[A\n",
            "Validation: (loss 1.1019):  58%|█████▊    | 7/12 [00:02<00:01,  3.42it/s]\u001b[A\n",
            "Validation: (loss 1.1019):  67%|██████▋   | 8/12 [00:02<00:01,  3.48it/s]\u001b[A\n",
            "Validation: (loss 0.9558):  67%|██████▋   | 8/12 [00:02<00:01,  3.48it/s]\u001b[A\n",
            "Validation: (loss 0.9558):  75%|███████▌  | 9/12 [00:02<00:00,  3.50it/s]\u001b[A\n",
            "Validation: (loss 0.9369):  75%|███████▌  | 9/12 [00:02<00:00,  3.50it/s]\u001b[A\n",
            "Validation: (loss 0.9369):  83%|████████▎ | 10/12 [00:02<00:00,  3.51it/s]\u001b[A\n",
            "Validation: (loss 1.1023):  83%|████████▎ | 10/12 [00:03<00:00,  3.51it/s]\u001b[A\n",
            "Validation: (loss 1.1023):  92%|█████████▏| 11/12 [00:03<00:00,  3.55it/s]\u001b[A\n",
            "Validation: (loss 0.8822):  92%|█████████▏| 11/12 [00:03<00:00,  3.55it/s]\u001b[A\n",
            "Validation: (loss 0.8822): 100%|██████████| 12/12 [00:03<00:00,  3.65it/s]\u001b[A\n",
            "Progress:  60%|██████    | 18/30 [03:44<02:29, 12.50s/it]\n",
            "Training:   0%|          | 0/13 [00:00<?, ?it/s]\u001b[A\n",
            "Training: (loss 0.8849):   0%|          | 0/13 [00:00<?, ?it/s]\u001b[A\n",
            "Training: (loss 0.8849):   8%|▊         | 1/13 [00:00<00:09,  1.32it/s]\u001b[A\n",
            "Training: (loss 0.8504):   8%|▊         | 1/13 [00:01<00:09,  1.32it/s]\u001b[A\n",
            "Training: (loss 0.8504):  15%|█▌        | 2/13 [00:01<00:08,  1.35it/s]\u001b[A\n",
            "Training: (loss 1.0048):  15%|█▌        | 2/13 [00:02<00:08,  1.35it/s]\u001b[A\n",
            "Training: (loss 1.0048):  23%|██▎       | 3/13 [00:02<00:07,  1.37it/s]\u001b[A\n",
            "Training: (loss 0.8790):  23%|██▎       | 3/13 [00:02<00:07,  1.37it/s]\u001b[A\n",
            "Training: (loss 0.8790):  31%|███       | 4/13 [00:02<00:06,  1.39it/s]\u001b[A\n",
            "Training: (loss 0.9533):  31%|███       | 4/13 [00:03<00:06,  1.39it/s]\u001b[A\n",
            "Training: (loss 0.9533):  38%|███▊      | 5/13 [00:03<00:05,  1.39it/s]\u001b[A\n",
            "Training: (loss 0.9032):  38%|███▊      | 5/13 [00:04<00:05,  1.39it/s]\u001b[A\n",
            "Training: (loss 0.9032):  46%|████▌     | 6/13 [00:04<00:04,  1.41it/s]\u001b[A\n",
            "Training: (loss 0.9904):  46%|████▌     | 6/13 [00:04<00:04,  1.41it/s]\u001b[A\n",
            "Training: (loss 0.9904):  54%|█████▍    | 7/13 [00:04<00:04,  1.42it/s]\u001b[A\n",
            "Training: (loss 0.9100):  54%|█████▍    | 7/13 [00:05<00:04,  1.42it/s]\u001b[A\n",
            "Training: (loss 0.9100):  62%|██████▏   | 8/13 [00:05<00:03,  1.41it/s]\u001b[A\n",
            "Training: (loss 0.9898):  62%|██████▏   | 8/13 [00:06<00:03,  1.41it/s]\u001b[A\n",
            "Training: (loss 0.9898):  69%|██████▉   | 9/13 [00:06<00:02,  1.42it/s]\u001b[A\n",
            "Training: (loss 0.9013):  69%|██████▉   | 9/13 [00:07<00:02,  1.42it/s]\u001b[A\n",
            "Training: (loss 0.9013):  77%|███████▋  | 10/13 [00:07<00:02,  1.43it/s]\u001b[A\n",
            "Training: (loss 0.9217):  77%|███████▋  | 10/13 [00:07<00:02,  1.43it/s]\u001b[A\n",
            "Training: (loss 0.9217):  85%|████████▍ | 11/13 [00:07<00:01,  1.42it/s]\u001b[A\n",
            "Training: (loss 1.0219):  85%|████████▍ | 11/13 [00:08<00:01,  1.42it/s]\u001b[A\n",
            "Training: (loss 1.0219):  92%|█████████▏| 12/13 [00:08<00:00,  1.42it/s]\u001b[A\n",
            "Training: (loss 0.9782):  92%|█████████▏| 12/13 [00:08<00:00,  1.42it/s]\u001b[A\n",
            "Training: (loss 0.9782): 100%|██████████| 13/13 [00:08<00:00,  1.63it/s]\u001b[A\n",
            "                                                                        \u001b[A\n",
            "Validation:   0%|          | 0/12 [00:00<?, ?it/s]\u001b[A\n",
            "Validation: (loss 1.3906):   0%|          | 0/12 [00:00<?, ?it/s]\u001b[A\n",
            "Validation: (loss 1.3906):   8%|▊         | 1/12 [00:00<00:03,  3.06it/s]\u001b[A\n",
            "Validation: (loss 1.0165):   8%|▊         | 1/12 [00:00<00:03,  3.06it/s]\u001b[A\n",
            "Validation: (loss 1.0165):  17%|█▋        | 2/12 [00:00<00:03,  3.17it/s]\u001b[A\n",
            "Validation: (loss 1.0631):  17%|█▋        | 2/12 [00:00<00:03,  3.17it/s]\u001b[A\n",
            "Validation: (loss 1.0631):  25%|██▌       | 3/12 [00:00<00:02,  3.28it/s]\u001b[A\n",
            "Validation: (loss 0.9856):  25%|██▌       | 3/12 [00:01<00:02,  3.28it/s]\u001b[A\n",
            "Validation: (loss 0.9856):  33%|███▎      | 4/12 [00:01<00:02,  3.36it/s]\u001b[A\n",
            "Validation: (loss 0.9381):  33%|███▎      | 4/12 [00:01<00:02,  3.36it/s]\u001b[A\n",
            "Validation: (loss 0.9381):  42%|████▏     | 5/12 [00:01<00:02,  3.50it/s]\u001b[A\n",
            "Validation: (loss 1.0264):  42%|████▏     | 5/12 [00:01<00:02,  3.50it/s]\u001b[A\n",
            "Validation: (loss 1.0264):  50%|█████     | 6/12 [00:01<00:01,  3.50it/s]\u001b[A\n",
            "Validation: (loss 0.9112):  50%|█████     | 6/12 [00:01<00:01,  3.50it/s]\u001b[A\n",
            "Validation: (loss 0.9112):  58%|█████▊    | 7/12 [00:02<00:01,  3.51it/s]\u001b[A\n",
            "Validation: (loss 1.2871):  58%|█████▊    | 7/12 [00:02<00:01,  3.51it/s]\u001b[A\n",
            "Validation: (loss 1.2871):  67%|██████▋   | 8/12 [00:02<00:01,  3.50it/s]\u001b[A\n",
            "Validation: (loss 1.0516):  67%|██████▋   | 8/12 [00:02<00:01,  3.50it/s]\u001b[A\n",
            "Validation: (loss 1.0516):  75%|███████▌  | 9/12 [00:02<00:00,  3.52it/s]\u001b[A\n",
            "Validation: (loss 1.0050):  75%|███████▌  | 9/12 [00:02<00:00,  3.52it/s]\u001b[A\n",
            "Validation: (loss 1.0050):  83%|████████▎ | 10/12 [00:02<00:00,  3.48it/s]\u001b[A\n",
            "Validation: (loss 1.1318):  83%|████████▎ | 10/12 [00:03<00:00,  3.48it/s]\u001b[A\n",
            "Validation: (loss 1.1318):  92%|█████████▏| 11/12 [00:03<00:00,  3.49it/s]\u001b[A\n",
            "Validation: (loss 0.9702):  92%|█████████▏| 11/12 [00:03<00:00,  3.49it/s]\u001b[A\n",
            "Validation: (loss 0.9702): 100%|██████████| 12/12 [00:03<00:00,  3.51it/s]\u001b[A\n",
            "Progress:  63%|██████▎   | 19/30 [03:56<02:17, 12.50s/it]\n",
            "Training:   0%|          | 0/13 [00:00<?, ?it/s]\u001b[A\n",
            "Training: (loss 1.0371):   0%|          | 0/13 [00:00<?, ?it/s]\u001b[A\n",
            "Training: (loss 1.0371):   8%|▊         | 1/13 [00:00<00:08,  1.34it/s]\u001b[A\n",
            "Training: (loss 0.8682):   8%|▊         | 1/13 [00:01<00:08,  1.34it/s]\u001b[A\n",
            "Training: (loss 0.8682):  15%|█▌        | 2/13 [00:01<00:08,  1.37it/s]\u001b[A\n",
            "Training: (loss 0.9414):  15%|█▌        | 2/13 [00:02<00:08,  1.37it/s]\u001b[A\n",
            "Training: (loss 0.9414):  23%|██▎       | 3/13 [00:02<00:07,  1.38it/s]\u001b[A\n",
            "Training: (loss 0.9216):  23%|██▎       | 3/13 [00:02<00:07,  1.38it/s]\u001b[A\n",
            "Training: (loss 0.9216):  31%|███       | 4/13 [00:02<00:06,  1.39it/s]\u001b[A\n",
            "Training: (loss 0.9528):  31%|███       | 4/13 [00:03<00:06,  1.39it/s]\u001b[A\n",
            "Training: (loss 0.9528):  38%|███▊      | 5/13 [00:03<00:05,  1.41it/s]\u001b[A\n",
            "Training: (loss 0.8318):  38%|███▊      | 5/13 [00:04<00:05,  1.41it/s]\u001b[A\n",
            "Training: (loss 0.8318):  46%|████▌     | 6/13 [00:04<00:04,  1.40it/s]\u001b[A\n",
            "Training: (loss 0.8882):  46%|████▌     | 6/13 [00:04<00:04,  1.40it/s]\u001b[A\n",
            "Training: (loss 0.8882):  54%|█████▍    | 7/13 [00:04<00:04,  1.40it/s]\u001b[A\n",
            "Training: (loss 1.0289):  54%|█████▍    | 7/13 [00:05<00:04,  1.40it/s]\u001b[A\n",
            "Training: (loss 1.0289):  62%|██████▏   | 8/13 [00:05<00:03,  1.40it/s]\u001b[A\n",
            "Training: (loss 0.8215):  62%|██████▏   | 8/13 [00:06<00:03,  1.40it/s]\u001b[A\n",
            "Training: (loss 0.8215):  69%|██████▉   | 9/13 [00:06<00:02,  1.42it/s]\u001b[A\n",
            "Training: (loss 1.1098):  69%|██████▉   | 9/13 [00:07<00:02,  1.42it/s]\u001b[A\n",
            "Training: (loss 1.1098):  77%|███████▋  | 10/13 [00:07<00:02,  1.42it/s]\u001b[A\n",
            "Training: (loss 0.9775):  77%|███████▋  | 10/13 [00:07<00:02,  1.42it/s]\u001b[A\n",
            "Training: (loss 0.9775):  85%|████████▍ | 11/13 [00:07<00:01,  1.42it/s]\u001b[A\n",
            "Training: (loss 1.0503):  85%|████████▍ | 11/13 [00:08<00:01,  1.42it/s]\u001b[A\n",
            "Training: (loss 1.0503):  92%|█████████▏| 12/13 [00:08<00:00,  1.41it/s]\u001b[A\n",
            "Training: (loss 1.2654):  92%|█████████▏| 12/13 [00:08<00:00,  1.41it/s]\u001b[A\n",
            "Training: (loss 1.2654): 100%|██████████| 13/13 [00:08<00:00,  1.64it/s]\u001b[A\n",
            "                                                                        \u001b[A\n",
            "Validation:   0%|          | 0/12 [00:00<?, ?it/s]\u001b[A\n",
            "Validation: (loss 1.3681):   0%|          | 0/12 [00:00<?, ?it/s]\u001b[A\n",
            "Validation: (loss 1.3681):   8%|▊         | 1/12 [00:00<00:03,  2.88it/s]\u001b[A\n",
            "Validation: (loss 0.8979):   8%|▊         | 1/12 [00:00<00:03,  2.88it/s]\u001b[A\n",
            "Validation: (loss 0.8979):  17%|█▋        | 2/12 [00:00<00:03,  3.12it/s]\u001b[A\n",
            "Validation: (loss 1.0671):  17%|█▋        | 2/12 [00:00<00:03,  3.12it/s]\u001b[A\n",
            "Validation: (loss 1.0671):  25%|██▌       | 3/12 [00:00<00:02,  3.20it/s]\u001b[A\n",
            "Validation: (loss 0.9128):  25%|██▌       | 3/12 [00:01<00:02,  3.20it/s]\u001b[A\n",
            "Validation: (loss 0.9128):  33%|███▎      | 4/12 [00:01<00:02,  3.28it/s]\u001b[A\n",
            "Validation: (loss 0.9344):  33%|███▎      | 4/12 [00:01<00:02,  3.28it/s]\u001b[A\n",
            "Validation: (loss 0.9344):  42%|████▏     | 5/12 [00:01<00:02,  3.32it/s]\u001b[A\n",
            "Validation: (loss 0.9659):  42%|████▏     | 5/12 [00:01<00:02,  3.32it/s]\u001b[A\n",
            "Validation: (loss 0.9659):  50%|█████     | 6/12 [00:01<00:01,  3.46it/s]\u001b[A\n",
            "Validation: (loss 0.8401):  50%|█████     | 6/12 [00:02<00:01,  3.46it/s]\u001b[A\n",
            "Validation: (loss 0.8401):  58%|█████▊    | 7/12 [00:02<00:01,  3.52it/s]\u001b[A\n",
            "Validation: (loss 1.1367):  58%|█████▊    | 7/12 [00:02<00:01,  3.52it/s]\u001b[A\n",
            "Validation: (loss 1.1367):  67%|██████▋   | 8/12 [00:02<00:01,  3.54it/s]\u001b[A\n",
            "Validation: (loss 0.9644):  67%|██████▋   | 8/12 [00:02<00:01,  3.54it/s]\u001b[A\n",
            "Validation: (loss 0.9644):  75%|███████▌  | 9/12 [00:02<00:00,  3.52it/s]\u001b[A\n",
            "Validation: (loss 0.9239):  75%|███████▌  | 9/12 [00:02<00:00,  3.52it/s]\u001b[A\n",
            "Validation: (loss 0.9239):  83%|████████▎ | 10/12 [00:02<00:00,  3.60it/s]\u001b[A\n",
            "Validation: (loss 1.1107):  83%|████████▎ | 10/12 [00:03<00:00,  3.60it/s]\u001b[A\n",
            "Validation: (loss 1.1107):  92%|█████████▏| 11/12 [00:03<00:00,  3.55it/s]\u001b[A\n",
            "Validation: (loss 0.8671):  92%|█████████▏| 11/12 [00:03<00:00,  3.55it/s]\u001b[A\n",
            "Validation: (loss 0.8671): 100%|██████████| 12/12 [00:03<00:00,  3.51it/s]\u001b[A\n",
            "Progress:  67%|██████▋   | 20/30 [04:09<02:05, 12.51s/it]\n",
            "Training:   0%|          | 0/13 [00:00<?, ?it/s]\u001b[A\n",
            "Training: (loss 0.9075):   0%|          | 0/13 [00:00<?, ?it/s]\u001b[A\n",
            "Training: (loss 0.9075):   8%|▊         | 1/13 [00:00<00:09,  1.31it/s]\u001b[A\n",
            "Training: (loss 0.8853):   8%|▊         | 1/13 [00:01<00:09,  1.31it/s]\u001b[A\n",
            "Training: (loss 0.8853):  15%|█▌        | 2/13 [00:01<00:08,  1.34it/s]\u001b[A\n",
            "Training: (loss 0.9370):  15%|█▌        | 2/13 [00:02<00:08,  1.34it/s]\u001b[A\n",
            "Training: (loss 0.9370):  23%|██▎       | 3/13 [00:02<00:07,  1.36it/s]\u001b[A\n",
            "Training: (loss 0.8509):  23%|██▎       | 3/13 [00:02<00:07,  1.36it/s]\u001b[A\n",
            "Training: (loss 0.8509):  31%|███       | 4/13 [00:02<00:06,  1.38it/s]\u001b[A\n",
            "Training: (loss 0.9563):  31%|███       | 4/13 [00:03<00:06,  1.38it/s]\u001b[A\n",
            "Training: (loss 0.9563):  38%|███▊      | 5/13 [00:03<00:05,  1.39it/s]\u001b[A\n",
            "Training: (loss 0.9914):  38%|███▊      | 5/13 [00:04<00:05,  1.39it/s]\u001b[A\n",
            "Training: (loss 0.9914):  46%|████▌     | 6/13 [00:04<00:05,  1.40it/s]\u001b[A\n",
            "Training: (loss 0.9749):  46%|████▌     | 6/13 [00:04<00:05,  1.40it/s]\u001b[A\n",
            "Training: (loss 0.9749):  54%|█████▍    | 7/13 [00:05<00:04,  1.40it/s]\u001b[A\n",
            "Training: (loss 0.8694):  54%|█████▍    | 7/13 [00:05<00:04,  1.40it/s]\u001b[A\n",
            "Training: (loss 0.8694):  62%|██████▏   | 8/13 [00:05<00:03,  1.41it/s]\u001b[A\n",
            "Training: (loss 0.8986):  62%|██████▏   | 8/13 [00:06<00:03,  1.41it/s]\u001b[A\n",
            "Training: (loss 0.8986):  69%|██████▉   | 9/13 [00:06<00:02,  1.41it/s]\u001b[A\n",
            "Training: (loss 0.9416):  69%|██████▉   | 9/13 [00:07<00:02,  1.41it/s]\u001b[A\n",
            "Training: (loss 0.9416):  77%|███████▋  | 10/13 [00:07<00:02,  1.42it/s]\u001b[A\n",
            "Training: (loss 1.0547):  77%|███████▋  | 10/13 [00:07<00:02,  1.42it/s]\u001b[A\n",
            "Training: (loss 1.0547):  85%|████████▍ | 11/13 [00:07<00:01,  1.41it/s]\u001b[A\n",
            "Training: (loss 0.8665):  85%|████████▍ | 11/13 [00:08<00:01,  1.41it/s]\u001b[A\n",
            "Training: (loss 0.8665):  92%|█████████▏| 12/13 [00:08<00:00,  1.42it/s]\u001b[A\n",
            "Training: (loss 1.0983):  92%|█████████▏| 12/13 [00:08<00:00,  1.42it/s]\u001b[A\n",
            "Training: (loss 1.0983): 100%|██████████| 13/13 [00:08<00:00,  1.63it/s]\u001b[A\n",
            "                                                                        \u001b[A\n",
            "Validation:   0%|          | 0/12 [00:00<?, ?it/s]\u001b[A\n",
            "Validation: (loss 1.3653):   0%|          | 0/12 [00:00<?, ?it/s]\u001b[A\n",
            "Validation: (loss 1.3653):   8%|▊         | 1/12 [00:00<00:03,  2.89it/s]\u001b[A\n",
            "Validation: (loss 0.8846):   8%|▊         | 1/12 [00:00<00:03,  2.89it/s]\u001b[A\n",
            "Validation: (loss 0.8846):  17%|█▋        | 2/12 [00:00<00:03,  3.07it/s]\u001b[A\n",
            "Validation: (loss 1.0622):  17%|█▋        | 2/12 [00:00<00:03,  3.07it/s]\u001b[A\n",
            "Validation: (loss 1.0622):  25%|██▌       | 3/12 [00:00<00:02,  3.22it/s]\u001b[A\n",
            "Validation: (loss 0.9456):  25%|██▌       | 3/12 [00:01<00:02,  3.22it/s]\u001b[A\n",
            "Validation: (loss 0.9456):  33%|███▎      | 4/12 [00:01<00:02,  3.33it/s]\u001b[A\n",
            "Validation: (loss 0.9150):  33%|███▎      | 4/12 [00:01<00:02,  3.33it/s]\u001b[A\n",
            "Validation: (loss 0.9150):  42%|████▏     | 5/12 [00:01<00:02,  3.43it/s]\u001b[A\n",
            "Validation: (loss 0.9738):  42%|████▏     | 5/12 [00:01<00:02,  3.43it/s]\u001b[A\n",
            "Validation: (loss 0.9738):  50%|█████     | 6/12 [00:01<00:01,  3.48it/s]\u001b[A\n",
            "Validation: (loss 0.8160):  50%|█████     | 6/12 [00:01<00:01,  3.48it/s]\u001b[A\n",
            "Validation: (loss 0.8160):  58%|█████▊    | 7/12 [00:02<00:01,  3.53it/s]\u001b[A\n",
            "Validation: (loss 1.1280):  58%|█████▊    | 7/12 [00:02<00:01,  3.53it/s]\u001b[A\n",
            "Validation: (loss 1.1280):  67%|██████▋   | 8/12 [00:02<00:01,  3.52it/s]\u001b[A\n",
            "Validation: (loss 1.0244):  67%|██████▋   | 8/12 [00:02<00:01,  3.52it/s]\u001b[A\n",
            "Validation: (loss 1.0244):  75%|███████▌  | 9/12 [00:02<00:00,  3.53it/s]\u001b[A\n",
            "Validation: (loss 0.8774):  75%|███████▌  | 9/12 [00:02<00:00,  3.53it/s]\u001b[A\n",
            "Validation: (loss 0.8774):  83%|████████▎ | 10/12 [00:02<00:00,  3.55it/s]\u001b[A\n",
            "Validation: (loss 1.0717):  83%|████████▎ | 10/12 [00:03<00:00,  3.55it/s]\u001b[A\n",
            "Validation: (loss 1.0717):  92%|█████████▏| 11/12 [00:03<00:00,  3.58it/s]\u001b[A\n",
            "Validation: (loss 0.8569):  92%|█████████▏| 11/12 [00:03<00:00,  3.58it/s]\u001b[A\n",
            "Validation: (loss 0.8569): 100%|██████████| 12/12 [00:03<00:00,  3.58it/s]\u001b[A\n",
            "Progress:  70%|███████   | 21/30 [04:21<01:52, 12.52s/it]\n",
            "Training:   0%|          | 0/13 [00:00<?, ?it/s]\u001b[A\n",
            "Training: (loss 0.9421):   0%|          | 0/13 [00:00<?, ?it/s]\u001b[A\n",
            "Training: (loss 0.9421):   8%|▊         | 1/13 [00:00<00:09,  1.33it/s]\u001b[A\n",
            "Training: (loss 0.8443):   8%|▊         | 1/13 [00:01<00:09,  1.33it/s]\u001b[A\n",
            "Training: (loss 0.8443):  15%|█▌        | 2/13 [00:01<00:08,  1.36it/s]\u001b[A\n",
            "Training: (loss 1.2536):  15%|█▌        | 2/13 [00:02<00:08,  1.36it/s]\u001b[A\n",
            "Training: (loss 1.2536):  23%|██▎       | 3/13 [00:02<00:07,  1.39it/s]\u001b[A\n",
            "Training: (loss 0.9188):  23%|██▎       | 3/13 [00:02<00:07,  1.39it/s]\u001b[A\n",
            "Training: (loss 0.9188):  31%|███       | 4/13 [00:02<00:06,  1.40it/s]\u001b[A\n",
            "Training: (loss 1.0083):  31%|███       | 4/13 [00:03<00:06,  1.40it/s]\u001b[A\n",
            "Training: (loss 1.0083):  38%|███▊      | 5/13 [00:03<00:05,  1.41it/s]\u001b[A\n",
            "Training: (loss 1.0960):  38%|███▊      | 5/13 [00:04<00:05,  1.41it/s]\u001b[A\n",
            "Training: (loss 1.0960):  46%|████▌     | 6/13 [00:04<00:04,  1.41it/s]\u001b[A\n",
            "Training: (loss 0.9551):  46%|████▌     | 6/13 [00:04<00:04,  1.41it/s]\u001b[A\n",
            "Training: (loss 0.9551):  54%|█████▍    | 7/13 [00:04<00:04,  1.42it/s]\u001b[A\n",
            "Training: (loss 0.9259):  54%|█████▍    | 7/13 [00:05<00:04,  1.42it/s]\u001b[A\n",
            "Training: (loss 0.9259):  62%|██████▏   | 8/13 [00:05<00:03,  1.43it/s]\u001b[A\n",
            "Training: (loss 0.8535):  62%|██████▏   | 8/13 [00:06<00:03,  1.43it/s]\u001b[A\n",
            "Training: (loss 0.8535):  69%|██████▉   | 9/13 [00:06<00:02,  1.42it/s]\u001b[A\n",
            "Training: (loss 0.8411):  69%|██████▉   | 9/13 [00:07<00:02,  1.42it/s]\u001b[A\n",
            "Training: (loss 0.8411):  77%|███████▋  | 10/13 [00:07<00:02,  1.43it/s]\u001b[A\n",
            "Training: (loss 0.8344):  77%|███████▋  | 10/13 [00:07<00:02,  1.43it/s]\u001b[A\n",
            "Training: (loss 0.8344):  85%|████████▍ | 11/13 [00:07<00:01,  1.43it/s]\u001b[A\n",
            "Training: (loss 1.1973):  85%|████████▍ | 11/13 [00:08<00:01,  1.43it/s]\u001b[A\n",
            "Training: (loss 1.1973):  92%|█████████▏| 12/13 [00:08<00:00,  1.43it/s]\u001b[A\n",
            "Training: (loss 1.0660):  92%|█████████▏| 12/13 [00:08<00:00,  1.43it/s]\u001b[A\n",
            "Training: (loss 1.0660): 100%|██████████| 13/13 [00:08<00:00,  1.65it/s]\u001b[A\n",
            "                                                                        \u001b[A\n",
            "Validation:   0%|          | 0/12 [00:00<?, ?it/s]\u001b[A\n",
            "Validation: (loss 1.3464):   0%|          | 0/12 [00:00<?, ?it/s]\u001b[A\n",
            "Validation: (loss 1.3464):   8%|▊         | 1/12 [00:00<00:03,  3.00it/s]\u001b[A\n",
            "Validation: (loss 0.9024):   8%|▊         | 1/12 [00:00<00:03,  3.00it/s]\u001b[A\n",
            "Validation: (loss 0.9024):  17%|█▋        | 2/12 [00:00<00:03,  3.17it/s]\u001b[A\n",
            "Validation: (loss 1.0290):  17%|█▋        | 2/12 [00:00<00:03,  3.17it/s]\u001b[A\n",
            "Validation: (loss 1.0290):  25%|██▌       | 3/12 [00:00<00:02,  3.18it/s]\u001b[A\n",
            "Validation: (loss 0.9129):  25%|██▌       | 3/12 [00:01<00:02,  3.18it/s]\u001b[A\n",
            "Validation: (loss 0.9129):  33%|███▎      | 4/12 [00:01<00:02,  3.30it/s]\u001b[A\n",
            "Validation: (loss 0.9082):  33%|███▎      | 4/12 [00:01<00:02,  3.30it/s]\u001b[A\n",
            "Validation: (loss 0.9082):  42%|████▏     | 5/12 [00:01<00:02,  3.36it/s]\u001b[A\n",
            "Validation: (loss 0.9531):  42%|████▏     | 5/12 [00:01<00:02,  3.36it/s]\u001b[A\n",
            "Validation: (loss 0.9531):  50%|█████     | 6/12 [00:01<00:01,  3.43it/s]\u001b[A\n",
            "Validation: (loss 0.8352):  50%|█████     | 6/12 [00:02<00:01,  3.43it/s]\u001b[A\n",
            "Validation: (loss 0.8352):  58%|█████▊    | 7/12 [00:02<00:01,  3.45it/s]\u001b[A\n",
            "Validation: (loss 1.0807):  58%|█████▊    | 7/12 [00:02<00:01,  3.45it/s]\u001b[A\n",
            "Validation: (loss 1.0807):  67%|██████▋   | 8/12 [00:02<00:01,  3.53it/s]\u001b[A\n",
            "Validation: (loss 0.9421):  67%|██████▋   | 8/12 [00:02<00:01,  3.53it/s]\u001b[A\n",
            "Validation: (loss 0.9421):  75%|███████▌  | 9/12 [00:02<00:00,  3.51it/s]\u001b[A\n",
            "Validation: (loss 0.8880):  75%|███████▌  | 9/12 [00:02<00:00,  3.51it/s]\u001b[A\n",
            "Validation: (loss 0.8880):  83%|████████▎ | 10/12 [00:02<00:00,  3.51it/s]\u001b[A\n",
            "Validation: (loss 1.0553):  83%|████████▎ | 10/12 [00:03<00:00,  3.51it/s]\u001b[A\n",
            "Validation: (loss 1.0553):  92%|█████████▏| 11/12 [00:03<00:00,  3.52it/s]\u001b[A\n",
            "Validation: (loss 0.8519):  92%|█████████▏| 11/12 [00:03<00:00,  3.52it/s]\u001b[A\n",
            "Validation: (loss 0.8519): 100%|██████████| 12/12 [00:03<00:00,  3.58it/s]\u001b[A\n",
            "Progress:  73%|███████▎  | 22/30 [04:34<01:40, 12.51s/it]\n",
            "Training:   0%|          | 0/13 [00:00<?, ?it/s]\u001b[A\n",
            "Training: (loss 0.8925):   0%|          | 0/13 [00:00<?, ?it/s]\u001b[A\n",
            "Training: (loss 0.8925):   8%|▊         | 1/13 [00:00<00:09,  1.29it/s]\u001b[A\n",
            "Training: (loss 0.8402):   8%|▊         | 1/13 [00:01<00:09,  1.29it/s]\u001b[A\n",
            "Training: (loss 0.8402):  15%|█▌        | 2/13 [00:01<00:08,  1.32it/s]\u001b[A\n",
            "Training: (loss 0.8319):  15%|█▌        | 2/13 [00:02<00:08,  1.32it/s]\u001b[A\n",
            "Training: (loss 0.8319):  23%|██▎       | 3/13 [00:02<00:07,  1.36it/s]\u001b[A\n",
            "Training: (loss 0.8022):  23%|██▎       | 3/13 [00:02<00:07,  1.36it/s]\u001b[A\n",
            "Training: (loss 0.8022):  31%|███       | 4/13 [00:02<00:06,  1.38it/s]\u001b[A\n",
            "Training: (loss 0.9583):  31%|███       | 4/13 [00:03<00:06,  1.38it/s]\u001b[A\n",
            "Training: (loss 0.9583):  38%|███▊      | 5/13 [00:03<00:05,  1.39it/s]\u001b[A\n",
            "Training: (loss 1.0457):  38%|███▊      | 5/13 [00:04<00:05,  1.39it/s]\u001b[A\n",
            "Training: (loss 1.0457):  46%|████▌     | 6/13 [00:04<00:05,  1.40it/s]\u001b[A\n",
            "Training: (loss 0.9477):  46%|████▌     | 6/13 [00:04<00:05,  1.40it/s]\u001b[A\n",
            "Training: (loss 0.9477):  54%|█████▍    | 7/13 [00:05<00:04,  1.39it/s]\u001b[A\n",
            "Training: (loss 0.9301):  54%|█████▍    | 7/13 [00:05<00:04,  1.39it/s]\u001b[A\n",
            "Training: (loss 0.9301):  62%|██████▏   | 8/13 [00:05<00:03,  1.40it/s]\u001b[A\n",
            "Training: (loss 0.8689):  62%|██████▏   | 8/13 [00:06<00:03,  1.40it/s]\u001b[A\n",
            "Training: (loss 0.8689):  69%|██████▉   | 9/13 [00:06<00:02,  1.40it/s]\u001b[A\n",
            "Training: (loss 0.8658):  69%|██████▉   | 9/13 [00:07<00:02,  1.40it/s]\u001b[A\n",
            "Training: (loss 0.8658):  77%|███████▋  | 10/13 [00:07<00:02,  1.42it/s]\u001b[A\n",
            "Training: (loss 1.0968):  77%|███████▋  | 10/13 [00:07<00:02,  1.42it/s]\u001b[A\n",
            "Training: (loss 1.0968):  85%|████████▍ | 11/13 [00:07<00:01,  1.41it/s]\u001b[A\n",
            "Training: (loss 1.1892):  85%|████████▍ | 11/13 [00:08<00:01,  1.41it/s]\u001b[A\n",
            "Training: (loss 1.1892):  92%|█████████▏| 12/13 [00:08<00:00,  1.41it/s]\u001b[A\n",
            "Training: (loss 0.8550):  92%|█████████▏| 12/13 [00:08<00:00,  1.41it/s]\u001b[A\n",
            "Training: (loss 0.8550): 100%|██████████| 13/13 [00:08<00:00,  1.62it/s]\u001b[A\n",
            "                                                                        \u001b[A\n",
            "Validation:   0%|          | 0/12 [00:00<?, ?it/s]\u001b[A\n",
            "Validation: (loss 1.2834):   0%|          | 0/12 [00:00<?, ?it/s]\u001b[A\n",
            "Validation: (loss 1.2834):   8%|▊         | 1/12 [00:00<00:03,  2.91it/s]\u001b[A\n",
            "Validation: (loss 0.8896):   8%|▊         | 1/12 [00:00<00:03,  2.91it/s]\u001b[A\n",
            "Validation: (loss 0.8896):  17%|█▋        | 2/12 [00:00<00:03,  3.05it/s]\u001b[A\n",
            "Validation: (loss 1.0384):  17%|█▋        | 2/12 [00:00<00:03,  3.05it/s]\u001b[A\n",
            "Validation: (loss 1.0384):  25%|██▌       | 3/12 [00:00<00:02,  3.19it/s]\u001b[A\n",
            "Validation: (loss 0.9628):  25%|██▌       | 3/12 [00:01<00:02,  3.19it/s]\u001b[A\n",
            "Validation: (loss 0.9628):  33%|███▎      | 4/12 [00:01<00:02,  3.26it/s]\u001b[A\n",
            "Validation: (loss 0.9005):  33%|███▎      | 4/12 [00:01<00:02,  3.26it/s]\u001b[A\n",
            "Validation: (loss 0.9005):  42%|████▏     | 5/12 [00:01<00:02,  3.41it/s]\u001b[A\n",
            "Validation: (loss 1.0015):  42%|████▏     | 5/12 [00:01<00:02,  3.41it/s]\u001b[A\n",
            "Validation: (loss 1.0015):  50%|█████     | 6/12 [00:01<00:01,  3.41it/s]\u001b[A\n",
            "Validation: (loss 0.8335):  50%|█████     | 6/12 [00:02<00:01,  3.41it/s]\u001b[A\n",
            "Validation: (loss 0.8335):  58%|█████▊    | 7/12 [00:02<00:01,  3.45it/s]\u001b[A\n",
            "Validation: (loss 1.1024):  58%|█████▊    | 7/12 [00:02<00:01,  3.45it/s]\u001b[A\n",
            "Validation: (loss 1.1024):  67%|██████▋   | 8/12 [00:02<00:01,  3.45it/s]\u001b[A\n",
            "Validation: (loss 0.9848):  67%|██████▋   | 8/12 [00:02<00:01,  3.45it/s]\u001b[A\n",
            "Validation: (loss 0.9848):  75%|███████▌  | 9/12 [00:02<00:00,  3.53it/s]\u001b[A\n",
            "Validation: (loss 0.9061):  75%|███████▌  | 9/12 [00:02<00:00,  3.53it/s]\u001b[A\n",
            "Validation: (loss 0.9061):  83%|████████▎ | 10/12 [00:02<00:00,  3.53it/s]\u001b[A\n",
            "Validation: (loss 1.0472):  83%|████████▎ | 10/12 [00:03<00:00,  3.53it/s]\u001b[A\n",
            "Validation: (loss 1.0472):  92%|█████████▏| 11/12 [00:03<00:00,  3.51it/s]\u001b[A\n",
            "Validation: (loss 0.8515):  92%|█████████▏| 11/12 [00:03<00:00,  3.51it/s]\u001b[A\n",
            "Validation: (loss 0.8515): 100%|██████████| 12/12 [00:03<00:00,  3.51it/s]\u001b[A\n",
            "Progress:  77%|███████▋  | 23/30 [04:46<01:27, 12.54s/it]\n",
            "Training:   0%|          | 0/13 [00:00<?, ?it/s]\u001b[A\n",
            "Training: (loss 0.9268):   0%|          | 0/13 [00:00<?, ?it/s]\u001b[A\n",
            "Training: (loss 0.9268):   8%|▊         | 1/13 [00:00<00:08,  1.34it/s]\u001b[A\n",
            "Training: (loss 0.9409):   8%|▊         | 1/13 [00:01<00:08,  1.34it/s]\u001b[A\n",
            "Training: (loss 0.9409):  15%|█▌        | 2/13 [00:01<00:08,  1.36it/s]\u001b[A\n",
            "Training: (loss 1.1635):  15%|█▌        | 2/13 [00:02<00:08,  1.36it/s]\u001b[A\n",
            "Training: (loss 1.1635):  23%|██▎       | 3/13 [00:02<00:07,  1.38it/s]\u001b[A\n",
            "Training: (loss 0.8878):  23%|██▎       | 3/13 [00:02<00:07,  1.38it/s]\u001b[A\n",
            "Training: (loss 0.8878):  31%|███       | 4/13 [00:02<00:06,  1.39it/s]\u001b[A\n",
            "Training: (loss 0.9697):  31%|███       | 4/13 [00:03<00:06,  1.39it/s]\u001b[A\n",
            "Training: (loss 0.9697):  38%|███▊      | 5/13 [00:03<00:05,  1.41it/s]\u001b[A\n",
            "Training: (loss 0.8790):  38%|███▊      | 5/13 [00:04<00:05,  1.41it/s]\u001b[A\n",
            "Training: (loss 0.8790):  46%|████▌     | 6/13 [00:04<00:04,  1.42it/s]\u001b[A\n",
            "Training: (loss 0.8615):  46%|████▌     | 6/13 [00:04<00:04,  1.42it/s]\u001b[A\n",
            "Training: (loss 0.8615):  54%|█████▍    | 7/13 [00:04<00:04,  1.41it/s]\u001b[A\n",
            "Training: (loss 0.8211):  54%|█████▍    | 7/13 [00:05<00:04,  1.41it/s]\u001b[A\n",
            "Training: (loss 0.8211):  62%|██████▏   | 8/13 [00:05<00:03,  1.41it/s]\u001b[A\n",
            "Training: (loss 0.9862):  62%|██████▏   | 8/13 [00:06<00:03,  1.41it/s]\u001b[A\n",
            "Training: (loss 0.9862):  69%|██████▉   | 9/13 [00:06<00:02,  1.42it/s]\u001b[A\n",
            "Training: (loss 1.0640):  69%|██████▉   | 9/13 [00:07<00:02,  1.42it/s]\u001b[A\n",
            "Training: (loss 1.0640):  77%|███████▋  | 10/13 [00:07<00:02,  1.42it/s]\u001b[A\n",
            "Training: (loss 1.1519):  77%|███████▋  | 10/13 [00:07<00:02,  1.42it/s]\u001b[A\n",
            "Training: (loss 1.1519):  85%|████████▍ | 11/13 [00:07<00:01,  1.43it/s]\u001b[A\n",
            "Training: (loss 0.8362):  85%|████████▍ | 11/13 [00:08<00:01,  1.43it/s]\u001b[A\n",
            "Training: (loss 0.8362):  92%|█████████▏| 12/13 [00:08<00:00,  1.43it/s]\u001b[A\n",
            "Training: (loss 0.7855):  92%|█████████▏| 12/13 [00:08<00:00,  1.43it/s]\u001b[A\n",
            "Training: (loss 0.7855): 100%|██████████| 13/13 [00:08<00:00,  1.65it/s]\u001b[A\n",
            "                                                                        \u001b[A\n",
            "Validation:   0%|          | 0/12 [00:00<?, ?it/s]\u001b[A\n",
            "Validation: (loss 1.3391):   0%|          | 0/12 [00:00<?, ?it/s]\u001b[A\n",
            "Validation: (loss 1.3391):   8%|▊         | 1/12 [00:00<00:03,  2.92it/s]\u001b[A\n",
            "Validation: (loss 0.9065):   8%|▊         | 1/12 [00:00<00:03,  2.92it/s]\u001b[A\n",
            "Validation: (loss 0.9065):  17%|█▋        | 2/12 [00:00<00:03,  3.16it/s]\u001b[A\n",
            "Validation: (loss 1.0543):  17%|█▋        | 2/12 [00:00<00:03,  3.16it/s]\u001b[A\n",
            "Validation: (loss 1.0543):  25%|██▌       | 3/12 [00:00<00:02,  3.24it/s]\u001b[A\n",
            "Validation: (loss 0.9412):  25%|██▌       | 3/12 [00:01<00:02,  3.24it/s]\u001b[A\n",
            "Validation: (loss 0.9412):  33%|███▎      | 4/12 [00:01<00:02,  3.31it/s]\u001b[A\n",
            "Validation: (loss 0.9507):  33%|███▎      | 4/12 [00:01<00:02,  3.31it/s]\u001b[A\n",
            "Validation: (loss 0.9507):  42%|████▏     | 5/12 [00:01<00:02,  3.32it/s]\u001b[A\n",
            "Validation: (loss 0.9688):  42%|████▏     | 5/12 [00:01<00:02,  3.32it/s]\u001b[A\n",
            "Validation: (loss 0.9688):  50%|█████     | 6/12 [00:01<00:01,  3.43it/s]\u001b[A\n",
            "Validation: (loss 0.8364):  50%|█████     | 6/12 [00:02<00:01,  3.43it/s]\u001b[A\n",
            "Validation: (loss 0.8364):  58%|█████▊    | 7/12 [00:02<00:01,  3.46it/s]\u001b[A\n",
            "Validation: (loss 1.1127):  58%|█████▊    | 7/12 [00:02<00:01,  3.46it/s]\u001b[A\n",
            "Validation: (loss 1.1127):  67%|██████▋   | 8/12 [00:02<00:01,  3.50it/s]\u001b[A\n",
            "Validation: (loss 0.9800):  67%|██████▋   | 8/12 [00:02<00:01,  3.50it/s]\u001b[A\n",
            "Validation: (loss 0.9800):  75%|███████▌  | 9/12 [00:02<00:00,  3.53it/s]\u001b[A\n",
            "Validation: (loss 0.9007):  75%|███████▌  | 9/12 [00:02<00:00,  3.53it/s]\u001b[A\n",
            "Validation: (loss 0.9007):  83%|████████▎ | 10/12 [00:02<00:00,  3.62it/s]\u001b[A\n",
            "Validation: (loss 1.0698):  83%|████████▎ | 10/12 [00:03<00:00,  3.62it/s]\u001b[A\n",
            "Validation: (loss 1.0698):  92%|█████████▏| 11/12 [00:03<00:00,  3.58it/s]\u001b[A\n",
            "Validation: (loss 0.8521):  92%|█████████▏| 11/12 [00:03<00:00,  3.58it/s]\u001b[A\n",
            "Validation: (loss 0.8521): 100%|██████████| 12/12 [00:03<00:00,  3.57it/s]\u001b[A\n",
            "Progress:  80%|████████  | 24/30 [04:59<01:15, 12.52s/it]\n",
            "Training:   0%|          | 0/13 [00:00<?, ?it/s]\u001b[A\n",
            "Training: (loss 0.8266):   0%|          | 0/13 [00:00<?, ?it/s]\u001b[A\n",
            "Training: (loss 0.8266):   8%|▊         | 1/13 [00:00<00:09,  1.28it/s]\u001b[A\n",
            "Training: (loss 0.9503):   8%|▊         | 1/13 [00:01<00:09,  1.28it/s]\u001b[A\n",
            "Training: (loss 0.9503):  15%|█▌        | 2/13 [00:01<00:08,  1.32it/s]\u001b[A\n",
            "Training: (loss 0.8489):  15%|█▌        | 2/13 [00:02<00:08,  1.32it/s]\u001b[A\n",
            "Training: (loss 0.8489):  23%|██▎       | 3/13 [00:02<00:07,  1.34it/s]\u001b[A\n",
            "Training: (loss 0.8299):  23%|██▎       | 3/13 [00:02<00:07,  1.34it/s]\u001b[A\n",
            "Training: (loss 0.8299):  31%|███       | 4/13 [00:02<00:06,  1.37it/s]\u001b[A\n",
            "Training: (loss 0.8566):  31%|███       | 4/13 [00:03<00:06,  1.37it/s]\u001b[A\n",
            "Training: (loss 0.8566):  38%|███▊      | 5/13 [00:03<00:05,  1.38it/s]\u001b[A\n",
            "Training: (loss 0.8654):  38%|███▊      | 5/13 [00:04<00:05,  1.38it/s]\u001b[A\n",
            "Training: (loss 0.8654):  46%|████▌     | 6/13 [00:04<00:05,  1.40it/s]\u001b[A\n",
            "Training: (loss 0.9586):  46%|████▌     | 6/13 [00:05<00:05,  1.40it/s]\u001b[A\n",
            "Training: (loss 0.9586):  54%|█████▍    | 7/13 [00:05<00:04,  1.40it/s]\u001b[A\n",
            "Training: (loss 0.8964):  54%|█████▍    | 7/13 [00:05<00:04,  1.40it/s]\u001b[A\n",
            "Training: (loss 0.8964):  62%|██████▏   | 8/13 [00:05<00:03,  1.42it/s]\u001b[A\n",
            "Training: (loss 0.9868):  62%|██████▏   | 8/13 [00:06<00:03,  1.42it/s]\u001b[A\n",
            "Training: (loss 0.9868):  69%|██████▉   | 9/13 [00:06<00:02,  1.42it/s]\u001b[A\n",
            "Training: (loss 0.9246):  69%|██████▉   | 9/13 [00:07<00:02,  1.42it/s]\u001b[A\n",
            "Training: (loss 0.9246):  77%|███████▋  | 10/13 [00:07<00:02,  1.42it/s]\u001b[A\n",
            "Training: (loss 1.1510):  77%|███████▋  | 10/13 [00:07<00:02,  1.42it/s]\u001b[A\n",
            "Training: (loss 1.1510):  85%|████████▍ | 11/13 [00:07<00:01,  1.42it/s]\u001b[A\n",
            "Training: (loss 0.8235):  85%|████████▍ | 11/13 [00:08<00:01,  1.42it/s]\u001b[A\n",
            "Training: (loss 0.8235):  92%|█████████▏| 12/13 [00:08<00:00,  1.43it/s]\u001b[A\n",
            "Training: (loss 1.0473):  92%|█████████▏| 12/13 [00:08<00:00,  1.43it/s]\u001b[A\n",
            "Training: (loss 1.0473): 100%|██████████| 13/13 [00:08<00:00,  1.64it/s]\u001b[A\n",
            "                                                                        \u001b[A\n",
            "Validation:   0%|          | 0/12 [00:00<?, ?it/s]\u001b[A\n",
            "Validation: (loss 1.2125):   0%|          | 0/12 [00:00<?, ?it/s]\u001b[A\n",
            "Validation: (loss 1.2125):   8%|▊         | 1/12 [00:00<00:03,  2.87it/s]\u001b[A\n",
            "Validation: (loss 0.9379):   8%|▊         | 1/12 [00:00<00:03,  2.87it/s]\u001b[A\n",
            "Validation: (loss 0.9379):  17%|█▋        | 2/12 [00:00<00:03,  3.06it/s]\u001b[A\n",
            "Validation: (loss 1.0236):  17%|█▋        | 2/12 [00:00<00:03,  3.06it/s]\u001b[A\n",
            "Validation: (loss 1.0236):  25%|██▌       | 3/12 [00:00<00:02,  3.24it/s]\u001b[A\n",
            "Validation: (loss 0.9207):  25%|██▌       | 3/12 [00:01<00:02,  3.24it/s]\u001b[A\n",
            "Validation: (loss 0.9207):  33%|███▎      | 4/12 [00:01<00:02,  3.31it/s]\u001b[A\n",
            "Validation: (loss 0.8720):  33%|███▎      | 4/12 [00:01<00:02,  3.31it/s]\u001b[A\n",
            "Validation: (loss 0.8720):  42%|████▏     | 5/12 [00:01<00:02,  3.42it/s]\u001b[A\n",
            "Validation: (loss 1.0024):  42%|████▏     | 5/12 [00:01<00:02,  3.42it/s]\u001b[A\n",
            "Validation: (loss 1.0024):  50%|█████     | 6/12 [00:01<00:01,  3.48it/s]\u001b[A\n",
            "Validation: (loss 0.8878):  50%|█████     | 6/12 [00:01<00:01,  3.48it/s]\u001b[A\n",
            "Validation: (loss 0.8878):  58%|█████▊    | 7/12 [00:02<00:01,  3.52it/s]\u001b[A\n",
            "Validation: (loss 1.0998):  58%|█████▊    | 7/12 [00:02<00:01,  3.52it/s]\u001b[A\n",
            "Validation: (loss 1.0998):  67%|██████▋   | 8/12 [00:02<00:01,  3.52it/s]\u001b[A\n",
            "Validation: (loss 0.9379):  67%|██████▋   | 8/12 [00:02<00:01,  3.52it/s]\u001b[A\n",
            "Validation: (loss 0.9379):  75%|███████▌  | 9/12 [00:02<00:00,  3.49it/s]\u001b[A\n",
            "Validation: (loss 0.9047):  75%|███████▌  | 9/12 [00:02<00:00,  3.49it/s]\u001b[A\n",
            "Validation: (loss 0.9047):  83%|████████▎ | 10/12 [00:02<00:00,  3.52it/s]\u001b[A\n",
            "Validation: (loss 1.0321):  83%|████████▎ | 10/12 [00:03<00:00,  3.52it/s]\u001b[A\n",
            "Validation: (loss 1.0321):  92%|█████████▏| 11/12 [00:03<00:00,  3.59it/s]\u001b[A\n",
            "Validation: (loss 0.8489):  92%|█████████▏| 11/12 [00:03<00:00,  3.59it/s]\u001b[A\n",
            "Validation: (loss 0.8489): 100%|██████████| 12/12 [00:03<00:00,  3.58it/s]\u001b[A\n",
            "Progress:  83%|████████▎ | 25/30 [05:11<01:02, 12.52s/it]\n",
            "Training:   0%|          | 0/13 [00:00<?, ?it/s]\u001b[A\n",
            "Training: (loss 0.7983):   0%|          | 0/13 [00:00<?, ?it/s]\u001b[A\n",
            "Training: (loss 0.7983):   8%|▊         | 1/13 [00:00<00:09,  1.32it/s]\u001b[A\n",
            "Training: (loss 1.1320):   8%|▊         | 1/13 [00:01<00:09,  1.32it/s]\u001b[A\n",
            "Training: (loss 1.1320):  15%|█▌        | 2/13 [00:01<00:08,  1.35it/s]\u001b[A\n",
            "Training: (loss 0.8235):  15%|█▌        | 2/13 [00:02<00:08,  1.35it/s]\u001b[A\n",
            "Training: (loss 0.8235):  23%|██▎       | 3/13 [00:02<00:07,  1.37it/s]\u001b[A\n",
            "Training: (loss 0.8273):  23%|██▎       | 3/13 [00:02<00:07,  1.37it/s]\u001b[A\n",
            "Training: (loss 0.8273):  31%|███       | 4/13 [00:02<00:06,  1.38it/s]\u001b[A\n",
            "Training: (loss 0.9599):  31%|███       | 4/13 [00:03<00:06,  1.38it/s]\u001b[A\n",
            "Training: (loss 0.9599):  38%|███▊      | 5/13 [00:03<00:05,  1.39it/s]\u001b[A\n",
            "Training: (loss 0.9335):  38%|███▊      | 5/13 [00:04<00:05,  1.39it/s]\u001b[A\n",
            "Training: (loss 0.9335):  46%|████▌     | 6/13 [00:04<00:04,  1.40it/s]\u001b[A\n",
            "Training: (loss 1.0966):  46%|████▌     | 6/13 [00:04<00:04,  1.40it/s]\u001b[A\n",
            "Training: (loss 1.0966):  54%|█████▍    | 7/13 [00:04<00:04,  1.43it/s]\u001b[A\n",
            "Training: (loss 0.8932):  54%|█████▍    | 7/13 [00:05<00:04,  1.43it/s]\u001b[A\n",
            "Training: (loss 0.8932):  62%|██████▏   | 8/13 [00:05<00:03,  1.43it/s]\u001b[A\n",
            "Training: (loss 0.9536):  62%|██████▏   | 8/13 [00:06<00:03,  1.43it/s]\u001b[A\n",
            "Training: (loss 0.9536):  69%|██████▉   | 9/13 [00:06<00:02,  1.43it/s]\u001b[A\n",
            "Training: (loss 0.9779):  69%|██████▉   | 9/13 [00:07<00:02,  1.43it/s]\u001b[A\n",
            "Training: (loss 0.9779):  77%|███████▋  | 10/13 [00:07<00:02,  1.43it/s]\u001b[A\n",
            "Training: (loss 0.8016):  77%|███████▋  | 10/13 [00:07<00:02,  1.43it/s]\u001b[A\n",
            "Training: (loss 0.8016):  85%|████████▍ | 11/13 [00:07<00:01,  1.44it/s]\u001b[A\n",
            "Training: (loss 0.9840):  85%|████████▍ | 11/13 [00:08<00:01,  1.44it/s]\u001b[A\n",
            "Training: (loss 0.9840):  92%|█████████▏| 12/13 [00:08<00:00,  1.44it/s]\u001b[A\n",
            "Training: (loss 0.8135):  92%|█████████▏| 12/13 [00:08<00:00,  1.44it/s]\u001b[A\n",
            "Training: (loss 0.8135): 100%|██████████| 13/13 [00:08<00:00,  1.66it/s]\u001b[A\n",
            "                                                                        \u001b[A\n",
            "Validation:   0%|          | 0/12 [00:00<?, ?it/s]\u001b[A\n",
            "Validation: (loss 1.3661):   0%|          | 0/12 [00:00<?, ?it/s]\u001b[A\n",
            "Validation: (loss 1.3661):   8%|▊         | 1/12 [00:00<00:03,  2.95it/s]\u001b[A\n",
            "Validation: (loss 0.8946):   8%|▊         | 1/12 [00:00<00:03,  2.95it/s]\u001b[A\n",
            "Validation: (loss 0.8946):  17%|█▋        | 2/12 [00:00<00:03,  3.14it/s]\u001b[A\n",
            "Validation: (loss 1.1115):  17%|█▋        | 2/12 [00:00<00:03,  3.14it/s]\u001b[A\n",
            "Validation: (loss 1.1115):  25%|██▌       | 3/12 [00:00<00:02,  3.24it/s]\u001b[A\n",
            "Validation: (loss 0.9609):  25%|██▌       | 3/12 [00:01<00:02,  3.24it/s]\u001b[A\n",
            "Validation: (loss 0.9609):  33%|███▎      | 4/12 [00:01<00:02,  3.38it/s]\u001b[A\n",
            "Validation: (loss 0.9311):  33%|███▎      | 4/12 [00:01<00:02,  3.38it/s]\u001b[A\n",
            "Validation: (loss 0.9311):  42%|████▏     | 5/12 [00:01<00:02,  3.42it/s]\u001b[A\n",
            "Validation: (loss 1.0293):  42%|████▏     | 5/12 [00:01<00:02,  3.42it/s]\u001b[A\n",
            "Validation: (loss 1.0293):  50%|█████     | 6/12 [00:01<00:01,  3.49it/s]\u001b[A\n",
            "Validation: (loss 0.8442):  50%|█████     | 6/12 [00:01<00:01,  3.49it/s]\u001b[A\n",
            "Validation: (loss 0.8442):  58%|█████▊    | 7/12 [00:02<00:01,  3.48it/s]\u001b[A\n",
            "Validation: (loss 1.1121):  58%|█████▊    | 7/12 [00:02<00:01,  3.48it/s]\u001b[A\n",
            "Validation: (loss 1.1121):  67%|██████▋   | 8/12 [00:02<00:01,  3.59it/s]\u001b[A\n",
            "Validation: (loss 0.9703):  67%|██████▋   | 8/12 [00:02<00:01,  3.59it/s]\u001b[A\n",
            "Validation: (loss 0.9703):  75%|███████▌  | 9/12 [00:02<00:00,  3.57it/s]\u001b[A\n",
            "Validation: (loss 0.9110):  75%|███████▌  | 9/12 [00:02<00:00,  3.57it/s]\u001b[A\n",
            "Validation: (loss 0.9110):  83%|████████▎ | 10/12 [00:02<00:00,  3.58it/s]\u001b[A\n",
            "Validation: (loss 1.1098):  83%|████████▎ | 10/12 [00:03<00:00,  3.58it/s]\u001b[A\n",
            "Validation: (loss 1.1098):  92%|█████████▏| 11/12 [00:03<00:00,  3.59it/s]\u001b[A\n",
            "Validation: (loss 0.8744):  92%|█████████▏| 11/12 [00:03<00:00,  3.59it/s]\u001b[A\n",
            "Validation: (loss 0.8744): 100%|██████████| 12/12 [00:03<00:00,  3.66it/s]\u001b[A\n",
            "Progress:  87%|████████▋ | 26/30 [05:24<00:49, 12.49s/it]\n",
            "Training:   0%|          | 0/13 [00:00<?, ?it/s]\u001b[A\n",
            "Training: (loss 0.8358):   0%|          | 0/13 [00:00<?, ?it/s]\u001b[A\n",
            "Training: (loss 0.8358):   8%|▊         | 1/13 [00:00<00:09,  1.30it/s]\u001b[A\n",
            "Training: (loss 0.8297):   8%|▊         | 1/13 [00:01<00:09,  1.30it/s]\u001b[A\n",
            "Training: (loss 0.8297):  15%|█▌        | 2/13 [00:01<00:08,  1.34it/s]\u001b[A\n",
            "Training: (loss 0.8213):  15%|█▌        | 2/13 [00:02<00:08,  1.34it/s]\u001b[A\n",
            "Training: (loss 0.8213):  23%|██▎       | 3/13 [00:02<00:07,  1.37it/s]\u001b[A\n",
            "Training: (loss 0.7951):  23%|██▎       | 3/13 [00:02<00:07,  1.37it/s]\u001b[A\n",
            "Training: (loss 0.7951):  31%|███       | 4/13 [00:02<00:06,  1.38it/s]\u001b[A\n",
            "Training: (loss 0.8815):  31%|███       | 4/13 [00:03<00:06,  1.38it/s]\u001b[A\n",
            "Training: (loss 0.8815):  38%|███▊      | 5/13 [00:03<00:05,  1.39it/s]\u001b[A\n",
            "Training: (loss 1.3385):  38%|███▊      | 5/13 [00:04<00:05,  1.39it/s]\u001b[A\n",
            "Training: (loss 1.3385):  46%|████▌     | 6/13 [00:04<00:05,  1.40it/s]\u001b[A\n",
            "Training: (loss 0.9142):  46%|████▌     | 6/13 [00:04<00:05,  1.40it/s]\u001b[A\n",
            "Training: (loss 0.9142):  54%|█████▍    | 7/13 [00:04<00:04,  1.40it/s]\u001b[A\n",
            "Training: (loss 0.8059):  54%|█████▍    | 7/13 [00:05<00:04,  1.40it/s]\u001b[A\n",
            "Training: (loss 0.8059):  62%|██████▏   | 8/13 [00:05<00:03,  1.41it/s]\u001b[A\n",
            "Training: (loss 0.8419):  62%|██████▏   | 8/13 [00:06<00:03,  1.41it/s]\u001b[A\n",
            "Training: (loss 0.8419):  69%|██████▉   | 9/13 [00:06<00:02,  1.42it/s]\u001b[A\n",
            "Training: (loss 0.9129):  69%|██████▉   | 9/13 [00:07<00:02,  1.42it/s]\u001b[A\n",
            "Training: (loss 0.9129):  77%|███████▋  | 10/13 [00:07<00:02,  1.42it/s]\u001b[A\n",
            "Training: (loss 1.0124):  77%|███████▋  | 10/13 [00:07<00:02,  1.42it/s]\u001b[A\n",
            "Training: (loss 1.0124):  85%|████████▍ | 11/13 [00:07<00:01,  1.42it/s]\u001b[A\n",
            "Training: (loss 0.8614):  85%|████████▍ | 11/13 [00:08<00:01,  1.42it/s]\u001b[A\n",
            "Training: (loss 0.8614):  92%|█████████▏| 12/13 [00:08<00:00,  1.43it/s]\u001b[A\n",
            "Training: (loss 0.8757):  92%|█████████▏| 12/13 [00:08<00:00,  1.43it/s]\u001b[A\n",
            "Training: (loss 0.8757): 100%|██████████| 13/13 [00:08<00:00,  1.65it/s]\u001b[A\n",
            "                                                                        \u001b[A\n",
            "Validation:   0%|          | 0/12 [00:00<?, ?it/s]\u001b[A\n",
            "Validation: (loss 1.3479):   0%|          | 0/12 [00:00<?, ?it/s]\u001b[A\n",
            "Validation: (loss 1.3479):   8%|▊         | 1/12 [00:00<00:03,  2.98it/s]\u001b[A\n",
            "Validation: (loss 0.9645):   8%|▊         | 1/12 [00:00<00:03,  2.98it/s]\u001b[A\n",
            "Validation: (loss 0.9645):  17%|█▋        | 2/12 [00:00<00:03,  3.09it/s]\u001b[A\n",
            "Validation: (loss 1.0019):  17%|█▋        | 2/12 [00:00<00:03,  3.09it/s]\u001b[A\n",
            "Validation: (loss 1.0019):  25%|██▌       | 3/12 [00:00<00:02,  3.22it/s]\u001b[A\n",
            "Validation: (loss 0.9593):  25%|██▌       | 3/12 [00:01<00:02,  3.22it/s]\u001b[A\n",
            "Validation: (loss 0.9593):  33%|███▎      | 4/12 [00:01<00:02,  3.28it/s]\u001b[A\n",
            "Validation: (loss 0.8942):  33%|███▎      | 4/12 [00:01<00:02,  3.28it/s]\u001b[A\n",
            "Validation: (loss 0.8942):  42%|████▏     | 5/12 [00:01<00:02,  3.39it/s]\u001b[A\n",
            "Validation: (loss 0.9881):  42%|████▏     | 5/12 [00:01<00:02,  3.39it/s]\u001b[A\n",
            "Validation: (loss 0.9881):  50%|█████     | 6/12 [00:01<00:01,  3.40it/s]\u001b[A\n",
            "Validation: (loss 0.8996):  50%|█████     | 6/12 [00:02<00:01,  3.40it/s]\u001b[A\n",
            "Validation: (loss 0.8996):  58%|█████▊    | 7/12 [00:02<00:01,  3.37it/s]\u001b[A\n",
            "Validation: (loss 1.1090):  58%|█████▊    | 7/12 [00:02<00:01,  3.37it/s]\u001b[A\n",
            "Validation: (loss 1.1090):  67%|██████▋   | 8/12 [00:02<00:01,  3.41it/s]\u001b[A\n",
            "Validation: (loss 1.0179):  67%|██████▋   | 8/12 [00:02<00:01,  3.41it/s]\u001b[A\n",
            "Validation: (loss 1.0179):  75%|███████▌  | 9/12 [00:02<00:00,  3.52it/s]\u001b[A\n",
            "Validation: (loss 0.9377):  75%|███████▌  | 9/12 [00:02<00:00,  3.52it/s]\u001b[A\n",
            "Validation: (loss 0.9377):  83%|████████▎ | 10/12 [00:02<00:00,  3.52it/s]\u001b[A\n",
            "Validation: (loss 1.0839):  83%|████████▎ | 10/12 [00:03<00:00,  3.52it/s]\u001b[A\n",
            "Validation: (loss 1.0839):  92%|█████████▏| 11/12 [00:03<00:00,  3.54it/s]\u001b[A\n",
            "Validation: (loss 0.9091):  92%|█████████▏| 11/12 [00:03<00:00,  3.54it/s]\u001b[A\n",
            "Validation: (loss 0.9091): 100%|██████████| 12/12 [00:03<00:00,  3.50it/s]\u001b[A\n",
            "Progress:  90%|█████████ | 27/30 [05:36<00:37, 12.52s/it]\n",
            "Training:   0%|          | 0/13 [00:00<?, ?it/s]\u001b[A\n",
            "Training: (loss 0.8121):   0%|          | 0/13 [00:00<?, ?it/s]\u001b[A\n",
            "Training: (loss 0.8121):   8%|▊         | 1/13 [00:00<00:08,  1.36it/s]\u001b[A\n",
            "Training: (loss 0.8723):   8%|▊         | 1/13 [00:01<00:08,  1.36it/s]\u001b[A\n",
            "Training: (loss 0.8723):  15%|█▌        | 2/13 [00:01<00:07,  1.38it/s]\u001b[A\n",
            "Training: (loss 0.9204):  15%|█▌        | 2/13 [00:02<00:07,  1.38it/s]\u001b[A\n",
            "Training: (loss 0.9204):  23%|██▎       | 3/13 [00:02<00:07,  1.39it/s]\u001b[A\n",
            "Training: (loss 0.8954):  23%|██▎       | 3/13 [00:02<00:07,  1.39it/s]\u001b[A\n",
            "Training: (loss 0.8954):  31%|███       | 4/13 [00:02<00:06,  1.39it/s]\u001b[A\n",
            "Training: (loss 0.8430):  31%|███       | 4/13 [00:03<00:06,  1.39it/s]\u001b[A\n",
            "Training: (loss 0.8430):  38%|███▊      | 5/13 [00:03<00:05,  1.41it/s]\u001b[A\n",
            "Training: (loss 0.8884):  38%|███▊      | 5/13 [00:04<00:05,  1.41it/s]\u001b[A\n",
            "Training: (loss 0.8884):  46%|████▌     | 6/13 [00:04<00:04,  1.42it/s]\u001b[A\n",
            "Training: (loss 0.8597):  46%|████▌     | 6/13 [00:04<00:04,  1.42it/s]\u001b[A\n",
            "Training: (loss 0.8597):  54%|█████▍    | 7/13 [00:04<00:04,  1.42it/s]\u001b[A\n",
            "Training: (loss 1.1324):  54%|█████▍    | 7/13 [00:05<00:04,  1.42it/s]\u001b[A\n",
            "Training: (loss 1.1324):  62%|██████▏   | 8/13 [00:05<00:03,  1.42it/s]\u001b[A\n",
            "Training: (loss 0.7807):  62%|██████▏   | 8/13 [00:06<00:03,  1.42it/s]\u001b[A\n",
            "Training: (loss 0.7807):  69%|██████▉   | 9/13 [00:06<00:02,  1.43it/s]\u001b[A\n",
            "Training: (loss 0.8892):  69%|██████▉   | 9/13 [00:07<00:02,  1.43it/s]\u001b[A\n",
            "Training: (loss 0.8892):  77%|███████▋  | 10/13 [00:07<00:02,  1.42it/s]\u001b[A\n",
            "Training: (loss 0.8513):  77%|███████▋  | 10/13 [00:07<00:02,  1.42it/s]\u001b[A\n",
            "Training: (loss 0.8513):  85%|████████▍ | 11/13 [00:07<00:01,  1.42it/s]\u001b[A\n",
            "Training: (loss 0.8739):  85%|████████▍ | 11/13 [00:08<00:01,  1.42it/s]\u001b[A\n",
            "Training: (loss 0.8739):  92%|█████████▏| 12/13 [00:08<00:00,  1.42it/s]\u001b[A\n",
            "Training: (loss 0.7860):  92%|█████████▏| 12/13 [00:08<00:00,  1.42it/s]\u001b[A\n",
            "Training: (loss 0.7860): 100%|██████████| 13/13 [00:08<00:00,  1.64it/s]\u001b[A\n",
            "                                                                        \u001b[A\n",
            "Validation:   0%|          | 0/12 [00:00<?, ?it/s]\u001b[A\n",
            "Validation: (loss 1.2983):   0%|          | 0/12 [00:00<?, ?it/s]\u001b[A\n",
            "Validation: (loss 1.2983):   8%|▊         | 1/12 [00:00<00:03,  2.85it/s]\u001b[A\n",
            "Validation: (loss 0.8822):   8%|▊         | 1/12 [00:00<00:03,  2.85it/s]\u001b[A\n",
            "Validation: (loss 0.8822):  17%|█▋        | 2/12 [00:00<00:03,  3.09it/s]\u001b[A\n",
            "Validation: (loss 0.9987):  17%|█▋        | 2/12 [00:00<00:03,  3.09it/s]\u001b[A\n",
            "Validation: (loss 0.9987):  25%|██▌       | 3/12 [00:00<00:02,  3.22it/s]\u001b[A\n",
            "Validation: (loss 0.8937):  25%|██▌       | 3/12 [00:01<00:02,  3.22it/s]\u001b[A\n",
            "Validation: (loss 0.8937):  33%|███▎      | 4/12 [00:01<00:02,  3.34it/s]\u001b[A\n",
            "Validation: (loss 0.8849):  33%|███▎      | 4/12 [00:01<00:02,  3.34it/s]\u001b[A\n",
            "Validation: (loss 0.8849):  42%|████▏     | 5/12 [00:01<00:02,  3.41it/s]\u001b[A\n",
            "Validation: (loss 0.9843):  42%|████▏     | 5/12 [00:01<00:02,  3.41it/s]\u001b[A\n",
            "Validation: (loss 0.9843):  50%|█████     | 6/12 [00:01<00:01,  3.54it/s]\u001b[A\n",
            "Validation: (loss 0.8301):  50%|█████     | 6/12 [00:01<00:01,  3.54it/s]\u001b[A\n",
            "Validation: (loss 0.8301):  58%|█████▊    | 7/12 [00:01<00:01,  3.54it/s]\u001b[A\n",
            "Validation: (loss 1.1138):  58%|█████▊    | 7/12 [00:02<00:01,  3.54it/s]\u001b[A\n",
            "Validation: (loss 1.1138):  67%|██████▋   | 8/12 [00:02<00:01,  3.53it/s]\u001b[A\n",
            "Validation: (loss 0.9252):  67%|██████▋   | 8/12 [00:02<00:01,  3.53it/s]\u001b[A\n",
            "Validation: (loss 0.9252):  75%|███████▌  | 9/12 [00:02<00:00,  3.52it/s]\u001b[A\n",
            "Validation: (loss 0.8992):  75%|███████▌  | 9/12 [00:02<00:00,  3.52it/s]\u001b[A\n",
            "Validation: (loss 0.8992):  83%|████████▎ | 10/12 [00:02<00:00,  3.60it/s]\u001b[A\n",
            "Validation: (loss 1.0358):  83%|████████▎ | 10/12 [00:03<00:00,  3.60it/s]\u001b[A\n",
            "Validation: (loss 1.0358):  92%|█████████▏| 11/12 [00:03<00:00,  3.55it/s]\u001b[A\n",
            "Validation: (loss 0.8362):  92%|█████████▏| 11/12 [00:03<00:00,  3.55it/s]\u001b[A\n",
            "Validation: (loss 0.8362): 100%|██████████| 12/12 [00:03<00:00,  3.53it/s]\u001b[A\n",
            "Progress:  93%|█████████▎| 28/30 [05:49<00:25, 12.51s/it]\n",
            "Training:   0%|          | 0/13 [00:00<?, ?it/s]\u001b[A\n",
            "Training: (loss 0.8275):   0%|          | 0/13 [00:00<?, ?it/s]\u001b[A\n",
            "Training: (loss 0.8275):   8%|▊         | 1/13 [00:00<00:09,  1.29it/s]\u001b[A\n",
            "Training: (loss 0.7490):   8%|▊         | 1/13 [00:01<00:09,  1.29it/s]\u001b[A\n",
            "Training: (loss 0.7490):  15%|█▌        | 2/13 [00:01<00:08,  1.33it/s]\u001b[A\n",
            "Training: (loss 0.8143):  15%|█▌        | 2/13 [00:02<00:08,  1.33it/s]\u001b[A\n",
            "Training: (loss 0.8143):  23%|██▎       | 3/13 [00:02<00:07,  1.36it/s]\u001b[A\n",
            "Training: (loss 1.2349):  23%|██▎       | 3/13 [00:02<00:07,  1.36it/s]\u001b[A\n",
            "Training: (loss 1.2349):  31%|███       | 4/13 [00:02<00:06,  1.39it/s]\u001b[A\n",
            "Training: (loss 0.9438):  31%|███       | 4/13 [00:03<00:06,  1.39it/s]\u001b[A\n",
            "Training: (loss 0.9438):  38%|███▊      | 5/13 [00:03<00:05,  1.40it/s]\u001b[A\n",
            "Training: (loss 1.0290):  38%|███▊      | 5/13 [00:04<00:05,  1.40it/s]\u001b[A\n",
            "Training: (loss 1.0290):  46%|████▌     | 6/13 [00:04<00:05,  1.40it/s]\u001b[A\n",
            "Training: (loss 0.7947):  46%|████▌     | 6/13 [00:04<00:05,  1.40it/s]\u001b[A\n",
            "Training: (loss 0.7947):  54%|█████▍    | 7/13 [00:04<00:04,  1.41it/s]\u001b[A\n",
            "Training: (loss 0.8441):  54%|█████▍    | 7/13 [00:05<00:04,  1.41it/s]\u001b[A\n",
            "Training: (loss 0.8441):  62%|██████▏   | 8/13 [00:05<00:03,  1.42it/s]\u001b[A\n",
            "Training: (loss 1.0390):  62%|██████▏   | 8/13 [00:06<00:03,  1.42it/s]\u001b[A\n",
            "Training: (loss 1.0390):  69%|██████▉   | 9/13 [00:06<00:02,  1.43it/s]\u001b[A\n",
            "Training: (loss 0.7916):  69%|██████▉   | 9/13 [00:07<00:02,  1.43it/s]\u001b[A\n",
            "Training: (loss 0.7916):  77%|███████▋  | 10/13 [00:07<00:02,  1.43it/s]\u001b[A\n",
            "Training: (loss 0.9424):  77%|███████▋  | 10/13 [00:07<00:02,  1.43it/s]\u001b[A\n",
            "Training: (loss 0.9424):  85%|████████▍ | 11/13 [00:07<00:01,  1.43it/s]\u001b[A\n",
            "Training: (loss 0.8954):  85%|████████▍ | 11/13 [00:08<00:01,  1.43it/s]\u001b[A\n",
            "Training: (loss 0.8954):  92%|█████████▏| 12/13 [00:08<00:00,  1.44it/s]\u001b[A\n",
            "Training: (loss 0.8492):  92%|█████████▏| 12/13 [00:08<00:00,  1.44it/s]\u001b[A\n",
            "Training: (loss 0.8492): 100%|██████████| 13/13 [00:08<00:00,  1.64it/s]\u001b[A\n",
            "                                                                        \u001b[A\n",
            "Validation:   0%|          | 0/12 [00:00<?, ?it/s]\u001b[A\n",
            "Validation: (loss 1.3422):   0%|          | 0/12 [00:00<?, ?it/s]\u001b[A\n",
            "Validation: (loss 1.3422):   8%|▊         | 1/12 [00:00<00:03,  2.79it/s]\u001b[A\n",
            "Validation: (loss 0.9050):   8%|▊         | 1/12 [00:00<00:03,  2.79it/s]\u001b[A\n",
            "Validation: (loss 0.9050):  17%|█▋        | 2/12 [00:00<00:03,  2.95it/s]\u001b[A\n",
            "Validation: (loss 1.0006):  17%|█▋        | 2/12 [00:00<00:03,  2.95it/s]\u001b[A\n",
            "Validation: (loss 1.0006):  25%|██▌       | 3/12 [00:00<00:02,  3.15it/s]\u001b[A\n",
            "Validation: (loss 0.9433):  25%|██▌       | 3/12 [00:01<00:02,  3.15it/s]\u001b[A\n",
            "Validation: (loss 0.9433):  33%|███▎      | 4/12 [00:01<00:02,  3.22it/s]\u001b[A\n",
            "Validation: (loss 0.8761):  33%|███▎      | 4/12 [00:01<00:02,  3.22it/s]\u001b[A\n",
            "Validation: (loss 0.8761):  42%|████▏     | 5/12 [00:01<00:02,  3.34it/s]\u001b[A\n",
            "Validation: (loss 1.0716):  42%|████▏     | 5/12 [00:01<00:02,  3.34it/s]\u001b[A\n",
            "Validation: (loss 1.0716):  50%|█████     | 6/12 [00:01<00:01,  3.41it/s]\u001b[A\n",
            "Validation: (loss 0.8728):  50%|█████     | 6/12 [00:02<00:01,  3.41it/s]\u001b[A\n",
            "Validation: (loss 0.8728):  58%|█████▊    | 7/12 [00:02<00:01,  3.54it/s]\u001b[A\n",
            "Validation: (loss 1.1493):  58%|█████▊    | 7/12 [00:02<00:01,  3.54it/s]\u001b[A\n",
            "Validation: (loss 1.1493):  67%|██████▋   | 8/12 [00:02<00:01,  3.57it/s]\u001b[A\n",
            "Validation: (loss 0.9952):  67%|██████▋   | 8/12 [00:02<00:01,  3.57it/s]\u001b[A\n",
            "Validation: (loss 0.9952):  75%|███████▌  | 9/12 [00:02<00:00,  3.57it/s]\u001b[A\n",
            "Validation: (loss 0.9340):  75%|███████▌  | 9/12 [00:02<00:00,  3.57it/s]\u001b[A\n",
            "Validation: (loss 0.9340):  83%|████████▎ | 10/12 [00:02<00:00,  3.58it/s]\u001b[A\n",
            "Validation: (loss 1.0364):  83%|████████▎ | 10/12 [00:03<00:00,  3.58it/s]\u001b[A\n",
            "Validation: (loss 1.0364):  92%|█████████▏| 11/12 [00:03<00:00,  3.60it/s]\u001b[A\n",
            "Validation: (loss 0.8584):  92%|█████████▏| 11/12 [00:03<00:00,  3.60it/s]\u001b[A\n",
            "Validation: (loss 0.8584): 100%|██████████| 12/12 [00:03<00:00,  3.57it/s]\u001b[A\n",
            "Progress:  97%|█████████▋| 29/30 [06:01<00:12, 12.50s/it]\n",
            "Training:   0%|          | 0/13 [00:00<?, ?it/s]\u001b[A\n",
            "Training: (loss 0.8819):   0%|          | 0/13 [00:00<?, ?it/s]\u001b[A\n",
            "Training: (loss 0.8819):   8%|▊         | 1/13 [00:00<00:09,  1.30it/s]\u001b[A\n",
            "Training: (loss 0.8939):   8%|▊         | 1/13 [00:01<00:09,  1.30it/s]\u001b[A\n",
            "Training: (loss 0.8939):  15%|█▌        | 2/13 [00:01<00:08,  1.33it/s]\u001b[A\n",
            "Training: (loss 0.8695):  15%|█▌        | 2/13 [00:02<00:08,  1.33it/s]\u001b[A\n",
            "Training: (loss 0.8695):  23%|██▎       | 3/13 [00:02<00:07,  1.37it/s]\u001b[A\n",
            "Training: (loss 0.8140):  23%|██▎       | 3/13 [00:02<00:07,  1.37it/s]\u001b[A\n",
            "Training: (loss 0.8140):  31%|███       | 4/13 [00:02<00:06,  1.38it/s]\u001b[A\n",
            "Training: (loss 0.8331):  31%|███       | 4/13 [00:03<00:06,  1.38it/s]\u001b[A\n",
            "Training: (loss 0.8331):  38%|███▊      | 5/13 [00:03<00:05,  1.40it/s]\u001b[A\n",
            "Training: (loss 0.7875):  38%|███▊      | 5/13 [00:04<00:05,  1.40it/s]\u001b[A\n",
            "Training: (loss 0.7875):  46%|████▌     | 6/13 [00:04<00:04,  1.40it/s]\u001b[A\n",
            "Training: (loss 0.9056):  46%|████▌     | 6/13 [00:04<00:04,  1.40it/s]\u001b[A\n",
            "Training: (loss 0.9056):  54%|█████▍    | 7/13 [00:04<00:04,  1.42it/s]\u001b[A\n",
            "Training: (loss 0.8203):  54%|█████▍    | 7/13 [00:05<00:04,  1.42it/s]\u001b[A\n",
            "Training: (loss 0.8203):  62%|██████▏   | 8/13 [00:05<00:03,  1.43it/s]\u001b[A\n",
            "Training: (loss 0.8300):  62%|██████▏   | 8/13 [00:06<00:03,  1.43it/s]\u001b[A\n",
            "Training: (loss 0.8300):  69%|██████▉   | 9/13 [00:06<00:02,  1.43it/s]\u001b[A\n",
            "Training: (loss 0.8891):  69%|██████▉   | 9/13 [00:07<00:02,  1.43it/s]\u001b[A\n",
            "Training: (loss 0.8891):  77%|███████▋  | 10/13 [00:07<00:02,  1.43it/s]\u001b[A\n",
            "Training: (loss 0.9467):  77%|███████▋  | 10/13 [00:07<00:02,  1.43it/s]\u001b[A\n",
            "Training: (loss 0.9467):  85%|████████▍ | 11/13 [00:07<00:01,  1.44it/s]\u001b[A\n",
            "Training: (loss 0.8187):  85%|████████▍ | 11/13 [00:08<00:01,  1.44it/s]\u001b[A\n",
            "Training: (loss 0.8187):  92%|█████████▏| 12/13 [00:08<00:00,  1.44it/s]\u001b[A\n",
            "Training: (loss 0.9316):  92%|█████████▏| 12/13 [00:08<00:00,  1.44it/s]\u001b[A\n",
            "Training: (loss 0.9316): 100%|██████████| 13/13 [00:08<00:00,  1.66it/s]\u001b[A\n",
            "                                                                        \u001b[A\n",
            "Validation:   0%|          | 0/12 [00:00<?, ?it/s]\u001b[A\n",
            "Validation: (loss 1.2709):   0%|          | 0/12 [00:00<?, ?it/s]\u001b[A\n",
            "Validation: (loss 1.2709):   8%|▊         | 1/12 [00:00<00:03,  2.94it/s]\u001b[A\n",
            "Validation: (loss 0.9950):   8%|▊         | 1/12 [00:00<00:03,  2.94it/s]\u001b[A\n",
            "Validation: (loss 0.9950):  17%|█▋        | 2/12 [00:00<00:03,  3.11it/s]\u001b[A\n",
            "Validation: (loss 0.9930):  17%|█▋        | 2/12 [00:00<00:03,  3.11it/s]\u001b[A\n",
            "Validation: (loss 0.9930):  25%|██▌       | 3/12 [00:00<00:02,  3.24it/s]\u001b[A\n",
            "Validation: (loss 0.8959):  25%|██▌       | 3/12 [00:01<00:02,  3.24it/s]\u001b[A\n",
            "Validation: (loss 0.8959):  33%|███▎      | 4/12 [00:01<00:02,  3.40it/s]\u001b[A\n",
            "Validation: (loss 0.9064):  33%|███▎      | 4/12 [00:01<00:02,  3.40it/s]\u001b[A\n",
            "Validation: (loss 0.9064):  42%|████▏     | 5/12 [00:01<00:02,  3.44it/s]\u001b[A\n",
            "Validation: (loss 1.0000):  42%|████▏     | 5/12 [00:01<00:02,  3.44it/s]\u001b[A\n",
            "Validation: (loss 1.0000):  50%|█████     | 6/12 [00:01<00:01,  3.49it/s]\u001b[A\n",
            "Validation: (loss 0.9037):  50%|█████     | 6/12 [00:01<00:01,  3.49it/s]\u001b[A\n",
            "Validation: (loss 0.9037):  58%|█████▊    | 7/12 [00:01<00:01,  3.52it/s]\u001b[A\n",
            "Validation: (loss 1.1343):  58%|█████▊    | 7/12 [00:02<00:01,  3.52it/s]\u001b[A\n",
            "Validation: (loss 1.1343):  67%|██████▋   | 8/12 [00:02<00:01,  3.60it/s]\u001b[A\n",
            "Validation: (loss 0.9756):  67%|██████▋   | 8/12 [00:02<00:01,  3.60it/s]\u001b[A\n",
            "Validation: (loss 0.9756):  75%|███████▌  | 9/12 [00:02<00:00,  3.58it/s]\u001b[A\n",
            "Validation: (loss 0.9711):  75%|███████▌  | 9/12 [00:02<00:00,  3.58it/s]\u001b[A\n",
            "Validation: (loss 0.9711):  83%|████████▎ | 10/12 [00:02<00:00,  3.54it/s]\u001b[A\n",
            "Validation: (loss 1.0564):  83%|████████▎ | 10/12 [00:03<00:00,  3.54it/s]\u001b[A\n",
            "Validation: (loss 1.0564):  92%|█████████▏| 11/12 [00:03<00:00,  3.53it/s]\u001b[A\n",
            "Validation: (loss 0.8981):  92%|█████████▏| 11/12 [00:03<00:00,  3.53it/s]\u001b[A\n",
            "Validation: (loss 0.8981): 100%|██████████| 12/12 [00:03<00:00,  3.61it/s]\u001b[A\n",
            "Progress: 100%|██████████| 30/30 [06:14<00:00, 12.48s/it]\n"
          ],
          "name": "stderr"
        },
        {
          "output_type": "error",
          "ename": "NameError",
          "evalue": "ignored",
          "traceback": [
            "\u001b[0;31m---------------------------------------------------------------------------\u001b[0m",
            "\u001b[0;31mNameError\u001b[0m                                 Traceback (most recent call last)",
            "\u001b[0;32m<ipython-input-7-1f8f7fa963ee>\u001b[0m in \u001b[0;36m<module>\u001b[0;34m()\u001b[0m\n\u001b[1;32m     53\u001b[0m \u001b[0mtraining_losses\u001b[0m\u001b[0;34m,\u001b[0m \u001b[0mvalidation_losses\u001b[0m\u001b[0;34m,\u001b[0m \u001b[0mlr_rates\u001b[0m \u001b[0;34m=\u001b[0m \u001b[0mtrainer\u001b[0m\u001b[0;34m.\u001b[0m\u001b[0mrun_trainer\u001b[0m\u001b[0;34m(\u001b[0m\u001b[0;34m)\u001b[0m\u001b[0;34m\u001b[0m\u001b[0;34m\u001b[0m\u001b[0m\n\u001b[1;32m     54\u001b[0m \u001b[0;34m\u001b[0m\u001b[0m\n\u001b[0;32m---> 55\u001b[0;31m plot_training(training_losses,\n\u001b[0m\u001b[1;32m     56\u001b[0m                   \u001b[0mvalidation_losses\u001b[0m\u001b[0;34m,\u001b[0m\u001b[0;34m\u001b[0m\u001b[0;34m\u001b[0m\u001b[0m\n\u001b[1;32m     57\u001b[0m                   \u001b[0mlr_rates\u001b[0m\u001b[0;34m,\u001b[0m\u001b[0;34m\u001b[0m\u001b[0;34m\u001b[0m\u001b[0m\n",
            "\u001b[0;31mNameError\u001b[0m: name 'plot_training' is not defined"
          ]
        }
      ]
    },
    {
      "cell_type": "code",
      "metadata": {
        "colab": {
          "base_uri": "https://localhost:8080/",
          "height": 791
        },
        "id": "-QxNYJWgLu7h",
        "outputId": "bafa6a74-fc5c-4523-92c6-91f4aac53277"
      },
      "source": [
        "from visual import *\n",
        "plot_training(training_losses,\n",
        "                  validation_losses,\n",
        "                  lr_rates,\n",
        "                  gaussian=True,\n",
        "                  sigma=1,\n",
        "                  figsize=(8, 6)\n",
        "                  )"
      ],
      "execution_count": 8,
      "outputs": [
        {
          "output_type": "execute_result",
          "data": {
            "image/png": "[encoded data removed]",
            "text/plain": [
              "<Figure size 576x432 with 2 Axes>"
            ]
          },
          "metadata": {
            "tags": []
          },
          "execution_count": 8
        },
        {
          "output_type": "display_data",
          "data": {
            "image/png": "[encoded data removed]",
            "text/plain": [
              "<Figure size 576x432 with 2 Axes>"
            ]
          },
          "metadata": {
            "tags": [],
            "needs_background": "light"
          }
        }
      ]
    },
    {
      "cell_type": "code",
      "metadata": {
        "id": "OrftlmQvCj3b"
      },
      "source": [
        "from google.colab import drive\n",
        "drive.mount('/content/drive')"
      ],
      "execution_count": null,
      "outputs": []
    },
    {
      "cell_type": "code",
      "metadata": {
        "colab": {
          "base_uri": "https://localhost:8080/"
        },
        "id": "xMw6yWfbCkiJ",
        "outputId": "43bb163d-1961-411f-c06d-a05a2801b15b"
      },
      "source": [
        "# -*- coding: utf-8 -*-\n",
        "\"\"\"Train.ipynb\n",
        "\n",
        "Automatically generated by Colaboratory.\n",
        "\n",
        "Original file is located at\n",
        "    https://colab.research.google.com/drive/1vIoRHVjlmgfiw2x0JQIJnpMM9cT33fX9\n",
        "\"\"\"\n",
        "\n",
        "from tqdm import tqdm\n",
        "import torch.nn as nn\n",
        "import torch.optim as optim\n",
        "# from SegNet_normal import *\n",
        "# from unet import *\n",
        "from res_unetnormal import *\n",
        "# from SegNet2 import *\n",
        "from helpers import *\n",
        "from loss import *\n",
        "import numpy as np\n",
        "import torchvision\n",
        "from torchvision import transforms\n",
        "\n",
        "LR = 1e-4\n",
        "DEVICE = \"cuda\" if torch.cuda.is_available() else \"cpu\"\n",
        "batch_size = 4\n",
        "num_epochs = 30\n",
        "num_workers = 1\n",
        "image_height = 256\n",
        "image_width = 256\n",
        "trainsize = 256\n",
        "pin_memory = True\n",
        "load_model = False\n",
        "base = \"/content/drive/MyDrive/dataset/\"\n",
        "train_img_dir = base+\"Train/Imgs/\"\n",
        "train_gt_dir = base+\"Train/GT/\"\n",
        "\n",
        "val_img_dir = base+\"Test/Imgs/\"\n",
        "val_gt_dir = base+\"Test/GT/\"\n",
        "\n",
        "\n",
        "def train_fn(loader,model,optimizer,loss_fn,scaler):\n",
        "  loop = tqdm(loader)\n",
        "\n",
        "  for batch_idx, (data, targets) in enumerate(loop):\n",
        "    data = data.to(device = DEVICE)\n",
        "    targets = targets.float().to(device = DEVICE)\n",
        "\n",
        "    # Forward pass\n",
        "    with torch.cuda.amp.autocast():\n",
        "      print(data.shape)\n",
        "      predictions = model(data)\n",
        "      loss = loss_fn(predictions,targets)\n",
        "    # Backward Pass\n",
        "    optimizer.zero_grad()\n",
        "    scaler.scale(loss).backward()\n",
        "    scaler.step(optimizer)\n",
        "    scaler.update()\n",
        "\n",
        "    # Update to show progress\n",
        "\n",
        "    loop.set_postfix(loss=loss.item())\n",
        "\n",
        "\n",
        "def main():\n",
        "    model = Res_UNet(n_channels = 3,n_classes = 1,bilinear = True).to(DEVICE)\n",
        "    # model = SegNet(in_channels = 3,n_classes = 1,is_unpooling = True).to(DEVICE)\n",
        "    loss_fn = DiceBCELoss()\n",
        "    optimizer = optim.Adam(model.parameters(),lr = LR)\n",
        "\n",
        "    train_loader,val_loader = load_data(\n",
        "        train_img_dir,\n",
        "        train_gt_dir,\n",
        "        val_img_dir,\n",
        "        val_gt_dir,\n",
        "        batch_size,\n",
        "        trainsize,\n",
        "        num_workers,\n",
        "        pin_memory\n",
        "    )\n",
        "    if load_model:\n",
        "        load_checkpoint(torch.load(\"Ritwik_checkpoint.pth.tar\"), model)\n",
        "    get_metrics(val_loader,model,device=DEVICE)\n",
        "    # save_predictions_as_imgs(val_loader, model, folder=\"saved_images/\", device=DEVICE)\n",
        "    scaler = torch.cuda.amp.GradScaler()\n",
        "    for epoch in range(num_epochs):\n",
        "      train_fn(train_loader,model,optimizer,loss_fn,scaler)\n",
        "      checkpoint = {\n",
        "          \"state_dict\":model.state_dict(),\n",
        "          \"optimizer\":optimizer.state_dict()\n",
        "      }\n",
        "      save_checkpoint(checkpoint)\n",
        "      get_metrics(val_loader,model,device=DEVICE)\n",
        "      # save_predictions_as_imgs(val_loader, model, folder=\"saved_images/\", device=DEVICE)\n",
        "        \n",
        "\n",
        "if __name__ == \"__main__\":\n",
        "  main()"
      ],
      "execution_count": 1,
      "outputs": [
        {
          "output_type": "stream",
          "text": [
            "\r  0%|          | 0/13 [00:00<?, ?it/s]"
          ],
          "name": "stderr"
        },
        {
          "output_type": "stream",
          "text": [
            "Dice score: 0.3542201519012451\n",
            "Sensitivity score: 0.7545806372403575\n",
            "Specificity score: 0.5180569331409344\n",
            "torch.Size([4, 3, 256, 256])\n"
          ],
          "name": "stdout"
        },
        {
          "output_type": "stream",
          "text": [
            "/usr/local/lib/python3.7/dist-packages/torch/nn/functional.py:1709: UserWarning: nn.functional.sigmoid is deprecated. Use torch.sigmoid instead.\n",
            "  warnings.warn(\"nn.functional.sigmoid is deprecated. Use torch.sigmoid instead.\")\n",
            "  8%|▊         | 1/13 [00:00<00:10,  1.17it/s, loss=1.54]"
          ],
          "name": "stderr"
        },
        {
          "output_type": "stream",
          "text": [
            "torch.Size([4, 3, 256, 256])\n"
          ],
          "name": "stdout"
        },
        {
          "output_type": "stream",
          "text": [
            " 15%|█▌        | 2/13 [00:01<00:09,  1.21it/s, loss=1.55]"
          ],
          "name": "stderr"
        },
        {
          "output_type": "stream",
          "text": [
            "torch.Size([4, 3, 256, 256])\n"
          ],
          "name": "stdout"
        },
        {
          "output_type": "stream",
          "text": [
            " 23%|██▎       | 3/13 [00:02<00:08,  1.25it/s, loss=1.54]"
          ],
          "name": "stderr"
        },
        {
          "output_type": "stream",
          "text": [
            "torch.Size([4, 3, 256, 256])\n"
          ],
          "name": "stdout"
        },
        {
          "output_type": "stream",
          "text": [
            " 31%|███       | 4/13 [00:03<00:07,  1.27it/s, loss=1.61]"
          ],
          "name": "stderr"
        },
        {
          "output_type": "stream",
          "text": [
            "torch.Size([4, 3, 256, 256])\n"
          ],
          "name": "stdout"
        },
        {
          "output_type": "stream",
          "text": [
            " 38%|███▊      | 5/13 [00:03<00:06,  1.28it/s, loss=1.4]"
          ],
          "name": "stderr"
        },
        {
          "output_type": "stream",
          "text": [
            "torch.Size([4, 3, 256, 256])\n"
          ],
          "name": "stdout"
        },
        {
          "output_type": "stream",
          "text": [
            " 46%|████▌     | 6/13 [00:04<00:05,  1.29it/s, loss=1.26]"
          ],
          "name": "stderr"
        },
        {
          "output_type": "stream",
          "text": [
            "torch.Size([4, 3, 256, 256])\n"
          ],
          "name": "stdout"
        },
        {
          "output_type": "stream",
          "text": [
            " 54%|█████▍    | 7/13 [00:05<00:04,  1.30it/s, loss=1.73]"
          ],
          "name": "stderr"
        },
        {
          "output_type": "stream",
          "text": [
            "torch.Size([4, 3, 256, 256])\n"
          ],
          "name": "stdout"
        },
        {
          "output_type": "stream",
          "text": [
            " 62%|██████▏   | 8/13 [00:06<00:03,  1.30it/s, loss=1.47]"
          ],
          "name": "stderr"
        },
        {
          "output_type": "stream",
          "text": [
            "torch.Size([4, 3, 256, 256])\n"
          ],
          "name": "stdout"
        },
        {
          "output_type": "stream",
          "text": [
            " 69%|██████▉   | 9/13 [00:06<00:03,  1.30it/s, loss=1.46]"
          ],
          "name": "stderr"
        },
        {
          "output_type": "stream",
          "text": [
            "torch.Size([4, 3, 256, 256])\n"
          ],
          "name": "stdout"
        },
        {
          "output_type": "stream",
          "text": [
            " 77%|███████▋  | 10/13 [00:07<00:02,  1.31it/s, loss=1.5]"
          ],
          "name": "stderr"
        },
        {
          "output_type": "stream",
          "text": [
            "torch.Size([4, 3, 256, 256])\n"
          ],
          "name": "stdout"
        },
        {
          "output_type": "stream",
          "text": [
            " 85%|████████▍ | 11/13 [00:08<00:01,  1.31it/s, loss=1.29]"
          ],
          "name": "stderr"
        },
        {
          "output_type": "stream",
          "text": [
            "torch.Size([4, 3, 256, 256])\n"
          ],
          "name": "stdout"
        },
        {
          "output_type": "stream",
          "text": [
            " 92%|█████████▏| 12/13 [00:09<00:00,  1.31it/s, loss=1.5]"
          ],
          "name": "stderr"
        },
        {
          "output_type": "stream",
          "text": [
            "torch.Size([2, 3, 256, 256])\n"
          ],
          "name": "stdout"
        },
        {
          "output_type": "stream",
          "text": [
            "100%|██████████| 13/13 [00:09<00:00,  1.34it/s, loss=1.55]\n",
            "  0%|          | 0/13 [00:00<?, ?it/s]"
          ],
          "name": "stderr"
        },
        {
          "output_type": "stream",
          "text": [
            "Dice score: 0.2981795072555542\n",
            "Sensitivity score: 0.1841923520397516\n",
            "Specificity score: 0.9645897734845629\n",
            "torch.Size([4, 3, 256, 256])\n"
          ],
          "name": "stdout"
        },
        {
          "output_type": "stream",
          "text": [
            "  8%|▊         | 1/13 [00:00<00:10,  1.16it/s, loss=1.65]"
          ],
          "name": "stderr"
        },
        {
          "output_type": "stream",
          "text": [
            "torch.Size([4, 3, 256, 256])\n"
          ],
          "name": "stdout"
        },
        {
          "output_type": "stream",
          "text": [
            " 15%|█▌        | 2/13 [00:01<00:09,  1.20it/s, loss=1.17]"
          ],
          "name": "stderr"
        },
        {
          "output_type": "stream",
          "text": [
            "torch.Size([4, 3, 256, 256])\n"
          ],
          "name": "stdout"
        },
        {
          "output_type": "stream",
          "text": [
            " 23%|██▎       | 3/13 [00:02<00:08,  1.24it/s, loss=1.18]"
          ],
          "name": "stderr"
        },
        {
          "output_type": "stream",
          "text": [
            "torch.Size([4, 3, 256, 256])\n"
          ],
          "name": "stdout"
        },
        {
          "output_type": "stream",
          "text": [
            " 31%|███       | 4/13 [00:03<00:07,  1.26it/s, loss=1.53]"
          ],
          "name": "stderr"
        },
        {
          "output_type": "stream",
          "text": [
            "torch.Size([4, 3, 256, 256])\n"
          ],
          "name": "stdout"
        },
        {
          "output_type": "stream",
          "text": [
            " 38%|███▊      | 5/13 [00:03<00:06,  1.27it/s, loss=1.67]"
          ],
          "name": "stderr"
        },
        {
          "output_type": "stream",
          "text": [
            "torch.Size([4, 3, 256, 256])\n"
          ],
          "name": "stdout"
        },
        {
          "output_type": "stream",
          "text": [
            " 46%|████▌     | 6/13 [00:04<00:05,  1.28it/s, loss=1.55]"
          ],
          "name": "stderr"
        },
        {
          "output_type": "stream",
          "text": [
            "torch.Size([4, 3, 256, 256])\n"
          ],
          "name": "stdout"
        },
        {
          "output_type": "stream",
          "text": [
            " 54%|█████▍    | 7/13 [00:05<00:04,  1.29it/s, loss=1.42]"
          ],
          "name": "stderr"
        },
        {
          "output_type": "stream",
          "text": [
            "torch.Size([4, 3, 256, 256])\n"
          ],
          "name": "stdout"
        },
        {
          "output_type": "stream",
          "text": [
            " 62%|██████▏   | 8/13 [00:06<00:03,  1.30it/s, loss=1.3]"
          ],
          "name": "stderr"
        },
        {
          "output_type": "stream",
          "text": [
            "torch.Size([4, 3, 256, 256])\n"
          ],
          "name": "stdout"
        },
        {
          "output_type": "stream",
          "text": [
            " 69%|██████▉   | 9/13 [00:06<00:03,  1.30it/s, loss=1.12]"
          ],
          "name": "stderr"
        },
        {
          "output_type": "stream",
          "text": [
            "torch.Size([4, 3, 256, 256])\n"
          ],
          "name": "stdout"
        },
        {
          "output_type": "stream",
          "text": [
            " 77%|███████▋  | 10/13 [00:07<00:02,  1.30it/s, loss=1.35]"
          ],
          "name": "stderr"
        },
        {
          "output_type": "stream",
          "text": [
            "torch.Size([4, 3, 256, 256])\n"
          ],
          "name": "stdout"
        },
        {
          "output_type": "stream",
          "text": [
            " 85%|████████▍ | 11/13 [00:08<00:01,  1.31it/s, loss=1.29]"
          ],
          "name": "stderr"
        },
        {
          "output_type": "stream",
          "text": [
            "torch.Size([4, 3, 256, 256])\n"
          ],
          "name": "stdout"
        },
        {
          "output_type": "stream",
          "text": [
            " 92%|█████████▏| 12/13 [00:09<00:00,  1.31it/s, loss=1.14]"
          ],
          "name": "stderr"
        },
        {
          "output_type": "stream",
          "text": [
            "torch.Size([2, 3, 256, 256])\n"
          ],
          "name": "stdout"
        },
        {
          "output_type": "stream",
          "text": [
            "100%|██████████| 13/13 [00:09<00:00,  1.33it/s, loss=1.42]\n",
            "  0%|          | 0/13 [00:00<?, ?it/s]"
          ],
          "name": "stderr"
        },
        {
          "output_type": "stream",
          "text": [
            "Dice score: 0.40987691283226013\n",
            "Sensitivity score: 0.2588454258853449\n",
            "Specificity score: 0.9807388698685399\n",
            "torch.Size([4, 3, 256, 256])\n"
          ],
          "name": "stdout"
        },
        {
          "output_type": "stream",
          "text": [
            "  8%|▊         | 1/13 [00:00<00:10,  1.17it/s, loss=1.32]"
          ],
          "name": "stderr"
        },
        {
          "output_type": "stream",
          "text": [
            "torch.Size([4, 3, 256, 256])\n"
          ],
          "name": "stdout"
        },
        {
          "output_type": "stream",
          "text": [
            " 15%|█▌        | 2/13 [00:01<00:09,  1.21it/s, loss=1.43]"
          ],
          "name": "stderr"
        },
        {
          "output_type": "stream",
          "text": [
            "torch.Size([4, 3, 256, 256])\n"
          ],
          "name": "stdout"
        },
        {
          "output_type": "stream",
          "text": [
            " 23%|██▎       | 3/13 [00:02<00:08,  1.24it/s, loss=1.19]"
          ],
          "name": "stderr"
        },
        {
          "output_type": "stream",
          "text": [
            "torch.Size([4, 3, 256, 256])\n"
          ],
          "name": "stdout"
        },
        {
          "output_type": "stream",
          "text": [
            " 31%|███       | 4/13 [00:03<00:07,  1.27it/s, loss=1.22]"
          ],
          "name": "stderr"
        },
        {
          "output_type": "stream",
          "text": [
            "torch.Size([4, 3, 256, 256])\n"
          ],
          "name": "stdout"
        },
        {
          "output_type": "stream",
          "text": [
            " 38%|███▊      | 5/13 [00:03<00:06,  1.27it/s, loss=1.4]"
          ],
          "name": "stderr"
        },
        {
          "output_type": "stream",
          "text": [
            "torch.Size([4, 3, 256, 256])\n"
          ],
          "name": "stdout"
        },
        {
          "output_type": "stream",
          "text": [
            " 46%|████▌     | 6/13 [00:04<00:05,  1.29it/s, loss=1.05]"
          ],
          "name": "stderr"
        },
        {
          "output_type": "stream",
          "text": [
            "torch.Size([4, 3, 256, 256])\n"
          ],
          "name": "stdout"
        },
        {
          "output_type": "stream",
          "text": [
            " 54%|█████▍    | 7/13 [00:05<00:04,  1.29it/s, loss=1.38]"
          ],
          "name": "stderr"
        },
        {
          "output_type": "stream",
          "text": [
            "torch.Size([4, 3, 256, 256])\n"
          ],
          "name": "stdout"
        },
        {
          "output_type": "stream",
          "text": [
            " 62%|██████▏   | 8/13 [00:06<00:03,  1.29it/s, loss=1.3]"
          ],
          "name": "stderr"
        },
        {
          "output_type": "stream",
          "text": [
            "torch.Size([4, 3, 256, 256])\n"
          ],
          "name": "stdout"
        },
        {
          "output_type": "stream",
          "text": [
            " 69%|██████▉   | 9/13 [00:06<00:03,  1.29it/s, loss=1.11]"
          ],
          "name": "stderr"
        },
        {
          "output_type": "stream",
          "text": [
            "torch.Size([4, 3, 256, 256])\n"
          ],
          "name": "stdout"
        },
        {
          "output_type": "stream",
          "text": [
            " 77%|███████▋  | 10/13 [00:07<00:02,  1.30it/s, loss=1.14]"
          ],
          "name": "stderr"
        },
        {
          "output_type": "stream",
          "text": [
            "torch.Size([4, 3, 256, 256])\n"
          ],
          "name": "stdout"
        },
        {
          "output_type": "stream",
          "text": [
            " 85%|████████▍ | 11/13 [00:08<00:01,  1.30it/s, loss=1.2]"
          ],
          "name": "stderr"
        },
        {
          "output_type": "stream",
          "text": [
            "torch.Size([4, 3, 256, 256])\n"
          ],
          "name": "stdout"
        },
        {
          "output_type": "stream",
          "text": [
            " 92%|█████████▏| 12/13 [00:09<00:00,  1.30it/s, loss=1.12]"
          ],
          "name": "stderr"
        },
        {
          "output_type": "stream",
          "text": [
            "torch.Size([2, 3, 256, 256])\n"
          ],
          "name": "stdout"
        },
        {
          "output_type": "stream",
          "text": [
            "100%|██████████| 13/13 [00:09<00:00,  1.33it/s, loss=1.43]\n",
            "  0%|          | 0/13 [00:00<?, ?it/s]"
          ],
          "name": "stderr"
        },
        {
          "output_type": "stream",
          "text": [
            "Dice score: 0.6674169898033142\n",
            "Sensitivity score: 0.601899036468993\n",
            "Specificity score: 0.952717010475522\n",
            "torch.Size([4, 3, 256, 256])\n"
          ],
          "name": "stdout"
        },
        {
          "output_type": "stream",
          "text": [
            "  8%|▊         | 1/13 [00:00<00:10,  1.14it/s, loss=1.63]"
          ],
          "name": "stderr"
        },
        {
          "output_type": "stream",
          "text": [
            "torch.Size([4, 3, 256, 256])\n"
          ],
          "name": "stdout"
        },
        {
          "output_type": "stream",
          "text": [
            " 15%|█▌        | 2/13 [00:01<00:09,  1.18it/s, loss=1.33]"
          ],
          "name": "stderr"
        },
        {
          "output_type": "stream",
          "text": [
            "torch.Size([4, 3, 256, 256])\n"
          ],
          "name": "stdout"
        },
        {
          "output_type": "stream",
          "text": [
            " 23%|██▎       | 3/13 [00:02<00:08,  1.22it/s, loss=1.39]"
          ],
          "name": "stderr"
        },
        {
          "output_type": "stream",
          "text": [
            "torch.Size([4, 3, 256, 256])\n"
          ],
          "name": "stdout"
        },
        {
          "output_type": "stream",
          "text": [
            " 31%|███       | 4/13 [00:03<00:07,  1.24it/s, loss=1.08]"
          ],
          "name": "stderr"
        },
        {
          "output_type": "stream",
          "text": [
            "torch.Size([4, 3, 256, 256])\n"
          ],
          "name": "stdout"
        },
        {
          "output_type": "stream",
          "text": [
            " 38%|███▊      | 5/13 [00:03<00:06,  1.25it/s, loss=1.26]"
          ],
          "name": "stderr"
        },
        {
          "output_type": "stream",
          "text": [
            "torch.Size([4, 3, 256, 256])\n"
          ],
          "name": "stdout"
        },
        {
          "output_type": "stream",
          "text": [
            " 46%|████▌     | 6/13 [00:04<00:05,  1.27it/s, loss=1.34]"
          ],
          "name": "stderr"
        },
        {
          "output_type": "stream",
          "text": [
            "torch.Size([4, 3, 256, 256])\n"
          ],
          "name": "stdout"
        },
        {
          "output_type": "stream",
          "text": [
            " 54%|█████▍    | 7/13 [00:05<00:04,  1.28it/s, loss=1.27]"
          ],
          "name": "stderr"
        },
        {
          "output_type": "stream",
          "text": [
            "torch.Size([4, 3, 256, 256])\n"
          ],
          "name": "stdout"
        },
        {
          "output_type": "stream",
          "text": [
            " 62%|██████▏   | 8/13 [00:06<00:03,  1.29it/s, loss=1.03]"
          ],
          "name": "stderr"
        },
        {
          "output_type": "stream",
          "text": [
            "torch.Size([4, 3, 256, 256])\n"
          ],
          "name": "stdout"
        },
        {
          "output_type": "stream",
          "text": [
            " 69%|██████▉   | 9/13 [00:07<00:03,  1.29it/s, loss=1.16]"
          ],
          "name": "stderr"
        },
        {
          "output_type": "stream",
          "text": [
            "torch.Size([4, 3, 256, 256])\n"
          ],
          "name": "stdout"
        },
        {
          "output_type": "stream",
          "text": [
            " 77%|███████▋  | 10/13 [00:07<00:02,  1.29it/s, loss=1.31]"
          ],
          "name": "stderr"
        },
        {
          "output_type": "stream",
          "text": [
            "torch.Size([4, 3, 256, 256])\n"
          ],
          "name": "stdout"
        },
        {
          "output_type": "stream",
          "text": [
            " 85%|████████▍ | 11/13 [00:08<00:01,  1.30it/s, loss=1.03]"
          ],
          "name": "stderr"
        },
        {
          "output_type": "stream",
          "text": [
            "torch.Size([4, 3, 256, 256])\n"
          ],
          "name": "stdout"
        },
        {
          "output_type": "stream",
          "text": [
            " 92%|█████████▏| 12/13 [00:09<00:00,  1.30it/s, loss=1.14]"
          ],
          "name": "stderr"
        },
        {
          "output_type": "stream",
          "text": [
            "torch.Size([2, 3, 256, 256])\n"
          ],
          "name": "stdout"
        },
        {
          "output_type": "stream",
          "text": [
            "100%|██████████| 13/13 [00:09<00:00,  1.32it/s, loss=1.12]\n",
            "  0%|          | 0/13 [00:00<?, ?it/s]"
          ],
          "name": "stderr"
        },
        {
          "output_type": "stream",
          "text": [
            "Dice score: 0.6666873693466187\n",
            "Sensitivity score: 0.735653616871981\n",
            "Specificity score: 0.9085331192321736\n",
            "torch.Size([4, 3, 256, 256])\n"
          ],
          "name": "stdout"
        },
        {
          "output_type": "stream",
          "text": [
            "  8%|▊         | 1/13 [00:00<00:10,  1.16it/s, loss=1.19]"
          ],
          "name": "stderr"
        },
        {
          "output_type": "stream",
          "text": [
            "torch.Size([4, 3, 256, 256])\n"
          ],
          "name": "stdout"
        },
        {
          "output_type": "stream",
          "text": [
            " 15%|█▌        | 2/13 [00:01<00:09,  1.20it/s, loss=1.64]"
          ],
          "name": "stderr"
        },
        {
          "output_type": "stream",
          "text": [
            "torch.Size([4, 3, 256, 256])\n"
          ],
          "name": "stdout"
        },
        {
          "output_type": "stream",
          "text": [
            " 23%|██▎       | 3/13 [00:02<00:08,  1.23it/s, loss=1.27]"
          ],
          "name": "stderr"
        },
        {
          "output_type": "stream",
          "text": [
            "torch.Size([4, 3, 256, 256])\n"
          ],
          "name": "stdout"
        },
        {
          "output_type": "stream",
          "text": [
            " 31%|███       | 4/13 [00:03<00:07,  1.24it/s, loss=1.44]"
          ],
          "name": "stderr"
        },
        {
          "output_type": "stream",
          "text": [
            "torch.Size([4, 3, 256, 256])\n"
          ],
          "name": "stdout"
        },
        {
          "output_type": "stream",
          "text": [
            " 38%|███▊      | 5/13 [00:03<00:06,  1.26it/s, loss=1.07]"
          ],
          "name": "stderr"
        },
        {
          "output_type": "stream",
          "text": [
            "torch.Size([4, 3, 256, 256])\n"
          ],
          "name": "stdout"
        },
        {
          "output_type": "stream",
          "text": [
            " 46%|████▌     | 6/13 [00:04<00:05,  1.27it/s, loss=1.06]"
          ],
          "name": "stderr"
        },
        {
          "output_type": "stream",
          "text": [
            "torch.Size([4, 3, 256, 256])\n"
          ],
          "name": "stdout"
        },
        {
          "output_type": "stream",
          "text": [
            " 54%|█████▍    | 7/13 [00:05<00:04,  1.28it/s, loss=1.08]"
          ],
          "name": "stderr"
        },
        {
          "output_type": "stream",
          "text": [
            "torch.Size([4, 3, 256, 256])\n"
          ],
          "name": "stdout"
        },
        {
          "output_type": "stream",
          "text": [
            " 62%|██████▏   | 8/13 [00:06<00:03,  1.28it/s, loss=1.22]"
          ],
          "name": "stderr"
        },
        {
          "output_type": "stream",
          "text": [
            "torch.Size([4, 3, 256, 256])\n"
          ],
          "name": "stdout"
        },
        {
          "output_type": "stream",
          "text": [
            " 69%|██████▉   | 9/13 [00:07<00:03,  1.28it/s, loss=1.06]"
          ],
          "name": "stderr"
        },
        {
          "output_type": "stream",
          "text": [
            "torch.Size([4, 3, 256, 256])\n"
          ],
          "name": "stdout"
        },
        {
          "output_type": "stream",
          "text": [
            " 77%|███████▋  | 10/13 [00:07<00:02,  1.29it/s, loss=1.44]"
          ],
          "name": "stderr"
        },
        {
          "output_type": "stream",
          "text": [
            "torch.Size([4, 3, 256, 256])\n"
          ],
          "name": "stdout"
        },
        {
          "output_type": "stream",
          "text": [
            " 85%|████████▍ | 11/13 [00:08<00:01,  1.29it/s, loss=1.04]"
          ],
          "name": "stderr"
        },
        {
          "output_type": "stream",
          "text": [
            "torch.Size([4, 3, 256, 256])\n"
          ],
          "name": "stdout"
        },
        {
          "output_type": "stream",
          "text": [
            " 92%|█████████▏| 12/13 [00:09<00:00,  1.30it/s, loss=1.21]"
          ],
          "name": "stderr"
        },
        {
          "output_type": "stream",
          "text": [
            "torch.Size([2, 3, 256, 256])\n"
          ],
          "name": "stdout"
        },
        {
          "output_type": "stream",
          "text": [
            "100%|██████████| 13/13 [00:09<00:00,  1.32it/s, loss=1.2]\n",
            "  0%|          | 0/13 [00:00<?, ?it/s]"
          ],
          "name": "stderr"
        },
        {
          "output_type": "stream",
          "text": [
            "Dice score: 0.6826136112213135\n",
            "Sensitivity score: 0.8342023383164885\n",
            "Specificity score: 0.8921514461173996\n",
            "torch.Size([4, 3, 256, 256])\n"
          ],
          "name": "stdout"
        },
        {
          "output_type": "stream",
          "text": [
            "  8%|▊         | 1/13 [00:00<00:10,  1.15it/s, loss=1.06]"
          ],
          "name": "stderr"
        },
        {
          "output_type": "stream",
          "text": [
            "torch.Size([4, 3, 256, 256])\n"
          ],
          "name": "stdout"
        },
        {
          "output_type": "stream",
          "text": [
            " 15%|█▌        | 2/13 [00:01<00:09,  1.19it/s, loss=0.931]"
          ],
          "name": "stderr"
        },
        {
          "output_type": "stream",
          "text": [
            "torch.Size([4, 3, 256, 256])\n"
          ],
          "name": "stdout"
        },
        {
          "output_type": "stream",
          "text": [
            " 23%|██▎       | 3/13 [00:02<00:08,  1.22it/s, loss=1.34]"
          ],
          "name": "stderr"
        },
        {
          "output_type": "stream",
          "text": [
            "torch.Size([4, 3, 256, 256])\n"
          ],
          "name": "stdout"
        },
        {
          "output_type": "stream",
          "text": [
            " 31%|███       | 4/13 [00:03<00:07,  1.25it/s, loss=1.2]"
          ],
          "name": "stderr"
        },
        {
          "output_type": "stream",
          "text": [
            "torch.Size([4, 3, 256, 256])\n"
          ],
          "name": "stdout"
        },
        {
          "output_type": "stream",
          "text": [
            " 38%|███▊      | 5/13 [00:03<00:06,  1.26it/s, loss=1.52]"
          ],
          "name": "stderr"
        },
        {
          "output_type": "stream",
          "text": [
            "torch.Size([4, 3, 256, 256])\n"
          ],
          "name": "stdout"
        },
        {
          "output_type": "stream",
          "text": [
            " 46%|████▌     | 6/13 [00:04<00:05,  1.27it/s, loss=1.14]"
          ],
          "name": "stderr"
        },
        {
          "output_type": "stream",
          "text": [
            "torch.Size([4, 3, 256, 256])\n"
          ],
          "name": "stdout"
        },
        {
          "output_type": "stream",
          "text": [
            " 54%|█████▍    | 7/13 [00:05<00:04,  1.28it/s, loss=1.52]"
          ],
          "name": "stderr"
        },
        {
          "output_type": "stream",
          "text": [
            "torch.Size([4, 3, 256, 256])\n"
          ],
          "name": "stdout"
        },
        {
          "output_type": "stream",
          "text": [
            " 62%|██████▏   | 8/13 [00:06<00:03,  1.28it/s, loss=1.14]"
          ],
          "name": "stderr"
        },
        {
          "output_type": "stream",
          "text": [
            "torch.Size([4, 3, 256, 256])\n"
          ],
          "name": "stdout"
        },
        {
          "output_type": "stream",
          "text": [
            " 69%|██████▉   | 9/13 [00:07<00:03,  1.28it/s, loss=1.09]"
          ],
          "name": "stderr"
        },
        {
          "output_type": "stream",
          "text": [
            "torch.Size([4, 3, 256, 256])\n"
          ],
          "name": "stdout"
        },
        {
          "output_type": "stream",
          "text": [
            " 77%|███████▋  | 10/13 [00:07<00:02,  1.28it/s, loss=1.19]"
          ],
          "name": "stderr"
        },
        {
          "output_type": "stream",
          "text": [
            "torch.Size([4, 3, 256, 256])\n"
          ],
          "name": "stdout"
        },
        {
          "output_type": "stream",
          "text": [
            " 85%|████████▍ | 11/13 [00:08<00:01,  1.28it/s, loss=0.987]"
          ],
          "name": "stderr"
        },
        {
          "output_type": "stream",
          "text": [
            "torch.Size([4, 3, 256, 256])\n"
          ],
          "name": "stdout"
        },
        {
          "output_type": "stream",
          "text": [
            " 92%|█████████▏| 12/13 [00:09<00:00,  1.28it/s, loss=1.18]"
          ],
          "name": "stderr"
        },
        {
          "output_type": "stream",
          "text": [
            "torch.Size([2, 3, 256, 256])\n"
          ],
          "name": "stdout"
        },
        {
          "output_type": "stream",
          "text": [
            "100%|██████████| 13/13 [00:09<00:00,  1.31it/s, loss=1.13]\n",
            "  0%|          | 0/13 [00:00<?, ?it/s]"
          ],
          "name": "stderr"
        },
        {
          "output_type": "stream",
          "text": [
            "Dice score: 0.6679404973983765\n",
            "Sensitivity score: 0.8382934963134773\n",
            "Specificity score: 0.8784166033970311\n",
            "torch.Size([4, 3, 256, 256])\n"
          ],
          "name": "stdout"
        },
        {
          "output_type": "stream",
          "text": [
            "  8%|▊         | 1/13 [00:00<00:10,  1.15it/s, loss=1.12]"
          ],
          "name": "stderr"
        },
        {
          "output_type": "stream",
          "text": [
            "torch.Size([4, 3, 256, 256])\n"
          ],
          "name": "stdout"
        },
        {
          "output_type": "stream",
          "text": [
            " 15%|█▌        | 2/13 [00:01<00:09,  1.19it/s, loss=1.1]"
          ],
          "name": "stderr"
        },
        {
          "output_type": "stream",
          "text": [
            "torch.Size([4, 3, 256, 256])\n"
          ],
          "name": "stdout"
        },
        {
          "output_type": "stream",
          "text": [
            " 23%|██▎       | 3/13 [00:02<00:08,  1.22it/s, loss=1.12]"
          ],
          "name": "stderr"
        },
        {
          "output_type": "stream",
          "text": [
            "torch.Size([4, 3, 256, 256])\n"
          ],
          "name": "stdout"
        },
        {
          "output_type": "stream",
          "text": [
            " 31%|███       | 4/13 [00:03<00:07,  1.24it/s, loss=1.04]"
          ],
          "name": "stderr"
        },
        {
          "output_type": "stream",
          "text": [
            "torch.Size([4, 3, 256, 256])\n"
          ],
          "name": "stdout"
        },
        {
          "output_type": "stream",
          "text": [
            " 38%|███▊      | 5/13 [00:03<00:06,  1.25it/s, loss=1.09]"
          ],
          "name": "stderr"
        },
        {
          "output_type": "stream",
          "text": [
            "torch.Size([4, 3, 256, 256])\n"
          ],
          "name": "stdout"
        },
        {
          "output_type": "stream",
          "text": [
            " 46%|████▌     | 6/13 [00:04<00:05,  1.27it/s, loss=1.2]"
          ],
          "name": "stderr"
        },
        {
          "output_type": "stream",
          "text": [
            "torch.Size([4, 3, 256, 256])\n"
          ],
          "name": "stdout"
        },
        {
          "output_type": "stream",
          "text": [
            " 54%|█████▍    | 7/13 [00:05<00:04,  1.28it/s, loss=1]"
          ],
          "name": "stderr"
        },
        {
          "output_type": "stream",
          "text": [
            "torch.Size([4, 3, 256, 256])\n"
          ],
          "name": "stdout"
        },
        {
          "output_type": "stream",
          "text": [
            " 62%|██████▏   | 8/13 [00:06<00:03,  1.28it/s, loss=1.4]"
          ],
          "name": "stderr"
        },
        {
          "output_type": "stream",
          "text": [
            "torch.Size([4, 3, 256, 256])\n"
          ],
          "name": "stdout"
        },
        {
          "output_type": "stream",
          "text": [
            " 69%|██████▉   | 9/13 [00:07<00:03,  1.28it/s, loss=1.27]"
          ],
          "name": "stderr"
        },
        {
          "output_type": "stream",
          "text": [
            "torch.Size([4, 3, 256, 256])\n"
          ],
          "name": "stdout"
        },
        {
          "output_type": "stream",
          "text": [
            " 77%|███████▋  | 10/13 [00:07<00:02,  1.29it/s, loss=1.03]"
          ],
          "name": "stderr"
        },
        {
          "output_type": "stream",
          "text": [
            "torch.Size([4, 3, 256, 256])\n"
          ],
          "name": "stdout"
        },
        {
          "output_type": "stream",
          "text": [
            " 85%|████████▍ | 11/13 [00:08<00:01,  1.29it/s, loss=1.18]"
          ],
          "name": "stderr"
        },
        {
          "output_type": "stream",
          "text": [
            "torch.Size([4, 3, 256, 256])\n"
          ],
          "name": "stdout"
        },
        {
          "output_type": "stream",
          "text": [
            " 92%|█████████▏| 12/13 [00:09<00:00,  1.29it/s, loss=1.05]"
          ],
          "name": "stderr"
        },
        {
          "output_type": "stream",
          "text": [
            "torch.Size([2, 3, 256, 256])\n"
          ],
          "name": "stdout"
        },
        {
          "output_type": "stream",
          "text": [
            "100%|██████████| 13/13 [00:09<00:00,  1.32it/s, loss=1.24]\n",
            "  0%|          | 0/13 [00:00<?, ?it/s]"
          ],
          "name": "stderr"
        },
        {
          "output_type": "stream",
          "text": [
            "Dice score: 0.7097815275192261\n",
            "Sensitivity score: 0.6982179597061969\n",
            "Specificity score: 0.9391019803122213\n",
            "torch.Size([4, 3, 256, 256])\n"
          ],
          "name": "stdout"
        },
        {
          "output_type": "stream",
          "text": [
            "  8%|▊         | 1/13 [00:00<00:10,  1.14it/s, loss=1.17]"
          ],
          "name": "stderr"
        },
        {
          "output_type": "stream",
          "text": [
            "torch.Size([4, 3, 256, 256])\n"
          ],
          "name": "stdout"
        },
        {
          "output_type": "stream",
          "text": [
            " 15%|█▌        | 2/13 [00:01<00:09,  1.18it/s, loss=0.994]"
          ],
          "name": "stderr"
        },
        {
          "output_type": "stream",
          "text": [
            "torch.Size([4, 3, 256, 256])\n"
          ],
          "name": "stdout"
        },
        {
          "output_type": "stream",
          "text": [
            " 23%|██▎       | 3/13 [00:02<00:08,  1.21it/s, loss=1.12]"
          ],
          "name": "stderr"
        },
        {
          "output_type": "stream",
          "text": [
            "torch.Size([4, 3, 256, 256])\n"
          ],
          "name": "stdout"
        },
        {
          "output_type": "stream",
          "text": [
            " 31%|███       | 4/13 [00:03<00:07,  1.23it/s, loss=1.18]"
          ],
          "name": "stderr"
        },
        {
          "output_type": "stream",
          "text": [
            "torch.Size([4, 3, 256, 256])\n"
          ],
          "name": "stdout"
        },
        {
          "output_type": "stream",
          "text": [
            " 38%|███▊      | 5/13 [00:03<00:06,  1.25it/s, loss=1.14]"
          ],
          "name": "stderr"
        },
        {
          "output_type": "stream",
          "text": [
            "torch.Size([4, 3, 256, 256])\n"
          ],
          "name": "stdout"
        },
        {
          "output_type": "stream",
          "text": [
            " 46%|████▌     | 6/13 [00:04<00:05,  1.27it/s, loss=1.15]"
          ],
          "name": "stderr"
        },
        {
          "output_type": "stream",
          "text": [
            "torch.Size([4, 3, 256, 256])\n"
          ],
          "name": "stdout"
        },
        {
          "output_type": "stream",
          "text": [
            " 54%|█████▍    | 7/13 [00:05<00:04,  1.28it/s, loss=1.05]"
          ],
          "name": "stderr"
        },
        {
          "output_type": "stream",
          "text": [
            "torch.Size([4, 3, 256, 256])\n"
          ],
          "name": "stdout"
        },
        {
          "output_type": "stream",
          "text": [
            " 62%|██████▏   | 8/13 [00:06<00:03,  1.29it/s, loss=1.32]"
          ],
          "name": "stderr"
        },
        {
          "output_type": "stream",
          "text": [
            "torch.Size([4, 3, 256, 256])\n"
          ],
          "name": "stdout"
        },
        {
          "output_type": "stream",
          "text": [
            " 69%|██████▉   | 9/13 [00:07<00:03,  1.28it/s, loss=1.06]"
          ],
          "name": "stderr"
        },
        {
          "output_type": "stream",
          "text": [
            "torch.Size([4, 3, 256, 256])\n"
          ],
          "name": "stdout"
        },
        {
          "output_type": "stream",
          "text": [
            " 77%|███████▋  | 10/13 [00:07<00:02,  1.29it/s, loss=1.05]"
          ],
          "name": "stderr"
        },
        {
          "output_type": "stream",
          "text": [
            "torch.Size([4, 3, 256, 256])\n"
          ],
          "name": "stdout"
        },
        {
          "output_type": "stream",
          "text": [
            " 85%|████████▍ | 11/13 [00:08<00:01,  1.30it/s, loss=0.953]"
          ],
          "name": "stderr"
        },
        {
          "output_type": "stream",
          "text": [
            "torch.Size([4, 3, 256, 256])\n"
          ],
          "name": "stdout"
        },
        {
          "output_type": "stream",
          "text": [
            " 92%|█████████▏| 12/13 [00:09<00:00,  1.30it/s, loss=1.36]"
          ],
          "name": "stderr"
        },
        {
          "output_type": "stream",
          "text": [
            "torch.Size([2, 3, 256, 256])\n"
          ],
          "name": "stdout"
        },
        {
          "output_type": "stream",
          "text": [
            "100%|██████████| 13/13 [00:09<00:00,  1.32it/s, loss=1.05]\n",
            "  0%|          | 0/13 [00:00<?, ?it/s]"
          ],
          "name": "stderr"
        },
        {
          "output_type": "stream",
          "text": [
            "Dice score: 0.7115556597709656\n",
            "Sensitivity score: 0.7933327616299742\n",
            "Specificity score: 0.9153332549847853\n",
            "torch.Size([4, 3, 256, 256])\n"
          ],
          "name": "stdout"
        },
        {
          "output_type": "stream",
          "text": [
            "  8%|▊         | 1/13 [00:00<00:10,  1.14it/s, loss=1.09]"
          ],
          "name": "stderr"
        },
        {
          "output_type": "stream",
          "text": [
            "torch.Size([4, 3, 256, 256])\n"
          ],
          "name": "stdout"
        },
        {
          "output_type": "stream",
          "text": [
            " 15%|█▌        | 2/13 [00:01<00:09,  1.19it/s, loss=0.953]"
          ],
          "name": "stderr"
        },
        {
          "output_type": "stream",
          "text": [
            "torch.Size([4, 3, 256, 256])\n"
          ],
          "name": "stdout"
        },
        {
          "output_type": "stream",
          "text": [
            " 23%|██▎       | 3/13 [00:02<00:08,  1.22it/s, loss=1.22]"
          ],
          "name": "stderr"
        },
        {
          "output_type": "stream",
          "text": [
            "torch.Size([4, 3, 256, 256])\n"
          ],
          "name": "stdout"
        },
        {
          "output_type": "stream",
          "text": [
            " 31%|███       | 4/13 [00:03<00:07,  1.23it/s, loss=0.987]"
          ],
          "name": "stderr"
        },
        {
          "output_type": "stream",
          "text": [
            "torch.Size([4, 3, 256, 256])\n"
          ],
          "name": "stdout"
        },
        {
          "output_type": "stream",
          "text": [
            " 38%|███▊      | 5/13 [00:03<00:06,  1.25it/s, loss=1.15]"
          ],
          "name": "stderr"
        },
        {
          "output_type": "stream",
          "text": [
            "torch.Size([4, 3, 256, 256])\n"
          ],
          "name": "stdout"
        },
        {
          "output_type": "stream",
          "text": [
            " 46%|████▌     | 6/13 [00:04<00:05,  1.26it/s, loss=1.05]"
          ],
          "name": "stderr"
        },
        {
          "output_type": "stream",
          "text": [
            "torch.Size([4, 3, 256, 256])\n"
          ],
          "name": "stdout"
        },
        {
          "output_type": "stream",
          "text": [
            " 54%|█████▍    | 7/13 [00:05<00:04,  1.28it/s, loss=1.52]"
          ],
          "name": "stderr"
        },
        {
          "output_type": "stream",
          "text": [
            "torch.Size([4, 3, 256, 256])\n"
          ],
          "name": "stdout"
        },
        {
          "output_type": "stream",
          "text": [
            " 62%|██████▏   | 8/13 [00:06<00:03,  1.28it/s, loss=1.13]"
          ],
          "name": "stderr"
        },
        {
          "output_type": "stream",
          "text": [
            "torch.Size([4, 3, 256, 256])\n"
          ],
          "name": "stdout"
        },
        {
          "output_type": "stream",
          "text": [
            " 69%|██████▉   | 9/13 [00:07<00:03,  1.28it/s, loss=1.2]"
          ],
          "name": "stderr"
        },
        {
          "output_type": "stream",
          "text": [
            "torch.Size([4, 3, 256, 256])\n"
          ],
          "name": "stdout"
        },
        {
          "output_type": "stream",
          "text": [
            " 77%|███████▋  | 10/13 [00:07<00:02,  1.30it/s, loss=1.04]"
          ],
          "name": "stderr"
        },
        {
          "output_type": "stream",
          "text": [
            "torch.Size([4, 3, 256, 256])\n"
          ],
          "name": "stdout"
        },
        {
          "output_type": "stream",
          "text": [
            " 85%|████████▍ | 11/13 [00:08<00:01,  1.30it/s, loss=1.29]"
          ],
          "name": "stderr"
        },
        {
          "output_type": "stream",
          "text": [
            "torch.Size([4, 3, 256, 256])\n"
          ],
          "name": "stdout"
        },
        {
          "output_type": "stream",
          "text": [
            " 92%|█████████▏| 12/13 [00:09<00:00,  1.30it/s, loss=0.915]"
          ],
          "name": "stderr"
        },
        {
          "output_type": "stream",
          "text": [
            "torch.Size([2, 3, 256, 256])\n"
          ],
          "name": "stdout"
        },
        {
          "output_type": "stream",
          "text": [
            "100%|██████████| 13/13 [00:09<00:00,  1.32it/s, loss=0.996]\n",
            "  0%|          | 0/13 [00:00<?, ?it/s]"
          ],
          "name": "stderr"
        },
        {
          "output_type": "stream",
          "text": [
            "Dice score: 0.6960753798484802\n",
            "Sensitivity score: 0.7516175509731675\n",
            "Specificity score: 0.9142035085175517\n",
            "torch.Size([4, 3, 256, 256])\n"
          ],
          "name": "stdout"
        },
        {
          "output_type": "stream",
          "text": [
            "  8%|▊         | 1/13 [00:00<00:10,  1.13it/s, loss=1.27]"
          ],
          "name": "stderr"
        },
        {
          "output_type": "stream",
          "text": [
            "torch.Size([4, 3, 256, 256])\n"
          ],
          "name": "stdout"
        },
        {
          "output_type": "stream",
          "text": [
            " 15%|█▌        | 2/13 [00:01<00:09,  1.18it/s, loss=1.51]"
          ],
          "name": "stderr"
        },
        {
          "output_type": "stream",
          "text": [
            "torch.Size([4, 3, 256, 256])\n"
          ],
          "name": "stdout"
        },
        {
          "output_type": "stream",
          "text": [
            " 23%|██▎       | 3/13 [00:02<00:08,  1.21it/s, loss=0.989]"
          ],
          "name": "stderr"
        },
        {
          "output_type": "stream",
          "text": [
            "torch.Size([4, 3, 256, 256])\n"
          ],
          "name": "stdout"
        },
        {
          "output_type": "stream",
          "text": [
            " 31%|███       | 4/13 [00:03<00:07,  1.23it/s, loss=1.25]"
          ],
          "name": "stderr"
        },
        {
          "output_type": "stream",
          "text": [
            "torch.Size([4, 3, 256, 256])\n"
          ],
          "name": "stdout"
        },
        {
          "output_type": "stream",
          "text": [
            " 38%|███▊      | 5/13 [00:03<00:06,  1.25it/s, loss=1.05]"
          ],
          "name": "stderr"
        },
        {
          "output_type": "stream",
          "text": [
            "torch.Size([4, 3, 256, 256])\n"
          ],
          "name": "stdout"
        },
        {
          "output_type": "stream",
          "text": [
            " 46%|████▌     | 6/13 [00:04<00:05,  1.26it/s, loss=1.01]"
          ],
          "name": "stderr"
        },
        {
          "output_type": "stream",
          "text": [
            "torch.Size([4, 3, 256, 256])\n"
          ],
          "name": "stdout"
        },
        {
          "output_type": "stream",
          "text": [
            " 54%|█████▍    | 7/13 [00:05<00:04,  1.28it/s, loss=1.06]"
          ],
          "name": "stderr"
        },
        {
          "output_type": "stream",
          "text": [
            "torch.Size([4, 3, 256, 256])\n"
          ],
          "name": "stdout"
        },
        {
          "output_type": "stream",
          "text": [
            " 62%|██████▏   | 8/13 [00:06<00:03,  1.29it/s, loss=1.02]"
          ],
          "name": "stderr"
        },
        {
          "output_type": "stream",
          "text": [
            "torch.Size([4, 3, 256, 256])\n"
          ],
          "name": "stdout"
        },
        {
          "output_type": "stream",
          "text": [
            " 69%|██████▉   | 9/13 [00:07<00:03,  1.29it/s, loss=1.05]"
          ],
          "name": "stderr"
        },
        {
          "output_type": "stream",
          "text": [
            "torch.Size([4, 3, 256, 256])\n"
          ],
          "name": "stdout"
        },
        {
          "output_type": "stream",
          "text": [
            " 77%|███████▋  | 10/13 [00:07<00:02,  1.29it/s, loss=0.943]"
          ],
          "name": "stderr"
        },
        {
          "output_type": "stream",
          "text": [
            "torch.Size([4, 3, 256, 256])\n"
          ],
          "name": "stdout"
        },
        {
          "output_type": "stream",
          "text": [
            " 85%|████████▍ | 11/13 [00:08<00:01,  1.29it/s, loss=1.02]"
          ],
          "name": "stderr"
        },
        {
          "output_type": "stream",
          "text": [
            "torch.Size([4, 3, 256, 256])\n"
          ],
          "name": "stdout"
        },
        {
          "output_type": "stream",
          "text": [
            " 92%|█████████▏| 12/13 [00:09<00:00,  1.29it/s, loss=1.23]"
          ],
          "name": "stderr"
        },
        {
          "output_type": "stream",
          "text": [
            "torch.Size([2, 3, 256, 256])\n"
          ],
          "name": "stdout"
        },
        {
          "output_type": "stream",
          "text": [
            "100%|██████████| 13/13 [00:09<00:00,  1.32it/s, loss=0.906]\n",
            "  0%|          | 0/13 [00:00<?, ?it/s]"
          ],
          "name": "stderr"
        },
        {
          "output_type": "stream",
          "text": [
            "Dice score: 0.7188806533813477\n",
            "Sensitivity score: 0.6604985230057351\n",
            "Specificity score: 0.9575236019888854\n",
            "torch.Size([4, 3, 256, 256])\n"
          ],
          "name": "stdout"
        },
        {
          "output_type": "stream",
          "text": [
            "  8%|▊         | 1/13 [00:00<00:10,  1.15it/s, loss=0.881]"
          ],
          "name": "stderr"
        },
        {
          "output_type": "stream",
          "text": [
            "torch.Size([4, 3, 256, 256])\n"
          ],
          "name": "stdout"
        },
        {
          "output_type": "stream",
          "text": [
            " 15%|█▌        | 2/13 [00:01<00:09,  1.19it/s, loss=1.01]"
          ],
          "name": "stderr"
        },
        {
          "output_type": "stream",
          "text": [
            "torch.Size([4, 3, 256, 256])\n"
          ],
          "name": "stdout"
        },
        {
          "output_type": "stream",
          "text": [
            " 23%|██▎       | 3/13 [00:02<00:08,  1.22it/s, loss=1.29]"
          ],
          "name": "stderr"
        },
        {
          "output_type": "stream",
          "text": [
            "torch.Size([4, 3, 256, 256])\n"
          ],
          "name": "stdout"
        },
        {
          "output_type": "stream",
          "text": [
            " 31%|███       | 4/13 [00:03<00:07,  1.24it/s, loss=1.31]"
          ],
          "name": "stderr"
        },
        {
          "output_type": "stream",
          "text": [
            "torch.Size([4, 3, 256, 256])\n"
          ],
          "name": "stdout"
        },
        {
          "output_type": "stream",
          "text": [
            " 38%|███▊      | 5/13 [00:03<00:06,  1.25it/s, loss=1.39]"
          ],
          "name": "stderr"
        },
        {
          "output_type": "stream",
          "text": [
            "torch.Size([4, 3, 256, 256])\n"
          ],
          "name": "stdout"
        },
        {
          "output_type": "stream",
          "text": [
            " 46%|████▌     | 6/13 [00:04<00:05,  1.27it/s, loss=1.1]"
          ],
          "name": "stderr"
        },
        {
          "output_type": "stream",
          "text": [
            "torch.Size([4, 3, 256, 256])\n"
          ],
          "name": "stdout"
        },
        {
          "output_type": "stream",
          "text": [
            " 54%|█████▍    | 7/13 [00:05<00:04,  1.28it/s, loss=0.914]"
          ],
          "name": "stderr"
        },
        {
          "output_type": "stream",
          "text": [
            "torch.Size([4, 3, 256, 256])\n"
          ],
          "name": "stdout"
        },
        {
          "output_type": "stream",
          "text": [
            " 62%|██████▏   | 8/13 [00:06<00:03,  1.29it/s, loss=1.02]"
          ],
          "name": "stderr"
        },
        {
          "output_type": "stream",
          "text": [
            "torch.Size([4, 3, 256, 256])\n"
          ],
          "name": "stdout"
        },
        {
          "output_type": "stream",
          "text": [
            " 69%|██████▉   | 9/13 [00:07<00:03,  1.29it/s, loss=1.12]"
          ],
          "name": "stderr"
        },
        {
          "output_type": "stream",
          "text": [
            "torch.Size([4, 3, 256, 256])\n"
          ],
          "name": "stdout"
        },
        {
          "output_type": "stream",
          "text": [
            " 77%|███████▋  | 10/13 [00:07<00:02,  1.29it/s, loss=0.957]"
          ],
          "name": "stderr"
        },
        {
          "output_type": "stream",
          "text": [
            "torch.Size([4, 3, 256, 256])\n"
          ],
          "name": "stdout"
        },
        {
          "output_type": "stream",
          "text": [
            " 85%|████████▍ | 11/13 [00:08<00:01,  1.29it/s, loss=1.27]"
          ],
          "name": "stderr"
        },
        {
          "output_type": "stream",
          "text": [
            "torch.Size([4, 3, 256, 256])\n"
          ],
          "name": "stdout"
        },
        {
          "output_type": "stream",
          "text": [
            " 92%|█████████▏| 12/13 [00:09<00:00,  1.29it/s, loss=0.978]"
          ],
          "name": "stderr"
        },
        {
          "output_type": "stream",
          "text": [
            "torch.Size([2, 3, 256, 256])\n"
          ],
          "name": "stdout"
        },
        {
          "output_type": "stream",
          "text": [
            "100%|██████████| 13/13 [00:09<00:00,  1.32it/s, loss=1.3]\n",
            "  0%|          | 0/13 [00:00<?, ?it/s]"
          ],
          "name": "stderr"
        },
        {
          "output_type": "stream",
          "text": [
            "Dice score: 0.7006847858428955\n",
            "Sensitivity score: 0.6806703131057077\n",
            "Specificity score: 0.9424127275494012\n",
            "torch.Size([4, 3, 256, 256])\n"
          ],
          "name": "stdout"
        },
        {
          "output_type": "stream",
          "text": [
            "  8%|▊         | 1/13 [00:00<00:10,  1.15it/s, loss=0.961]"
          ],
          "name": "stderr"
        },
        {
          "output_type": "stream",
          "text": [
            "torch.Size([4, 3, 256, 256])\n"
          ],
          "name": "stdout"
        },
        {
          "output_type": "stream",
          "text": [
            " 15%|█▌        | 2/13 [00:01<00:09,  1.19it/s, loss=1.24]"
          ],
          "name": "stderr"
        },
        {
          "output_type": "stream",
          "text": [
            "torch.Size([4, 3, 256, 256])\n"
          ],
          "name": "stdout"
        },
        {
          "output_type": "stream",
          "text": [
            " 23%|██▎       | 3/13 [00:02<00:08,  1.22it/s, loss=1.42]"
          ],
          "name": "stderr"
        },
        {
          "output_type": "stream",
          "text": [
            "torch.Size([4, 3, 256, 256])\n"
          ],
          "name": "stdout"
        },
        {
          "output_type": "stream",
          "text": [
            " 31%|███       | 4/13 [00:03<00:07,  1.24it/s, loss=0.966]"
          ],
          "name": "stderr"
        },
        {
          "output_type": "stream",
          "text": [
            "torch.Size([4, 3, 256, 256])\n"
          ],
          "name": "stdout"
        },
        {
          "output_type": "stream",
          "text": [
            " 38%|███▊      | 5/13 [00:03<00:06,  1.26it/s, loss=0.971]"
          ],
          "name": "stderr"
        },
        {
          "output_type": "stream",
          "text": [
            "torch.Size([4, 3, 256, 256])\n"
          ],
          "name": "stdout"
        },
        {
          "output_type": "stream",
          "text": [
            " 46%|████▌     | 6/13 [00:04<00:05,  1.27it/s, loss=1.1]"
          ],
          "name": "stderr"
        },
        {
          "output_type": "stream",
          "text": [
            "torch.Size([4, 3, 256, 256])\n"
          ],
          "name": "stdout"
        },
        {
          "output_type": "stream",
          "text": [
            " 54%|█████▍    | 7/13 [00:05<00:04,  1.28it/s, loss=1.12]"
          ],
          "name": "stderr"
        },
        {
          "output_type": "stream",
          "text": [
            "torch.Size([4, 3, 256, 256])\n"
          ],
          "name": "stdout"
        },
        {
          "output_type": "stream",
          "text": [
            " 62%|██████▏   | 8/13 [00:06<00:03,  1.29it/s, loss=0.931]"
          ],
          "name": "stderr"
        },
        {
          "output_type": "stream",
          "text": [
            "torch.Size([4, 3, 256, 256])\n"
          ],
          "name": "stdout"
        },
        {
          "output_type": "stream",
          "text": [
            " 69%|██████▉   | 9/13 [00:07<00:03,  1.29it/s, loss=1.08]"
          ],
          "name": "stderr"
        },
        {
          "output_type": "stream",
          "text": [
            "torch.Size([4, 3, 256, 256])\n"
          ],
          "name": "stdout"
        },
        {
          "output_type": "stream",
          "text": [
            " 77%|███████▋  | 10/13 [00:07<00:02,  1.29it/s, loss=1.25]"
          ],
          "name": "stderr"
        },
        {
          "output_type": "stream",
          "text": [
            "torch.Size([4, 3, 256, 256])\n"
          ],
          "name": "stdout"
        },
        {
          "output_type": "stream",
          "text": [
            " 85%|████████▍ | 11/13 [00:08<00:01,  1.29it/s, loss=1.01]"
          ],
          "name": "stderr"
        },
        {
          "output_type": "stream",
          "text": [
            "torch.Size([4, 3, 256, 256])\n"
          ],
          "name": "stdout"
        },
        {
          "output_type": "stream",
          "text": [
            " 92%|█████████▏| 12/13 [00:09<00:00,  1.29it/s, loss=1.06]"
          ],
          "name": "stderr"
        },
        {
          "output_type": "stream",
          "text": [
            "torch.Size([2, 3, 256, 256])\n"
          ],
          "name": "stdout"
        },
        {
          "output_type": "stream",
          "text": [
            "100%|██████████| 13/13 [00:09<00:00,  1.32it/s, loss=0.98]\n",
            "  0%|          | 0/13 [00:00<?, ?it/s]"
          ],
          "name": "stderr"
        },
        {
          "output_type": "stream",
          "text": [
            "Dice score: 0.725255012512207\n",
            "Sensitivity score: 0.7954541952286874\n",
            "Specificity score: 0.9218706265620235\n",
            "torch.Size([4, 3, 256, 256])\n"
          ],
          "name": "stdout"
        },
        {
          "output_type": "stream",
          "text": [
            "  8%|▊         | 1/13 [00:00<00:10,  1.15it/s, loss=0.944]"
          ],
          "name": "stderr"
        },
        {
          "output_type": "stream",
          "text": [
            "torch.Size([4, 3, 256, 256])\n"
          ],
          "name": "stdout"
        },
        {
          "output_type": "stream",
          "text": [
            " 15%|█▌        | 2/13 [00:01<00:09,  1.19it/s, loss=1.18]"
          ],
          "name": "stderr"
        },
        {
          "output_type": "stream",
          "text": [
            "torch.Size([4, 3, 256, 256])\n"
          ],
          "name": "stdout"
        },
        {
          "output_type": "stream",
          "text": [
            " 23%|██▎       | 3/13 [00:02<00:08,  1.22it/s, loss=0.908]"
          ],
          "name": "stderr"
        },
        {
          "output_type": "stream",
          "text": [
            "torch.Size([4, 3, 256, 256])\n"
          ],
          "name": "stdout"
        },
        {
          "output_type": "stream",
          "text": [
            " 31%|███       | 4/13 [00:03<00:07,  1.24it/s, loss=0.938]"
          ],
          "name": "stderr"
        },
        {
          "output_type": "stream",
          "text": [
            "torch.Size([4, 3, 256, 256])\n"
          ],
          "name": "stdout"
        },
        {
          "output_type": "stream",
          "text": [
            " 38%|███▊      | 5/13 [00:03<00:06,  1.26it/s, loss=1.08]"
          ],
          "name": "stderr"
        },
        {
          "output_type": "stream",
          "text": [
            "torch.Size([4, 3, 256, 256])\n"
          ],
          "name": "stdout"
        },
        {
          "output_type": "stream",
          "text": [
            " 46%|████▌     | 6/13 [00:04<00:05,  1.28it/s, loss=0.986]"
          ],
          "name": "stderr"
        },
        {
          "output_type": "stream",
          "text": [
            "torch.Size([4, 3, 256, 256])\n"
          ],
          "name": "stdout"
        },
        {
          "output_type": "stream",
          "text": [
            " 54%|█████▍    | 7/13 [00:05<00:04,  1.29it/s, loss=1.08]"
          ],
          "name": "stderr"
        },
        {
          "output_type": "stream",
          "text": [
            "torch.Size([4, 3, 256, 256])\n"
          ],
          "name": "stdout"
        },
        {
          "output_type": "stream",
          "text": [
            " 62%|██████▏   | 8/13 [00:06<00:03,  1.29it/s, loss=0.908]"
          ],
          "name": "stderr"
        },
        {
          "output_type": "stream",
          "text": [
            "torch.Size([4, 3, 256, 256])\n"
          ],
          "name": "stdout"
        },
        {
          "output_type": "stream",
          "text": [
            " 69%|██████▉   | 9/13 [00:07<00:03,  1.29it/s, loss=1.2]"
          ],
          "name": "stderr"
        },
        {
          "output_type": "stream",
          "text": [
            "torch.Size([4, 3, 256, 256])\n"
          ],
          "name": "stdout"
        },
        {
          "output_type": "stream",
          "text": [
            " 77%|███████▋  | 10/13 [00:07<00:02,  1.30it/s, loss=1.17]"
          ],
          "name": "stderr"
        },
        {
          "output_type": "stream",
          "text": [
            "torch.Size([4, 3, 256, 256])\n"
          ],
          "name": "stdout"
        },
        {
          "output_type": "stream",
          "text": [
            " 85%|████████▍ | 11/13 [00:08<00:01,  1.30it/s, loss=1.01]"
          ],
          "name": "stderr"
        },
        {
          "output_type": "stream",
          "text": [
            "torch.Size([4, 3, 256, 256])\n"
          ],
          "name": "stdout"
        },
        {
          "output_type": "stream",
          "text": [
            " 92%|█████████▏| 12/13 [00:09<00:00,  1.30it/s, loss=1.15]"
          ],
          "name": "stderr"
        },
        {
          "output_type": "stream",
          "text": [
            "torch.Size([2, 3, 256, 256])\n"
          ],
          "name": "stdout"
        },
        {
          "output_type": "stream",
          "text": [
            "100%|██████████| 13/13 [00:09<00:00,  1.32it/s, loss=1.23]\n",
            "  0%|          | 0/13 [00:00<?, ?it/s]"
          ],
          "name": "stderr"
        },
        {
          "output_type": "stream",
          "text": [
            "Dice score: 0.7035505175590515\n",
            "Sensitivity score: 0.7822899693414317\n",
            "Specificity score: 0.9084677894206937\n",
            "torch.Size([4, 3, 256, 256])\n"
          ],
          "name": "stdout"
        },
        {
          "output_type": "stream",
          "text": [
            "  8%|▊         | 1/13 [00:00<00:10,  1.14it/s, loss=1.06]"
          ],
          "name": "stderr"
        },
        {
          "output_type": "stream",
          "text": [
            "torch.Size([4, 3, 256, 256])\n"
          ],
          "name": "stdout"
        },
        {
          "output_type": "stream",
          "text": [
            " 15%|█▌        | 2/13 [00:01<00:09,  1.18it/s, loss=0.935]"
          ],
          "name": "stderr"
        },
        {
          "output_type": "stream",
          "text": [
            "torch.Size([4, 3, 256, 256])\n"
          ],
          "name": "stdout"
        },
        {
          "output_type": "stream",
          "text": [
            " 23%|██▎       | 3/13 [00:02<00:08,  1.22it/s, loss=1.09]"
          ],
          "name": "stderr"
        },
        {
          "output_type": "stream",
          "text": [
            "torch.Size([4, 3, 256, 256])\n"
          ],
          "name": "stdout"
        },
        {
          "output_type": "stream",
          "text": [
            " 31%|███       | 4/13 [00:03<00:07,  1.24it/s, loss=1.15]"
          ],
          "name": "stderr"
        },
        {
          "output_type": "stream",
          "text": [
            "torch.Size([4, 3, 256, 256])\n"
          ],
          "name": "stdout"
        },
        {
          "output_type": "stream",
          "text": [
            " 38%|███▊      | 5/13 [00:03<00:06,  1.25it/s, loss=1.01]"
          ],
          "name": "stderr"
        },
        {
          "output_type": "stream",
          "text": [
            "torch.Size([4, 3, 256, 256])\n"
          ],
          "name": "stdout"
        },
        {
          "output_type": "stream",
          "text": [
            " 46%|████▌     | 6/13 [00:04<00:05,  1.27it/s, loss=1.05]"
          ],
          "name": "stderr"
        },
        {
          "output_type": "stream",
          "text": [
            "torch.Size([4, 3, 256, 256])\n"
          ],
          "name": "stdout"
        },
        {
          "output_type": "stream",
          "text": [
            " 54%|█████▍    | 7/13 [00:05<00:04,  1.28it/s, loss=0.938]"
          ],
          "name": "stderr"
        },
        {
          "output_type": "stream",
          "text": [
            "torch.Size([4, 3, 256, 256])\n"
          ],
          "name": "stdout"
        },
        {
          "output_type": "stream",
          "text": [
            " 62%|██████▏   | 8/13 [00:06<00:03,  1.29it/s, loss=1.05]"
          ],
          "name": "stderr"
        },
        {
          "output_type": "stream",
          "text": [
            "torch.Size([4, 3, 256, 256])\n"
          ],
          "name": "stdout"
        },
        {
          "output_type": "stream",
          "text": [
            " 69%|██████▉   | 9/13 [00:07<00:03,  1.29it/s, loss=0.933]"
          ],
          "name": "stderr"
        },
        {
          "output_type": "stream",
          "text": [
            "torch.Size([4, 3, 256, 256])\n"
          ],
          "name": "stdout"
        },
        {
          "output_type": "stream",
          "text": [
            " 77%|███████▋  | 10/13 [00:07<00:02,  1.29it/s, loss=0.946]"
          ],
          "name": "stderr"
        },
        {
          "output_type": "stream",
          "text": [
            "torch.Size([4, 3, 256, 256])\n"
          ],
          "name": "stdout"
        },
        {
          "output_type": "stream",
          "text": [
            " 85%|████████▍ | 11/13 [00:08<00:01,  1.29it/s, loss=0.969]"
          ],
          "name": "stderr"
        },
        {
          "output_type": "stream",
          "text": [
            "torch.Size([4, 3, 256, 256])\n"
          ],
          "name": "stdout"
        },
        {
          "output_type": "stream",
          "text": [
            " 92%|█████████▏| 12/13 [00:09<00:00,  1.30it/s, loss=1.19]"
          ],
          "name": "stderr"
        },
        {
          "output_type": "stream",
          "text": [
            "torch.Size([2, 3, 256, 256])\n"
          ],
          "name": "stdout"
        },
        {
          "output_type": "stream",
          "text": [
            "100%|██████████| 13/13 [00:09<00:00,  1.32it/s, loss=1.08]\n",
            "  0%|          | 0/13 [00:00<?, ?it/s]"
          ],
          "name": "stderr"
        },
        {
          "output_type": "stream",
          "text": [
            "Dice score: 0.7078168392181396\n",
            "Sensitivity score: 0.7627938309990959\n",
            "Specificity score: 0.9176321108799215\n",
            "torch.Size([4, 3, 256, 256])\n"
          ],
          "name": "stdout"
        },
        {
          "output_type": "stream",
          "text": [
            "  8%|▊         | 1/13 [00:00<00:10,  1.12it/s, loss=0.957]"
          ],
          "name": "stderr"
        },
        {
          "output_type": "stream",
          "text": [
            "torch.Size([4, 3, 256, 256])\n"
          ],
          "name": "stdout"
        },
        {
          "output_type": "stream",
          "text": [
            " 15%|█▌        | 2/13 [00:01<00:09,  1.17it/s, loss=0.97]"
          ],
          "name": "stderr"
        },
        {
          "output_type": "stream",
          "text": [
            "torch.Size([4, 3, 256, 256])\n"
          ],
          "name": "stdout"
        },
        {
          "output_type": "stream",
          "text": [
            " 23%|██▎       | 3/13 [00:02<00:08,  1.21it/s, loss=1.08]"
          ],
          "name": "stderr"
        },
        {
          "output_type": "stream",
          "text": [
            "torch.Size([4, 3, 256, 256])\n"
          ],
          "name": "stdout"
        },
        {
          "output_type": "stream",
          "text": [
            " 31%|███       | 4/13 [00:03<00:07,  1.23it/s, loss=1.17]"
          ],
          "name": "stderr"
        },
        {
          "output_type": "stream",
          "text": [
            "torch.Size([4, 3, 256, 256])\n"
          ],
          "name": "stdout"
        },
        {
          "output_type": "stream",
          "text": [
            " 38%|███▊      | 5/13 [00:03<00:06,  1.25it/s, loss=0.922]"
          ],
          "name": "stderr"
        },
        {
          "output_type": "stream",
          "text": [
            "torch.Size([4, 3, 256, 256])\n"
          ],
          "name": "stdout"
        },
        {
          "output_type": "stream",
          "text": [
            " 46%|████▌     | 6/13 [00:04<00:05,  1.26it/s, loss=1.09]"
          ],
          "name": "stderr"
        },
        {
          "output_type": "stream",
          "text": [
            "torch.Size([4, 3, 256, 256])\n"
          ],
          "name": "stdout"
        },
        {
          "output_type": "stream",
          "text": [
            " 54%|█████▍    | 7/13 [00:05<00:04,  1.28it/s, loss=1.31]"
          ],
          "name": "stderr"
        },
        {
          "output_type": "stream",
          "text": [
            "torch.Size([4, 3, 256, 256])\n"
          ],
          "name": "stdout"
        },
        {
          "output_type": "stream",
          "text": [
            " 62%|██████▏   | 8/13 [00:06<00:03,  1.28it/s, loss=0.99]"
          ],
          "name": "stderr"
        },
        {
          "output_type": "stream",
          "text": [
            "torch.Size([4, 3, 256, 256])\n"
          ],
          "name": "stdout"
        },
        {
          "output_type": "stream",
          "text": [
            " 69%|██████▉   | 9/13 [00:07<00:03,  1.28it/s, loss=1.01]"
          ],
          "name": "stderr"
        },
        {
          "output_type": "stream",
          "text": [
            "torch.Size([4, 3, 256, 256])\n"
          ],
          "name": "stdout"
        },
        {
          "output_type": "stream",
          "text": [
            " 77%|███████▋  | 10/13 [00:07<00:02,  1.29it/s, loss=1.07]"
          ],
          "name": "stderr"
        },
        {
          "output_type": "stream",
          "text": [
            "torch.Size([4, 3, 256, 256])\n"
          ],
          "name": "stdout"
        },
        {
          "output_type": "stream",
          "text": [
            " 85%|████████▍ | 11/13 [00:08<00:01,  1.29it/s, loss=0.914]"
          ],
          "name": "stderr"
        },
        {
          "output_type": "stream",
          "text": [
            "torch.Size([4, 3, 256, 256])\n"
          ],
          "name": "stdout"
        },
        {
          "output_type": "stream",
          "text": [
            " 92%|█████████▏| 12/13 [00:09<00:00,  1.30it/s, loss=1.06]"
          ],
          "name": "stderr"
        },
        {
          "output_type": "stream",
          "text": [
            "torch.Size([2, 3, 256, 256])\n"
          ],
          "name": "stdout"
        },
        {
          "output_type": "stream",
          "text": [
            "100%|██████████| 13/13 [00:09<00:00,  1.32it/s, loss=1.3]\n",
            "  0%|          | 0/13 [00:00<?, ?it/s]"
          ],
          "name": "stderr"
        },
        {
          "output_type": "stream",
          "text": [
            "Dice score: 0.7362134456634521\n",
            "Sensitivity score: 0.8090424474637216\n",
            "Specificity score: 0.9229676366432112\n",
            "torch.Size([4, 3, 256, 256])\n"
          ],
          "name": "stdout"
        },
        {
          "output_type": "stream",
          "text": [
            "  8%|▊         | 1/13 [00:00<00:10,  1.15it/s, loss=0.866]"
          ],
          "name": "stderr"
        },
        {
          "output_type": "stream",
          "text": [
            "torch.Size([4, 3, 256, 256])\n"
          ],
          "name": "stdout"
        },
        {
          "output_type": "stream",
          "text": [
            " 15%|█▌        | 2/13 [00:01<00:09,  1.19it/s, loss=0.993]"
          ],
          "name": "stderr"
        },
        {
          "output_type": "stream",
          "text": [
            "torch.Size([4, 3, 256, 256])\n"
          ],
          "name": "stdout"
        },
        {
          "output_type": "stream",
          "text": [
            " 23%|██▎       | 3/13 [00:02<00:08,  1.23it/s, loss=1.26]"
          ],
          "name": "stderr"
        },
        {
          "output_type": "stream",
          "text": [
            "torch.Size([4, 3, 256, 256])\n"
          ],
          "name": "stdout"
        },
        {
          "output_type": "stream",
          "text": [
            " 31%|███       | 4/13 [00:03<00:07,  1.25it/s, loss=1.13]"
          ],
          "name": "stderr"
        },
        {
          "output_type": "stream",
          "text": [
            "torch.Size([4, 3, 256, 256])\n"
          ],
          "name": "stdout"
        },
        {
          "output_type": "stream",
          "text": [
            " 38%|███▊      | 5/13 [00:03<00:06,  1.26it/s, loss=1.09]"
          ],
          "name": "stderr"
        },
        {
          "output_type": "stream",
          "text": [
            "torch.Size([4, 3, 256, 256])\n"
          ],
          "name": "stdout"
        },
        {
          "output_type": "stream",
          "text": [
            " 46%|████▌     | 6/13 [00:04<00:05,  1.28it/s, loss=1.01]"
          ],
          "name": "stderr"
        },
        {
          "output_type": "stream",
          "text": [
            "torch.Size([4, 3, 256, 256])\n"
          ],
          "name": "stdout"
        },
        {
          "output_type": "stream",
          "text": [
            " 54%|█████▍    | 7/13 [00:05<00:04,  1.28it/s, loss=0.975]"
          ],
          "name": "stderr"
        },
        {
          "output_type": "stream",
          "text": [
            "torch.Size([4, 3, 256, 256])\n"
          ],
          "name": "stdout"
        },
        {
          "output_type": "stream",
          "text": [
            " 62%|██████▏   | 8/13 [00:06<00:03,  1.29it/s, loss=0.981]"
          ],
          "name": "stderr"
        },
        {
          "output_type": "stream",
          "text": [
            "torch.Size([4, 3, 256, 256])\n"
          ],
          "name": "stdout"
        },
        {
          "output_type": "stream",
          "text": [
            " 69%|██████▉   | 9/13 [00:07<00:03,  1.29it/s, loss=0.888]"
          ],
          "name": "stderr"
        },
        {
          "output_type": "stream",
          "text": [
            "torch.Size([4, 3, 256, 256])\n"
          ],
          "name": "stdout"
        },
        {
          "output_type": "stream",
          "text": [
            " 77%|███████▋  | 10/13 [00:07<00:02,  1.30it/s, loss=0.891]"
          ],
          "name": "stderr"
        },
        {
          "output_type": "stream",
          "text": [
            "torch.Size([4, 3, 256, 256])\n"
          ],
          "name": "stdout"
        },
        {
          "output_type": "stream",
          "text": [
            " 85%|████████▍ | 11/13 [00:08<00:01,  1.30it/s, loss=0.964]"
          ],
          "name": "stderr"
        },
        {
          "output_type": "stream",
          "text": [
            "torch.Size([4, 3, 256, 256])\n"
          ],
          "name": "stdout"
        },
        {
          "output_type": "stream",
          "text": [
            " 92%|█████████▏| 12/13 [00:09<00:00,  1.31it/s, loss=1.03]"
          ],
          "name": "stderr"
        },
        {
          "output_type": "stream",
          "text": [
            "torch.Size([2, 3, 256, 256])\n"
          ],
          "name": "stdout"
        },
        {
          "output_type": "stream",
          "text": [
            "100%|██████████| 13/13 [00:09<00:00,  1.33it/s, loss=1.09]\n",
            "  0%|          | 0/13 [00:00<?, ?it/s]"
          ],
          "name": "stderr"
        },
        {
          "output_type": "stream",
          "text": [
            "Dice score: 0.7358137369155884\n",
            "Sensitivity score: 0.6526323624271003\n",
            "Specificity score: 0.9673984421406564\n",
            "torch.Size([4, 3, 256, 256])\n"
          ],
          "name": "stdout"
        },
        {
          "output_type": "stream",
          "text": [
            "  8%|▊         | 1/13 [00:00<00:10,  1.15it/s, loss=0.894]"
          ],
          "name": "stderr"
        },
        {
          "output_type": "stream",
          "text": [
            "torch.Size([4, 3, 256, 256])\n"
          ],
          "name": "stdout"
        },
        {
          "output_type": "stream",
          "text": [
            " 15%|█▌        | 2/13 [00:01<00:09,  1.20it/s, loss=0.924]"
          ],
          "name": "stderr"
        },
        {
          "output_type": "stream",
          "text": [
            "torch.Size([4, 3, 256, 256])\n"
          ],
          "name": "stdout"
        },
        {
          "output_type": "stream",
          "text": [
            " 23%|██▎       | 3/13 [00:02<00:08,  1.22it/s, loss=0.863]"
          ],
          "name": "stderr"
        },
        {
          "output_type": "stream",
          "text": [
            "torch.Size([4, 3, 256, 256])\n"
          ],
          "name": "stdout"
        },
        {
          "output_type": "stream",
          "text": [
            " 31%|███       | 4/13 [00:03<00:07,  1.24it/s, loss=0.867]"
          ],
          "name": "stderr"
        },
        {
          "output_type": "stream",
          "text": [
            "torch.Size([4, 3, 256, 256])\n"
          ],
          "name": "stdout"
        },
        {
          "output_type": "stream",
          "text": [
            " 38%|███▊      | 5/13 [00:03<00:06,  1.26it/s, loss=1.03]"
          ],
          "name": "stderr"
        },
        {
          "output_type": "stream",
          "text": [
            "torch.Size([4, 3, 256, 256])\n"
          ],
          "name": "stdout"
        },
        {
          "output_type": "stream",
          "text": [
            " 46%|████▌     | 6/13 [00:04<00:05,  1.28it/s, loss=0.901]"
          ],
          "name": "stderr"
        },
        {
          "output_type": "stream",
          "text": [
            "torch.Size([4, 3, 256, 256])\n"
          ],
          "name": "stdout"
        },
        {
          "output_type": "stream",
          "text": [
            " 54%|█████▍    | 7/13 [00:05<00:04,  1.29it/s, loss=0.924]"
          ],
          "name": "stderr"
        },
        {
          "output_type": "stream",
          "text": [
            "torch.Size([4, 3, 256, 256])\n"
          ],
          "name": "stdout"
        },
        {
          "output_type": "stream",
          "text": [
            " 62%|██████▏   | 8/13 [00:06<00:03,  1.30it/s, loss=0.972]"
          ],
          "name": "stderr"
        },
        {
          "output_type": "stream",
          "text": [
            "torch.Size([4, 3, 256, 256])\n"
          ],
          "name": "stdout"
        },
        {
          "output_type": "stream",
          "text": [
            " 69%|██████▉   | 9/13 [00:06<00:03,  1.29it/s, loss=0.947]"
          ],
          "name": "stderr"
        },
        {
          "output_type": "stream",
          "text": [
            "torch.Size([4, 3, 256, 256])\n"
          ],
          "name": "stdout"
        },
        {
          "output_type": "stream",
          "text": [
            " 77%|███████▋  | 10/13 [00:07<00:02,  1.30it/s, loss=1.05]"
          ],
          "name": "stderr"
        },
        {
          "output_type": "stream",
          "text": [
            "torch.Size([4, 3, 256, 256])\n"
          ],
          "name": "stdout"
        },
        {
          "output_type": "stream",
          "text": [
            " 85%|████████▍ | 11/13 [00:08<00:01,  1.30it/s, loss=1.19]"
          ],
          "name": "stderr"
        },
        {
          "output_type": "stream",
          "text": [
            "torch.Size([4, 3, 256, 256])\n"
          ],
          "name": "stdout"
        },
        {
          "output_type": "stream",
          "text": [
            " 92%|█████████▏| 12/13 [00:09<00:00,  1.30it/s, loss=1.15]"
          ],
          "name": "stderr"
        },
        {
          "output_type": "stream",
          "text": [
            "torch.Size([2, 3, 256, 256])\n"
          ],
          "name": "stdout"
        },
        {
          "output_type": "stream",
          "text": [
            "100%|██████████| 13/13 [00:09<00:00,  1.33it/s, loss=1.53]\n",
            "  0%|          | 0/13 [00:00<?, ?it/s]"
          ],
          "name": "stderr"
        },
        {
          "output_type": "stream",
          "text": [
            "Dice score: 0.6548780798912048\n",
            "Sensitivity score: 0.5085341701984648\n",
            "Specificity score: 0.979693614204702\n",
            "torch.Size([4, 3, 256, 256])\n"
          ],
          "name": "stdout"
        },
        {
          "output_type": "stream",
          "text": [
            "  8%|▊         | 1/13 [00:00<00:10,  1.15it/s, loss=0.983]"
          ],
          "name": "stderr"
        },
        {
          "output_type": "stream",
          "text": [
            "torch.Size([4, 3, 256, 256])\n"
          ],
          "name": "stdout"
        },
        {
          "output_type": "stream",
          "text": [
            " 15%|█▌        | 2/13 [00:01<00:09,  1.19it/s, loss=0.941]"
          ],
          "name": "stderr"
        },
        {
          "output_type": "stream",
          "text": [
            "torch.Size([4, 3, 256, 256])\n"
          ],
          "name": "stdout"
        },
        {
          "output_type": "stream",
          "text": [
            " 23%|██▎       | 3/13 [00:02<00:08,  1.22it/s, loss=0.955]"
          ],
          "name": "stderr"
        },
        {
          "output_type": "stream",
          "text": [
            "torch.Size([4, 3, 256, 256])\n"
          ],
          "name": "stdout"
        },
        {
          "output_type": "stream",
          "text": [
            " 31%|███       | 4/13 [00:03<00:07,  1.24it/s, loss=0.941]"
          ],
          "name": "stderr"
        },
        {
          "output_type": "stream",
          "text": [
            "torch.Size([4, 3, 256, 256])\n"
          ],
          "name": "stdout"
        },
        {
          "output_type": "stream",
          "text": [
            " 38%|███▊      | 5/13 [00:03<00:06,  1.25it/s, loss=1.28]"
          ],
          "name": "stderr"
        },
        {
          "output_type": "stream",
          "text": [
            "torch.Size([4, 3, 256, 256])\n"
          ],
          "name": "stdout"
        },
        {
          "output_type": "stream",
          "text": [
            " 46%|████▌     | 6/13 [00:04<00:05,  1.27it/s, loss=0.962]"
          ],
          "name": "stderr"
        },
        {
          "output_type": "stream",
          "text": [
            "torch.Size([4, 3, 256, 256])\n"
          ],
          "name": "stdout"
        },
        {
          "output_type": "stream",
          "text": [
            " 54%|█████▍    | 7/13 [00:05<00:04,  1.28it/s, loss=0.948]"
          ],
          "name": "stderr"
        },
        {
          "output_type": "stream",
          "text": [
            "torch.Size([4, 3, 256, 256])\n"
          ],
          "name": "stdout"
        },
        {
          "output_type": "stream",
          "text": [
            " 62%|██████▏   | 8/13 [00:06<00:03,  1.29it/s, loss=0.991]"
          ],
          "name": "stderr"
        },
        {
          "output_type": "stream",
          "text": [
            "torch.Size([4, 3, 256, 256])\n"
          ],
          "name": "stdout"
        },
        {
          "output_type": "stream",
          "text": [
            " 69%|██████▉   | 9/13 [00:07<00:03,  1.29it/s, loss=1.13]"
          ],
          "name": "stderr"
        },
        {
          "output_type": "stream",
          "text": [
            "torch.Size([4, 3, 256, 256])\n"
          ],
          "name": "stdout"
        },
        {
          "output_type": "stream",
          "text": [
            " 77%|███████▋  | 10/13 [00:07<00:02,  1.29it/s, loss=0.88]"
          ],
          "name": "stderr"
        },
        {
          "output_type": "stream",
          "text": [
            "torch.Size([4, 3, 256, 256])\n"
          ],
          "name": "stdout"
        },
        {
          "output_type": "stream",
          "text": [
            " 85%|████████▍ | 11/13 [00:08<00:01,  1.30it/s, loss=1.13]"
          ],
          "name": "stderr"
        },
        {
          "output_type": "stream",
          "text": [
            "torch.Size([4, 3, 256, 256])\n"
          ],
          "name": "stdout"
        },
        {
          "output_type": "stream",
          "text": [
            " 92%|█████████▏| 12/13 [00:09<00:00,  1.30it/s, loss=0.932]"
          ],
          "name": "stderr"
        },
        {
          "output_type": "stream",
          "text": [
            "torch.Size([2, 3, 256, 256])\n"
          ],
          "name": "stdout"
        },
        {
          "output_type": "stream",
          "text": [
            "100%|██████████| 13/13 [00:09<00:00,  1.32it/s, loss=0.865]\n",
            "  0%|          | 0/13 [00:00<?, ?it/s]"
          ],
          "name": "stderr"
        },
        {
          "output_type": "stream",
          "text": [
            "Dice score: 0.714385449886322\n",
            "Sensitivity score: 0.6424029289303391\n",
            "Specificity score: 0.9587554833333329\n",
            "torch.Size([4, 3, 256, 256])\n"
          ],
          "name": "stdout"
        },
        {
          "output_type": "stream",
          "text": [
            "  8%|▊         | 1/13 [00:00<00:10,  1.15it/s, loss=1.11]"
          ],
          "name": "stderr"
        },
        {
          "output_type": "stream",
          "text": [
            "torch.Size([4, 3, 256, 256])\n"
          ],
          "name": "stdout"
        },
        {
          "output_type": "stream",
          "text": [
            " 15%|█▌        | 2/13 [00:01<00:09,  1.20it/s, loss=1.19]"
          ],
          "name": "stderr"
        },
        {
          "output_type": "stream",
          "text": [
            "torch.Size([4, 3, 256, 256])\n"
          ],
          "name": "stdout"
        },
        {
          "output_type": "stream",
          "text": [
            " 23%|██▎       | 3/13 [00:02<00:08,  1.22it/s, loss=0.92]"
          ],
          "name": "stderr"
        },
        {
          "output_type": "stream",
          "text": [
            "torch.Size([4, 3, 256, 256])\n"
          ],
          "name": "stdout"
        },
        {
          "output_type": "stream",
          "text": [
            " 31%|███       | 4/13 [00:03<00:07,  1.25it/s, loss=0.955]"
          ],
          "name": "stderr"
        },
        {
          "output_type": "stream",
          "text": [
            "torch.Size([4, 3, 256, 256])\n"
          ],
          "name": "stdout"
        },
        {
          "output_type": "stream",
          "text": [
            " 38%|███▊      | 5/13 [00:03<00:06,  1.26it/s, loss=0.957]"
          ],
          "name": "stderr"
        },
        {
          "output_type": "stream",
          "text": [
            "torch.Size([4, 3, 256, 256])\n"
          ],
          "name": "stdout"
        },
        {
          "output_type": "stream",
          "text": [
            " 46%|████▌     | 6/13 [00:04<00:05,  1.27it/s, loss=0.949]"
          ],
          "name": "stderr"
        },
        {
          "output_type": "stream",
          "text": [
            "torch.Size([4, 3, 256, 256])\n"
          ],
          "name": "stdout"
        },
        {
          "output_type": "stream",
          "text": [
            " 54%|█████▍    | 7/13 [00:05<00:04,  1.28it/s, loss=0.838]"
          ],
          "name": "stderr"
        },
        {
          "output_type": "stream",
          "text": [
            "torch.Size([4, 3, 256, 256])\n"
          ],
          "name": "stdout"
        },
        {
          "output_type": "stream",
          "text": [
            " 62%|██████▏   | 8/13 [00:06<00:03,  1.29it/s, loss=0.96]"
          ],
          "name": "stderr"
        },
        {
          "output_type": "stream",
          "text": [
            "torch.Size([4, 3, 256, 256])\n"
          ],
          "name": "stdout"
        },
        {
          "output_type": "stream",
          "text": [
            " 69%|██████▉   | 9/13 [00:07<00:03,  1.29it/s, loss=0.982]"
          ],
          "name": "stderr"
        },
        {
          "output_type": "stream",
          "text": [
            "torch.Size([4, 3, 256, 256])\n"
          ],
          "name": "stdout"
        },
        {
          "output_type": "stream",
          "text": [
            " 77%|███████▋  | 10/13 [00:07<00:02,  1.30it/s, loss=1.02]"
          ],
          "name": "stderr"
        },
        {
          "output_type": "stream",
          "text": [
            "torch.Size([4, 3, 256, 256])\n"
          ],
          "name": "stdout"
        },
        {
          "output_type": "stream",
          "text": [
            " 85%|████████▍ | 11/13 [00:08<00:01,  1.30it/s, loss=1.2]"
          ],
          "name": "stderr"
        },
        {
          "output_type": "stream",
          "text": [
            "torch.Size([4, 3, 256, 256])\n"
          ],
          "name": "stdout"
        },
        {
          "output_type": "stream",
          "text": [
            " 92%|█████████▏| 12/13 [00:09<00:00,  1.30it/s, loss=0.837]"
          ],
          "name": "stderr"
        },
        {
          "output_type": "stream",
          "text": [
            "torch.Size([2, 3, 256, 256])\n"
          ],
          "name": "stdout"
        },
        {
          "output_type": "stream",
          "text": [
            "100%|██████████| 13/13 [00:09<00:00,  1.32it/s, loss=0.862]\n",
            "  0%|          | 0/13 [00:00<?, ?it/s]"
          ],
          "name": "stderr"
        },
        {
          "output_type": "stream",
          "text": [
            "Dice score: 0.7401566505432129\n",
            "Sensitivity score: 0.7189782186141889\n",
            "Specificity score: 0.9499657616194477\n",
            "torch.Size([4, 3, 256, 256])\n"
          ],
          "name": "stdout"
        },
        {
          "output_type": "stream",
          "text": [
            "  8%|▊         | 1/13 [00:00<00:10,  1.14it/s, loss=0.912]"
          ],
          "name": "stderr"
        },
        {
          "output_type": "stream",
          "text": [
            "torch.Size([4, 3, 256, 256])\n"
          ],
          "name": "stdout"
        },
        {
          "output_type": "stream",
          "text": [
            " 15%|█▌        | 2/13 [00:01<00:09,  1.19it/s, loss=1.13]"
          ],
          "name": "stderr"
        },
        {
          "output_type": "stream",
          "text": [
            "torch.Size([4, 3, 256, 256])\n"
          ],
          "name": "stdout"
        },
        {
          "output_type": "stream",
          "text": [
            " 23%|██▎       | 3/13 [00:02<00:08,  1.22it/s, loss=0.934]"
          ],
          "name": "stderr"
        },
        {
          "output_type": "stream",
          "text": [
            "torch.Size([4, 3, 256, 256])\n"
          ],
          "name": "stdout"
        },
        {
          "output_type": "stream",
          "text": [
            " 31%|███       | 4/13 [00:03<00:07,  1.25it/s, loss=1.09]"
          ],
          "name": "stderr"
        },
        {
          "output_type": "stream",
          "text": [
            "torch.Size([4, 3, 256, 256])\n"
          ],
          "name": "stdout"
        },
        {
          "output_type": "stream",
          "text": [
            " 38%|███▊      | 5/13 [00:03<00:06,  1.26it/s, loss=0.982]"
          ],
          "name": "stderr"
        },
        {
          "output_type": "stream",
          "text": [
            "torch.Size([4, 3, 256, 256])\n"
          ],
          "name": "stdout"
        },
        {
          "output_type": "stream",
          "text": [
            " 46%|████▌     | 6/13 [00:04<00:05,  1.28it/s, loss=0.932]"
          ],
          "name": "stderr"
        },
        {
          "output_type": "stream",
          "text": [
            "torch.Size([4, 3, 256, 256])\n"
          ],
          "name": "stdout"
        },
        {
          "output_type": "stream",
          "text": [
            " 54%|█████▍    | 7/13 [00:05<00:04,  1.28it/s, loss=1.02]"
          ],
          "name": "stderr"
        },
        {
          "output_type": "stream",
          "text": [
            "torch.Size([4, 3, 256, 256])\n"
          ],
          "name": "stdout"
        },
        {
          "output_type": "stream",
          "text": [
            " 62%|██████▏   | 8/13 [00:06<00:03,  1.29it/s, loss=1.04]"
          ],
          "name": "stderr"
        },
        {
          "output_type": "stream",
          "text": [
            "torch.Size([4, 3, 256, 256])\n"
          ],
          "name": "stdout"
        },
        {
          "output_type": "stream",
          "text": [
            " 69%|██████▉   | 9/13 [00:07<00:03,  1.29it/s, loss=0.893]"
          ],
          "name": "stderr"
        },
        {
          "output_type": "stream",
          "text": [
            "torch.Size([4, 3, 256, 256])\n"
          ],
          "name": "stdout"
        },
        {
          "output_type": "stream",
          "text": [
            " 77%|███████▋  | 10/13 [00:07<00:02,  1.29it/s, loss=0.95]"
          ],
          "name": "stderr"
        },
        {
          "output_type": "stream",
          "text": [
            "torch.Size([4, 3, 256, 256])\n"
          ],
          "name": "stdout"
        },
        {
          "output_type": "stream",
          "text": [
            " 85%|████████▍ | 11/13 [00:08<00:01,  1.30it/s, loss=0.919]"
          ],
          "name": "stderr"
        },
        {
          "output_type": "stream",
          "text": [
            "torch.Size([4, 3, 256, 256])\n"
          ],
          "name": "stdout"
        },
        {
          "output_type": "stream",
          "text": [
            " 92%|█████████▏| 12/13 [00:09<00:00,  1.30it/s, loss=0.873]"
          ],
          "name": "stderr"
        },
        {
          "output_type": "stream",
          "text": [
            "torch.Size([2, 3, 256, 256])\n"
          ],
          "name": "stdout"
        },
        {
          "output_type": "stream",
          "text": [
            "100%|██████████| 13/13 [00:09<00:00,  1.32it/s, loss=1.2]\n",
            "  0%|          | 0/13 [00:00<?, ?it/s]"
          ],
          "name": "stderr"
        },
        {
          "output_type": "stream",
          "text": [
            "Dice score: 0.7441258430480957\n",
            "Sensitivity score: 0.6965367283354249\n",
            "Specificity score: 0.9611562697047128\n",
            "torch.Size([4, 3, 256, 256])\n"
          ],
          "name": "stdout"
        },
        {
          "output_type": "stream",
          "text": [
            "  8%|▊         | 1/13 [00:00<00:10,  1.15it/s, loss=0.94]"
          ],
          "name": "stderr"
        },
        {
          "output_type": "stream",
          "text": [
            "torch.Size([4, 3, 256, 256])\n"
          ],
          "name": "stdout"
        },
        {
          "output_type": "stream",
          "text": [
            " 15%|█▌        | 2/13 [00:01<00:09,  1.19it/s, loss=0.998]"
          ],
          "name": "stderr"
        },
        {
          "output_type": "stream",
          "text": [
            "torch.Size([4, 3, 256, 256])\n"
          ],
          "name": "stdout"
        },
        {
          "output_type": "stream",
          "text": [
            " 23%|██▎       | 3/13 [00:02<00:08,  1.22it/s, loss=1.09]"
          ],
          "name": "stderr"
        },
        {
          "output_type": "stream",
          "text": [
            "torch.Size([4, 3, 256, 256])\n"
          ],
          "name": "stdout"
        },
        {
          "output_type": "stream",
          "text": [
            " 31%|███       | 4/13 [00:03<00:07,  1.24it/s, loss=0.836]"
          ],
          "name": "stderr"
        },
        {
          "output_type": "stream",
          "text": [
            "torch.Size([4, 3, 256, 256])\n"
          ],
          "name": "stdout"
        },
        {
          "output_type": "stream",
          "text": [
            " 38%|███▊      | 5/13 [00:03<00:06,  1.25it/s, loss=1]"
          ],
          "name": "stderr"
        },
        {
          "output_type": "stream",
          "text": [
            "torch.Size([4, 3, 256, 256])\n"
          ],
          "name": "stdout"
        },
        {
          "output_type": "stream",
          "text": [
            " 46%|████▌     | 6/13 [00:04<00:05,  1.27it/s, loss=0.831]"
          ],
          "name": "stderr"
        },
        {
          "output_type": "stream",
          "text": [
            "torch.Size([4, 3, 256, 256])\n"
          ],
          "name": "stdout"
        },
        {
          "output_type": "stream",
          "text": [
            " 54%|█████▍    | 7/13 [00:05<00:04,  1.28it/s, loss=0.799]"
          ],
          "name": "stderr"
        },
        {
          "output_type": "stream",
          "text": [
            "torch.Size([4, 3, 256, 256])\n"
          ],
          "name": "stdout"
        },
        {
          "output_type": "stream",
          "text": [
            " 62%|██████▏   | 8/13 [00:06<00:03,  1.29it/s, loss=0.977]"
          ],
          "name": "stderr"
        },
        {
          "output_type": "stream",
          "text": [
            "torch.Size([4, 3, 256, 256])\n"
          ],
          "name": "stdout"
        },
        {
          "output_type": "stream",
          "text": [
            " 69%|██████▉   | 9/13 [00:07<00:03,  1.29it/s, loss=0.978]"
          ],
          "name": "stderr"
        },
        {
          "output_type": "stream",
          "text": [
            "torch.Size([4, 3, 256, 256])\n"
          ],
          "name": "stdout"
        },
        {
          "output_type": "stream",
          "text": [
            " 77%|███████▋  | 10/13 [00:07<00:02,  1.30it/s, loss=1.08]"
          ],
          "name": "stderr"
        },
        {
          "output_type": "stream",
          "text": [
            "torch.Size([4, 3, 256, 256])\n"
          ],
          "name": "stdout"
        },
        {
          "output_type": "stream",
          "text": [
            " 85%|████████▍ | 11/13 [00:08<00:01,  1.30it/s, loss=0.852]"
          ],
          "name": "stderr"
        },
        {
          "output_type": "stream",
          "text": [
            "torch.Size([4, 3, 256, 256])\n"
          ],
          "name": "stdout"
        },
        {
          "output_type": "stream",
          "text": [
            " 92%|█████████▏| 12/13 [00:09<00:00,  1.30it/s, loss=0.947]"
          ],
          "name": "stderr"
        },
        {
          "output_type": "stream",
          "text": [
            "torch.Size([2, 3, 256, 256])\n"
          ],
          "name": "stdout"
        },
        {
          "output_type": "stream",
          "text": [
            "100%|██████████| 13/13 [00:09<00:00,  1.32it/s, loss=1]\n",
            "  0%|          | 0/13 [00:00<?, ?it/s]"
          ],
          "name": "stderr"
        },
        {
          "output_type": "stream",
          "text": [
            "Dice score: 0.7462928295135498\n",
            "Sensitivity score: 0.7050650257083805\n",
            "Specificity score: 0.9559702426069445\n",
            "torch.Size([4, 3, 256, 256])\n"
          ],
          "name": "stdout"
        },
        {
          "output_type": "stream",
          "text": [
            "  8%|▊         | 1/13 [00:00<00:10,  1.16it/s, loss=0.881]"
          ],
          "name": "stderr"
        },
        {
          "output_type": "stream",
          "text": [
            "torch.Size([4, 3, 256, 256])\n"
          ],
          "name": "stdout"
        },
        {
          "output_type": "stream",
          "text": [
            " 15%|█▌        | 2/13 [00:01<00:09,  1.20it/s, loss=0.798]"
          ],
          "name": "stderr"
        },
        {
          "output_type": "stream",
          "text": [
            "torch.Size([4, 3, 256, 256])\n"
          ],
          "name": "stdout"
        },
        {
          "output_type": "stream",
          "text": [
            " 23%|██▎       | 3/13 [00:02<00:08,  1.23it/s, loss=1.03]"
          ],
          "name": "stderr"
        },
        {
          "output_type": "stream",
          "text": [
            "torch.Size([4, 3, 256, 256])\n"
          ],
          "name": "stdout"
        },
        {
          "output_type": "stream",
          "text": [
            " 31%|███       | 4/13 [00:03<00:07,  1.25it/s, loss=1.11]"
          ],
          "name": "stderr"
        },
        {
          "output_type": "stream",
          "text": [
            "torch.Size([4, 3, 256, 256])\n"
          ],
          "name": "stdout"
        },
        {
          "output_type": "stream",
          "text": [
            " 38%|███▊      | 5/13 [00:03<00:06,  1.26it/s, loss=1.15]"
          ],
          "name": "stderr"
        },
        {
          "output_type": "stream",
          "text": [
            "torch.Size([4, 3, 256, 256])\n"
          ],
          "name": "stdout"
        },
        {
          "output_type": "stream",
          "text": [
            " 46%|████▌     | 6/13 [00:04<00:05,  1.28it/s, loss=0.904]"
          ],
          "name": "stderr"
        },
        {
          "output_type": "stream",
          "text": [
            "torch.Size([4, 3, 256, 256])\n"
          ],
          "name": "stdout"
        },
        {
          "output_type": "stream",
          "text": [
            " 54%|█████▍    | 7/13 [00:05<00:04,  1.28it/s, loss=0.856]"
          ],
          "name": "stderr"
        },
        {
          "output_type": "stream",
          "text": [
            "torch.Size([4, 3, 256, 256])\n"
          ],
          "name": "stdout"
        },
        {
          "output_type": "stream",
          "text": [
            " 62%|██████▏   | 8/13 [00:06<00:03,  1.29it/s, loss=1.03]"
          ],
          "name": "stderr"
        },
        {
          "output_type": "stream",
          "text": [
            "torch.Size([4, 3, 256, 256])\n"
          ],
          "name": "stdout"
        },
        {
          "output_type": "stream",
          "text": [
            " 69%|██████▉   | 9/13 [00:07<00:03,  1.29it/s, loss=0.954]"
          ],
          "name": "stderr"
        },
        {
          "output_type": "stream",
          "text": [
            "torch.Size([4, 3, 256, 256])\n"
          ],
          "name": "stdout"
        },
        {
          "output_type": "stream",
          "text": [
            " 77%|███████▋  | 10/13 [00:07<00:02,  1.30it/s, loss=1.05]"
          ],
          "name": "stderr"
        },
        {
          "output_type": "stream",
          "text": [
            "torch.Size([4, 3, 256, 256])\n"
          ],
          "name": "stdout"
        },
        {
          "output_type": "stream",
          "text": [
            " 85%|████████▍ | 11/13 [00:08<00:01,  1.30it/s, loss=0.864]"
          ],
          "name": "stderr"
        },
        {
          "output_type": "stream",
          "text": [
            "torch.Size([4, 3, 256, 256])\n"
          ],
          "name": "stdout"
        },
        {
          "output_type": "stream",
          "text": [
            " 92%|█████████▏| 12/13 [00:09<00:00,  1.30it/s, loss=1.01]"
          ],
          "name": "stderr"
        },
        {
          "output_type": "stream",
          "text": [
            "torch.Size([2, 3, 256, 256])\n"
          ],
          "name": "stdout"
        },
        {
          "output_type": "stream",
          "text": [
            "100%|██████████| 13/13 [00:09<00:00,  1.32it/s, loss=1.26]\n",
            "  0%|          | 0/13 [00:00<?, ?it/s]"
          ],
          "name": "stderr"
        },
        {
          "output_type": "stream",
          "text": [
            "Dice score: 0.7393231391906738\n",
            "Sensitivity score: 0.6870915301396902\n",
            "Specificity score: 0.9558943877647045\n",
            "torch.Size([4, 3, 256, 256])\n"
          ],
          "name": "stdout"
        },
        {
          "output_type": "stream",
          "text": [
            "  8%|▊         | 1/13 [00:00<00:10,  1.15it/s, loss=0.947]"
          ],
          "name": "stderr"
        },
        {
          "output_type": "stream",
          "text": [
            "torch.Size([4, 3, 256, 256])\n"
          ],
          "name": "stdout"
        },
        {
          "output_type": "stream",
          "text": [
            " 15%|█▌        | 2/13 [00:01<00:09,  1.19it/s, loss=0.874]"
          ],
          "name": "stderr"
        },
        {
          "output_type": "stream",
          "text": [
            "torch.Size([4, 3, 256, 256])\n"
          ],
          "name": "stdout"
        },
        {
          "output_type": "stream",
          "text": [
            " 23%|██▎       | 3/13 [00:02<00:08,  1.22it/s, loss=0.833]"
          ],
          "name": "stderr"
        },
        {
          "output_type": "stream",
          "text": [
            "torch.Size([4, 3, 256, 256])\n"
          ],
          "name": "stdout"
        },
        {
          "output_type": "stream",
          "text": [
            " 31%|███       | 4/13 [00:03<00:07,  1.24it/s, loss=1.05]"
          ],
          "name": "stderr"
        },
        {
          "output_type": "stream",
          "text": [
            "torch.Size([4, 3, 256, 256])\n"
          ],
          "name": "stdout"
        },
        {
          "output_type": "stream",
          "text": [
            " 38%|███▊      | 5/13 [00:03<00:06,  1.25it/s, loss=0.911]"
          ],
          "name": "stderr"
        },
        {
          "output_type": "stream",
          "text": [
            "torch.Size([4, 3, 256, 256])\n"
          ],
          "name": "stdout"
        },
        {
          "output_type": "stream",
          "text": [
            " 46%|████▌     | 6/13 [00:04<00:05,  1.27it/s, loss=0.833]"
          ],
          "name": "stderr"
        },
        {
          "output_type": "stream",
          "text": [
            "torch.Size([4, 3, 256, 256])\n"
          ],
          "name": "stdout"
        },
        {
          "output_type": "stream",
          "text": [
            " 54%|█████▍    | 7/13 [00:05<00:04,  1.28it/s, loss=0.92]"
          ],
          "name": "stderr"
        },
        {
          "output_type": "stream",
          "text": [
            "torch.Size([4, 3, 256, 256])\n"
          ],
          "name": "stdout"
        },
        {
          "output_type": "stream",
          "text": [
            " 62%|██████▏   | 8/13 [00:06<00:03,  1.28it/s, loss=0.981]"
          ],
          "name": "stderr"
        },
        {
          "output_type": "stream",
          "text": [
            "torch.Size([4, 3, 256, 256])\n"
          ],
          "name": "stdout"
        },
        {
          "output_type": "stream",
          "text": [
            " 69%|██████▉   | 9/13 [00:07<00:03,  1.28it/s, loss=1.03]"
          ],
          "name": "stderr"
        },
        {
          "output_type": "stream",
          "text": [
            "torch.Size([4, 3, 256, 256])\n"
          ],
          "name": "stdout"
        },
        {
          "output_type": "stream",
          "text": [
            " 77%|███████▋  | 10/13 [00:07<00:02,  1.29it/s, loss=0.95]"
          ],
          "name": "stderr"
        },
        {
          "output_type": "stream",
          "text": [
            "torch.Size([4, 3, 256, 256])\n"
          ],
          "name": "stdout"
        },
        {
          "output_type": "stream",
          "text": [
            " 85%|████████▍ | 11/13 [00:08<00:01,  1.29it/s, loss=1.24]"
          ],
          "name": "stderr"
        },
        {
          "output_type": "stream",
          "text": [
            "torch.Size([4, 3, 256, 256])\n"
          ],
          "name": "stdout"
        },
        {
          "output_type": "stream",
          "text": [
            " 92%|█████████▏| 12/13 [00:09<00:00,  1.30it/s, loss=1.24]"
          ],
          "name": "stderr"
        },
        {
          "output_type": "stream",
          "text": [
            "torch.Size([2, 3, 256, 256])\n"
          ],
          "name": "stdout"
        },
        {
          "output_type": "stream",
          "text": [
            "100%|██████████| 13/13 [00:09<00:00,  1.32it/s, loss=0.975]\n",
            "  0%|          | 0/13 [00:00<?, ?it/s]"
          ],
          "name": "stderr"
        },
        {
          "output_type": "stream",
          "text": [
            "Dice score: 0.711638867855072\n",
            "Sensitivity score: 0.6362074297986077\n",
            "Specificity score: 0.9585356458811022\n",
            "torch.Size([4, 3, 256, 256])\n"
          ],
          "name": "stdout"
        },
        {
          "output_type": "stream",
          "text": [
            "  8%|▊         | 1/13 [00:00<00:10,  1.14it/s, loss=0.851]"
          ],
          "name": "stderr"
        },
        {
          "output_type": "stream",
          "text": [
            "torch.Size([4, 3, 256, 256])\n"
          ],
          "name": "stdout"
        },
        {
          "output_type": "stream",
          "text": [
            " 15%|█▌        | 2/13 [00:01<00:09,  1.18it/s, loss=0.919]"
          ],
          "name": "stderr"
        },
        {
          "output_type": "stream",
          "text": [
            "torch.Size([4, 3, 256, 256])\n"
          ],
          "name": "stdout"
        },
        {
          "output_type": "stream",
          "text": [
            " 23%|██▎       | 3/13 [00:02<00:08,  1.22it/s, loss=0.788]"
          ],
          "name": "stderr"
        },
        {
          "output_type": "stream",
          "text": [
            "torch.Size([4, 3, 256, 256])\n"
          ],
          "name": "stdout"
        },
        {
          "output_type": "stream",
          "text": [
            " 31%|███       | 4/13 [00:03<00:07,  1.24it/s, loss=0.881]"
          ],
          "name": "stderr"
        },
        {
          "output_type": "stream",
          "text": [
            "torch.Size([4, 3, 256, 256])\n"
          ],
          "name": "stdout"
        },
        {
          "output_type": "stream",
          "text": [
            " 38%|███▊      | 5/13 [00:03<00:06,  1.24it/s, loss=0.917]"
          ],
          "name": "stderr"
        },
        {
          "output_type": "stream",
          "text": [
            "torch.Size([4, 3, 256, 256])\n"
          ],
          "name": "stdout"
        },
        {
          "output_type": "stream",
          "text": [
            " 46%|████▌     | 6/13 [00:04<00:05,  1.26it/s, loss=1.08]"
          ],
          "name": "stderr"
        },
        {
          "output_type": "stream",
          "text": [
            "torch.Size([4, 3, 256, 256])\n"
          ],
          "name": "stdout"
        },
        {
          "output_type": "stream",
          "text": [
            " 54%|█████▍    | 7/13 [00:05<00:04,  1.28it/s, loss=1.07]"
          ],
          "name": "stderr"
        },
        {
          "output_type": "stream",
          "text": [
            "torch.Size([4, 3, 256, 256])\n"
          ],
          "name": "stdout"
        },
        {
          "output_type": "stream",
          "text": [
            " 62%|██████▏   | 8/13 [00:06<00:03,  1.28it/s, loss=0.983]"
          ],
          "name": "stderr"
        },
        {
          "output_type": "stream",
          "text": [
            "torch.Size([4, 3, 256, 256])\n"
          ],
          "name": "stdout"
        },
        {
          "output_type": "stream",
          "text": [
            " 69%|██████▉   | 9/13 [00:07<00:03,  1.28it/s, loss=1.08]"
          ],
          "name": "stderr"
        },
        {
          "output_type": "stream",
          "text": [
            "torch.Size([4, 3, 256, 256])\n"
          ],
          "name": "stdout"
        },
        {
          "output_type": "stream",
          "text": [
            " 77%|███████▋  | 10/13 [00:07<00:02,  1.29it/s, loss=1]"
          ],
          "name": "stderr"
        },
        {
          "output_type": "stream",
          "text": [
            "torch.Size([4, 3, 256, 256])\n"
          ],
          "name": "stdout"
        },
        {
          "output_type": "stream",
          "text": [
            " 85%|████████▍ | 11/13 [00:08<00:01,  1.29it/s, loss=0.977]"
          ],
          "name": "stderr"
        },
        {
          "output_type": "stream",
          "text": [
            "torch.Size([4, 3, 256, 256])\n"
          ],
          "name": "stdout"
        },
        {
          "output_type": "stream",
          "text": [
            " 92%|█████████▏| 12/13 [00:09<00:00,  1.29it/s, loss=0.921]"
          ],
          "name": "stderr"
        },
        {
          "output_type": "stream",
          "text": [
            "torch.Size([2, 3, 256, 256])\n"
          ],
          "name": "stdout"
        },
        {
          "output_type": "stream",
          "text": [
            "100%|██████████| 13/13 [00:09<00:00,  1.31it/s, loss=0.9]\n",
            "  0%|          | 0/13 [00:00<?, ?it/s]"
          ],
          "name": "stderr"
        },
        {
          "output_type": "stream",
          "text": [
            "Dice score: 0.7304917573928833\n",
            "Sensitivity score: 0.751857898910297\n",
            "Specificity score: 0.9311866743842598\n",
            "torch.Size([4, 3, 256, 256])\n"
          ],
          "name": "stdout"
        },
        {
          "output_type": "stream",
          "text": [
            "  8%|▊         | 1/13 [00:00<00:10,  1.15it/s, loss=1.2]"
          ],
          "name": "stderr"
        },
        {
          "output_type": "stream",
          "text": [
            "torch.Size([4, 3, 256, 256])\n"
          ],
          "name": "stdout"
        },
        {
          "output_type": "stream",
          "text": [
            " 15%|█▌        | 2/13 [00:01<00:09,  1.19it/s, loss=0.93]"
          ],
          "name": "stderr"
        },
        {
          "output_type": "stream",
          "text": [
            "torch.Size([4, 3, 256, 256])\n"
          ],
          "name": "stdout"
        },
        {
          "output_type": "stream",
          "text": [
            " 23%|██▎       | 3/13 [00:02<00:08,  1.22it/s, loss=1.04]"
          ],
          "name": "stderr"
        },
        {
          "output_type": "stream",
          "text": [
            "torch.Size([4, 3, 256, 256])\n"
          ],
          "name": "stdout"
        },
        {
          "output_type": "stream",
          "text": [
            " 31%|███       | 4/13 [00:03<00:07,  1.24it/s, loss=1.04]"
          ],
          "name": "stderr"
        },
        {
          "output_type": "stream",
          "text": [
            "torch.Size([4, 3, 256, 256])\n"
          ],
          "name": "stdout"
        },
        {
          "output_type": "stream",
          "text": [
            " 38%|███▊      | 5/13 [00:03<00:06,  1.25it/s, loss=1]"
          ],
          "name": "stderr"
        },
        {
          "output_type": "stream",
          "text": [
            "torch.Size([4, 3, 256, 256])\n"
          ],
          "name": "stdout"
        },
        {
          "output_type": "stream",
          "text": [
            " 46%|████▌     | 6/13 [00:04<00:05,  1.27it/s, loss=0.914]"
          ],
          "name": "stderr"
        },
        {
          "output_type": "stream",
          "text": [
            "torch.Size([4, 3, 256, 256])\n"
          ],
          "name": "stdout"
        },
        {
          "output_type": "stream",
          "text": [
            " 54%|█████▍    | 7/13 [00:05<00:04,  1.28it/s, loss=0.868]"
          ],
          "name": "stderr"
        },
        {
          "output_type": "stream",
          "text": [
            "torch.Size([4, 3, 256, 256])\n"
          ],
          "name": "stdout"
        },
        {
          "output_type": "stream",
          "text": [
            " 62%|██████▏   | 8/13 [00:06<00:03,  1.28it/s, loss=0.986]"
          ],
          "name": "stderr"
        },
        {
          "output_type": "stream",
          "text": [
            "torch.Size([4, 3, 256, 256])\n"
          ],
          "name": "stdout"
        },
        {
          "output_type": "stream",
          "text": [
            " 69%|██████▉   | 9/13 [00:07<00:03,  1.28it/s, loss=0.876]"
          ],
          "name": "stderr"
        },
        {
          "output_type": "stream",
          "text": [
            "torch.Size([4, 3, 256, 256])\n"
          ],
          "name": "stdout"
        },
        {
          "output_type": "stream",
          "text": [
            " 77%|███████▋  | 10/13 [00:07<00:02,  1.28it/s, loss=0.905]"
          ],
          "name": "stderr"
        },
        {
          "output_type": "stream",
          "text": [
            "torch.Size([4, 3, 256, 256])\n"
          ],
          "name": "stdout"
        },
        {
          "output_type": "stream",
          "text": [
            " 85%|████████▍ | 11/13 [00:08<00:01,  1.29it/s, loss=0.843]"
          ],
          "name": "stderr"
        },
        {
          "output_type": "stream",
          "text": [
            "torch.Size([4, 3, 256, 256])\n"
          ],
          "name": "stdout"
        },
        {
          "output_type": "stream",
          "text": [
            " 92%|█████████▏| 12/13 [00:09<00:00,  1.29it/s, loss=0.812]"
          ],
          "name": "stderr"
        },
        {
          "output_type": "stream",
          "text": [
            "torch.Size([2, 3, 256, 256])\n"
          ],
          "name": "stdout"
        },
        {
          "output_type": "stream",
          "text": [
            "100%|██████████| 13/13 [00:09<00:00,  1.31it/s, loss=0.846]\n",
            "  0%|          | 0/13 [00:00<?, ?it/s]"
          ],
          "name": "stderr"
        },
        {
          "output_type": "stream",
          "text": [
            "Dice score: 0.7481074333190918\n",
            "Sensitivity score: 0.770565366828125\n",
            "Specificity score: 0.9410303829073778\n",
            "torch.Size([4, 3, 256, 256])\n"
          ],
          "name": "stdout"
        },
        {
          "output_type": "stream",
          "text": [
            "  8%|▊         | 1/13 [00:00<00:10,  1.14it/s, loss=0.913]"
          ],
          "name": "stderr"
        },
        {
          "output_type": "stream",
          "text": [
            "torch.Size([4, 3, 256, 256])\n"
          ],
          "name": "stdout"
        },
        {
          "output_type": "stream",
          "text": [
            " 15%|█▌        | 2/13 [00:01<00:09,  1.19it/s, loss=0.865]"
          ],
          "name": "stderr"
        },
        {
          "output_type": "stream",
          "text": [
            "torch.Size([4, 3, 256, 256])\n"
          ],
          "name": "stdout"
        },
        {
          "output_type": "stream",
          "text": [
            " 23%|██▎       | 3/13 [00:02<00:08,  1.21it/s, loss=0.765]"
          ],
          "name": "stderr"
        },
        {
          "output_type": "stream",
          "text": [
            "torch.Size([4, 3, 256, 256])\n"
          ],
          "name": "stdout"
        },
        {
          "output_type": "stream",
          "text": [
            " 31%|███       | 4/13 [00:03<00:07,  1.24it/s, loss=1.21]"
          ],
          "name": "stderr"
        },
        {
          "output_type": "stream",
          "text": [
            "torch.Size([4, 3, 256, 256])\n"
          ],
          "name": "stdout"
        },
        {
          "output_type": "stream",
          "text": [
            " 38%|███▊      | 5/13 [00:03<00:06,  1.25it/s, loss=0.779]"
          ],
          "name": "stderr"
        },
        {
          "output_type": "stream",
          "text": [
            "torch.Size([4, 3, 256, 256])\n"
          ],
          "name": "stdout"
        },
        {
          "output_type": "stream",
          "text": [
            " 46%|████▌     | 6/13 [00:04<00:05,  1.26it/s, loss=1.18]"
          ],
          "name": "stderr"
        },
        {
          "output_type": "stream",
          "text": [
            "torch.Size([4, 3, 256, 256])\n"
          ],
          "name": "stdout"
        },
        {
          "output_type": "stream",
          "text": [
            " 54%|█████▍    | 7/13 [00:05<00:04,  1.28it/s, loss=0.909]"
          ],
          "name": "stderr"
        },
        {
          "output_type": "stream",
          "text": [
            "torch.Size([4, 3, 256, 256])\n"
          ],
          "name": "stdout"
        },
        {
          "output_type": "stream",
          "text": [
            " 62%|██████▏   | 8/13 [00:06<00:03,  1.28it/s, loss=0.936]"
          ],
          "name": "stderr"
        },
        {
          "output_type": "stream",
          "text": [
            "torch.Size([4, 3, 256, 256])\n"
          ],
          "name": "stdout"
        },
        {
          "output_type": "stream",
          "text": [
            " 69%|██████▉   | 9/13 [00:07<00:03,  1.28it/s, loss=1.05]"
          ],
          "name": "stderr"
        },
        {
          "output_type": "stream",
          "text": [
            "torch.Size([4, 3, 256, 256])\n"
          ],
          "name": "stdout"
        },
        {
          "output_type": "stream",
          "text": [
            " 77%|███████▋  | 10/13 [00:07<00:02,  1.29it/s, loss=0.93]"
          ],
          "name": "stderr"
        },
        {
          "output_type": "stream",
          "text": [
            "torch.Size([4, 3, 256, 256])\n"
          ],
          "name": "stdout"
        },
        {
          "output_type": "stream",
          "text": [
            " 85%|████████▍ | 11/13 [00:08<00:01,  1.29it/s, loss=0.931]"
          ],
          "name": "stderr"
        },
        {
          "output_type": "stream",
          "text": [
            "torch.Size([4, 3, 256, 256])\n"
          ],
          "name": "stdout"
        },
        {
          "output_type": "stream",
          "text": [
            " 92%|█████████▏| 12/13 [00:09<00:00,  1.30it/s, loss=0.933]"
          ],
          "name": "stderr"
        },
        {
          "output_type": "stream",
          "text": [
            "torch.Size([2, 3, 256, 256])\n"
          ],
          "name": "stdout"
        },
        {
          "output_type": "stream",
          "text": [
            "100%|██████████| 13/13 [00:09<00:00,  1.32it/s, loss=1.16]\n",
            "  0%|          | 0/13 [00:00<?, ?it/s]"
          ],
          "name": "stderr"
        },
        {
          "output_type": "stream",
          "text": [
            "Dice score: 0.7268509864807129\n",
            "Sensitivity score: 0.6798728180742918\n",
            "Specificity score: 0.9564368240194225\n",
            "torch.Size([4, 3, 256, 256])\n"
          ],
          "name": "stdout"
        },
        {
          "output_type": "stream",
          "text": [
            "  8%|▊         | 1/13 [00:00<00:10,  1.14it/s, loss=0.949]"
          ],
          "name": "stderr"
        },
        {
          "output_type": "stream",
          "text": [
            "torch.Size([4, 3, 256, 256])\n"
          ],
          "name": "stdout"
        },
        {
          "output_type": "stream",
          "text": [
            " 15%|█▌        | 2/13 [00:01<00:09,  1.19it/s, loss=0.906]"
          ],
          "name": "stderr"
        },
        {
          "output_type": "stream",
          "text": [
            "torch.Size([4, 3, 256, 256])\n"
          ],
          "name": "stdout"
        },
        {
          "output_type": "stream",
          "text": [
            " 23%|██▎       | 3/13 [00:02<00:08,  1.22it/s, loss=0.879]"
          ],
          "name": "stderr"
        },
        {
          "output_type": "stream",
          "text": [
            "torch.Size([4, 3, 256, 256])\n"
          ],
          "name": "stdout"
        },
        {
          "output_type": "stream",
          "text": [
            " 31%|███       | 4/13 [00:03<00:07,  1.24it/s, loss=0.915]"
          ],
          "name": "stderr"
        },
        {
          "output_type": "stream",
          "text": [
            "torch.Size([4, 3, 256, 256])\n"
          ],
          "name": "stdout"
        },
        {
          "output_type": "stream",
          "text": [
            " 38%|███▊      | 5/13 [00:03<00:06,  1.25it/s, loss=0.912]"
          ],
          "name": "stderr"
        },
        {
          "output_type": "stream",
          "text": [
            "torch.Size([4, 3, 256, 256])\n"
          ],
          "name": "stdout"
        },
        {
          "output_type": "stream",
          "text": [
            " 46%|████▌     | 6/13 [00:04<00:05,  1.27it/s, loss=0.98]"
          ],
          "name": "stderr"
        },
        {
          "output_type": "stream",
          "text": [
            "torch.Size([4, 3, 256, 256])\n"
          ],
          "name": "stdout"
        },
        {
          "output_type": "stream",
          "text": [
            " 54%|█████▍    | 7/13 [00:05<00:04,  1.28it/s, loss=0.944]"
          ],
          "name": "stderr"
        },
        {
          "output_type": "stream",
          "text": [
            "torch.Size([4, 3, 256, 256])\n"
          ],
          "name": "stdout"
        },
        {
          "output_type": "stream",
          "text": [
            " 62%|██████▏   | 8/13 [00:06<00:03,  1.29it/s, loss=1.23]"
          ],
          "name": "stderr"
        },
        {
          "output_type": "stream",
          "text": [
            "torch.Size([4, 3, 256, 256])\n"
          ],
          "name": "stdout"
        },
        {
          "output_type": "stream",
          "text": [
            " 69%|██████▉   | 9/13 [00:07<00:03,  1.29it/s, loss=0.875]"
          ],
          "name": "stderr"
        },
        {
          "output_type": "stream",
          "text": [
            "torch.Size([4, 3, 256, 256])\n"
          ],
          "name": "stdout"
        },
        {
          "output_type": "stream",
          "text": [
            " 77%|███████▋  | 10/13 [00:07<00:02,  1.30it/s, loss=0.843]"
          ],
          "name": "stderr"
        },
        {
          "output_type": "stream",
          "text": [
            "torch.Size([4, 3, 256, 256])\n"
          ],
          "name": "stdout"
        },
        {
          "output_type": "stream",
          "text": [
            " 85%|████████▍ | 11/13 [00:08<00:01,  1.30it/s, loss=0.853]"
          ],
          "name": "stderr"
        },
        {
          "output_type": "stream",
          "text": [
            "torch.Size([4, 3, 256, 256])\n"
          ],
          "name": "stdout"
        },
        {
          "output_type": "stream",
          "text": [
            " 92%|█████████▏| 12/13 [00:09<00:00,  1.30it/s, loss=0.837]"
          ],
          "name": "stderr"
        },
        {
          "output_type": "stream",
          "text": [
            "torch.Size([2, 3, 256, 256])\n"
          ],
          "name": "stdout"
        },
        {
          "output_type": "stream",
          "text": [
            "100%|██████████| 13/13 [00:09<00:00,  1.32it/s, loss=0.8]\n",
            "  0%|          | 0/13 [00:00<?, ?it/s]"
          ],
          "name": "stderr"
        },
        {
          "output_type": "stream",
          "text": [
            "Dice score: 0.7328776121139526\n",
            "Sensitivity score: 0.7889946357135916\n",
            "Specificity score: 0.9297839932232987\n",
            "torch.Size([4, 3, 256, 256])\n"
          ],
          "name": "stdout"
        },
        {
          "output_type": "stream",
          "text": [
            "  8%|▊         | 1/13 [00:00<00:10,  1.14it/s, loss=1]"
          ],
          "name": "stderr"
        },
        {
          "output_type": "stream",
          "text": [
            "torch.Size([4, 3, 256, 256])\n"
          ],
          "name": "stdout"
        },
        {
          "output_type": "stream",
          "text": [
            " 15%|█▌        | 2/13 [00:01<00:09,  1.18it/s, loss=0.804]"
          ],
          "name": "stderr"
        },
        {
          "output_type": "stream",
          "text": [
            "torch.Size([4, 3, 256, 256])\n"
          ],
          "name": "stdout"
        },
        {
          "output_type": "stream",
          "text": [
            " 23%|██▎       | 3/13 [00:02<00:08,  1.21it/s, loss=0.855]"
          ],
          "name": "stderr"
        },
        {
          "output_type": "stream",
          "text": [
            "torch.Size([4, 3, 256, 256])\n"
          ],
          "name": "stdout"
        },
        {
          "output_type": "stream",
          "text": [
            " 31%|███       | 4/13 [00:03<00:07,  1.23it/s, loss=0.888]"
          ],
          "name": "stderr"
        },
        {
          "output_type": "stream",
          "text": [
            "torch.Size([4, 3, 256, 256])\n"
          ],
          "name": "stdout"
        },
        {
          "output_type": "stream",
          "text": [
            " 38%|███▊      | 5/13 [00:03<00:06,  1.25it/s, loss=0.963]"
          ],
          "name": "stderr"
        },
        {
          "output_type": "stream",
          "text": [
            "torch.Size([4, 3, 256, 256])\n"
          ],
          "name": "stdout"
        },
        {
          "output_type": "stream",
          "text": [
            " 46%|████▌     | 6/13 [00:04<00:05,  1.27it/s, loss=0.899]"
          ],
          "name": "stderr"
        },
        {
          "output_type": "stream",
          "text": [
            "torch.Size([4, 3, 256, 256])\n"
          ],
          "name": "stdout"
        },
        {
          "output_type": "stream",
          "text": [
            " 54%|█████▍    | 7/13 [00:05<00:04,  1.28it/s, loss=0.833]"
          ],
          "name": "stderr"
        },
        {
          "output_type": "stream",
          "text": [
            "torch.Size([4, 3, 256, 256])\n"
          ],
          "name": "stdout"
        },
        {
          "output_type": "stream",
          "text": [
            " 62%|██████▏   | 8/13 [00:06<00:03,  1.28it/s, loss=1.08]"
          ],
          "name": "stderr"
        },
        {
          "output_type": "stream",
          "text": [
            "torch.Size([4, 3, 256, 256])\n"
          ],
          "name": "stdout"
        },
        {
          "output_type": "stream",
          "text": [
            " 69%|██████▉   | 9/13 [00:07<00:03,  1.28it/s, loss=0.849]"
          ],
          "name": "stderr"
        },
        {
          "output_type": "stream",
          "text": [
            "torch.Size([4, 3, 256, 256])\n"
          ],
          "name": "stdout"
        },
        {
          "output_type": "stream",
          "text": [
            " 77%|███████▋  | 10/13 [00:07<00:02,  1.29it/s, loss=0.803]"
          ],
          "name": "stderr"
        },
        {
          "output_type": "stream",
          "text": [
            "torch.Size([4, 3, 256, 256])\n"
          ],
          "name": "stdout"
        },
        {
          "output_type": "stream",
          "text": [
            " 85%|████████▍ | 11/13 [00:08<00:01,  1.29it/s, loss=0.927]"
          ],
          "name": "stderr"
        },
        {
          "output_type": "stream",
          "text": [
            "torch.Size([4, 3, 256, 256])\n"
          ],
          "name": "stdout"
        },
        {
          "output_type": "stream",
          "text": [
            " 92%|█████████▏| 12/13 [00:09<00:00,  1.29it/s, loss=0.983]"
          ],
          "name": "stderr"
        },
        {
          "output_type": "stream",
          "text": [
            "torch.Size([2, 3, 256, 256])\n"
          ],
          "name": "stdout"
        },
        {
          "output_type": "stream",
          "text": [
            "100%|██████████| 13/13 [00:09<00:00,  1.31it/s, loss=1.04]\n",
            "  0%|          | 0/13 [00:00<?, ?it/s]"
          ],
          "name": "stderr"
        },
        {
          "output_type": "stream",
          "text": [
            "Dice score: 0.7407807111740112\n",
            "Sensitivity score: 0.6423335433954337\n",
            "Specificity score: 0.9711326043135458\n",
            "torch.Size([4, 3, 256, 256])\n"
          ],
          "name": "stdout"
        },
        {
          "output_type": "stream",
          "text": [
            "  8%|▊         | 1/13 [00:00<00:10,  1.15it/s, loss=1.01]"
          ],
          "name": "stderr"
        },
        {
          "output_type": "stream",
          "text": [
            "torch.Size([4, 3, 256, 256])\n"
          ],
          "name": "stdout"
        },
        {
          "output_type": "stream",
          "text": [
            " 15%|█▌        | 2/13 [00:01<00:09,  1.19it/s, loss=0.825]"
          ],
          "name": "stderr"
        },
        {
          "output_type": "stream",
          "text": [
            "torch.Size([4, 3, 256, 256])\n"
          ],
          "name": "stdout"
        },
        {
          "output_type": "stream",
          "text": [
            " 23%|██▎       | 3/13 [00:02<00:08,  1.22it/s, loss=0.943]"
          ],
          "name": "stderr"
        },
        {
          "output_type": "stream",
          "text": [
            "torch.Size([4, 3, 256, 256])\n"
          ],
          "name": "stdout"
        },
        {
          "output_type": "stream",
          "text": [
            " 31%|███       | 4/13 [00:03<00:07,  1.24it/s, loss=0.845]"
          ],
          "name": "stderr"
        },
        {
          "output_type": "stream",
          "text": [
            "torch.Size([4, 3, 256, 256])\n"
          ],
          "name": "stdout"
        },
        {
          "output_type": "stream",
          "text": [
            " 38%|███▊      | 5/13 [00:03<00:06,  1.25it/s, loss=0.974]"
          ],
          "name": "stderr"
        },
        {
          "output_type": "stream",
          "text": [
            "torch.Size([4, 3, 256, 256])\n"
          ],
          "name": "stdout"
        },
        {
          "output_type": "stream",
          "text": [
            " 46%|████▌     | 6/13 [00:04<00:05,  1.27it/s, loss=0.837]"
          ],
          "name": "stderr"
        },
        {
          "output_type": "stream",
          "text": [
            "torch.Size([4, 3, 256, 256])\n"
          ],
          "name": "stdout"
        },
        {
          "output_type": "stream",
          "text": [
            " 54%|█████▍    | 7/13 [00:05<00:04,  1.28it/s, loss=0.808]"
          ],
          "name": "stderr"
        },
        {
          "output_type": "stream",
          "text": [
            "torch.Size([4, 3, 256, 256])\n"
          ],
          "name": "stdout"
        },
        {
          "output_type": "stream",
          "text": [
            " 62%|██████▏   | 8/13 [00:06<00:03,  1.29it/s, loss=0.931]"
          ],
          "name": "stderr"
        },
        {
          "output_type": "stream",
          "text": [
            "torch.Size([4, 3, 256, 256])\n"
          ],
          "name": "stdout"
        },
        {
          "output_type": "stream",
          "text": [
            " 69%|██████▉   | 9/13 [00:07<00:03,  1.29it/s, loss=0.853]"
          ],
          "name": "stderr"
        },
        {
          "output_type": "stream",
          "text": [
            "torch.Size([4, 3, 256, 256])\n"
          ],
          "name": "stdout"
        },
        {
          "output_type": "stream",
          "text": [
            " 77%|███████▋  | 10/13 [00:07<00:02,  1.28it/s, loss=0.943]"
          ],
          "name": "stderr"
        },
        {
          "output_type": "stream",
          "text": [
            "torch.Size([4, 3, 256, 256])\n"
          ],
          "name": "stdout"
        },
        {
          "output_type": "stream",
          "text": [
            " 85%|████████▍ | 11/13 [00:08<00:01,  1.29it/s, loss=1.12]"
          ],
          "name": "stderr"
        },
        {
          "output_type": "stream",
          "text": [
            "torch.Size([4, 3, 256, 256])\n"
          ],
          "name": "stdout"
        },
        {
          "output_type": "stream",
          "text": [
            " 92%|█████████▏| 12/13 [00:09<00:00,  1.29it/s, loss=1.03]"
          ],
          "name": "stderr"
        },
        {
          "output_type": "stream",
          "text": [
            "torch.Size([2, 3, 256, 256])\n"
          ],
          "name": "stdout"
        },
        {
          "output_type": "stream",
          "text": [
            "100%|██████████| 13/13 [00:09<00:00,  1.31it/s, loss=0.816]\n",
            "  0%|          | 0/13 [00:00<?, ?it/s]"
          ],
          "name": "stderr"
        },
        {
          "output_type": "stream",
          "text": [
            "Dice score: 0.7636465430259705\n",
            "Sensitivity score: 0.7203104918821456\n",
            "Specificity score: 0.9625018963557151\n",
            "torch.Size([4, 3, 256, 256])\n"
          ],
          "name": "stdout"
        },
        {
          "output_type": "stream",
          "text": [
            "  8%|▊         | 1/13 [00:00<00:10,  1.13it/s, loss=0.776]"
          ],
          "name": "stderr"
        },
        {
          "output_type": "stream",
          "text": [
            "torch.Size([4, 3, 256, 256])\n"
          ],
          "name": "stdout"
        },
        {
          "output_type": "stream",
          "text": [
            " 15%|█▌        | 2/13 [00:01<00:09,  1.18it/s, loss=0.811]"
          ],
          "name": "stderr"
        },
        {
          "output_type": "stream",
          "text": [
            "torch.Size([4, 3, 256, 256])\n"
          ],
          "name": "stdout"
        },
        {
          "output_type": "stream",
          "text": [
            " 23%|██▎       | 3/13 [00:02<00:08,  1.22it/s, loss=1.04]"
          ],
          "name": "stderr"
        },
        {
          "output_type": "stream",
          "text": [
            "torch.Size([4, 3, 256, 256])\n"
          ],
          "name": "stdout"
        },
        {
          "output_type": "stream",
          "text": [
            " 31%|███       | 4/13 [00:03<00:07,  1.24it/s, loss=1.01]"
          ],
          "name": "stderr"
        },
        {
          "output_type": "stream",
          "text": [
            "torch.Size([4, 3, 256, 256])\n"
          ],
          "name": "stdout"
        },
        {
          "output_type": "stream",
          "text": [
            " 38%|███▊      | 5/13 [00:03<00:06,  1.25it/s, loss=0.782]"
          ],
          "name": "stderr"
        },
        {
          "output_type": "stream",
          "text": [
            "torch.Size([4, 3, 256, 256])\n"
          ],
          "name": "stdout"
        },
        {
          "output_type": "stream",
          "text": [
            " 46%|████▌     | 6/13 [00:04<00:05,  1.27it/s, loss=1.03]"
          ],
          "name": "stderr"
        },
        {
          "output_type": "stream",
          "text": [
            "torch.Size([4, 3, 256, 256])\n"
          ],
          "name": "stdout"
        },
        {
          "output_type": "stream",
          "text": [
            " 54%|█████▍    | 7/13 [00:05<00:04,  1.28it/s, loss=1.01]"
          ],
          "name": "stderr"
        },
        {
          "output_type": "stream",
          "text": [
            "torch.Size([4, 3, 256, 256])\n"
          ],
          "name": "stdout"
        },
        {
          "output_type": "stream",
          "text": [
            " 62%|██████▏   | 8/13 [00:06<00:03,  1.28it/s, loss=0.839]"
          ],
          "name": "stderr"
        },
        {
          "output_type": "stream",
          "text": [
            "torch.Size([4, 3, 256, 256])\n"
          ],
          "name": "stdout"
        },
        {
          "output_type": "stream",
          "text": [
            " 69%|██████▉   | 9/13 [00:07<00:03,  1.28it/s, loss=1.12]"
          ],
          "name": "stderr"
        },
        {
          "output_type": "stream",
          "text": [
            "torch.Size([4, 3, 256, 256])\n"
          ],
          "name": "stdout"
        },
        {
          "output_type": "stream",
          "text": [
            " 77%|███████▋  | 10/13 [00:07<00:02,  1.29it/s, loss=0.862]"
          ],
          "name": "stderr"
        },
        {
          "output_type": "stream",
          "text": [
            "torch.Size([4, 3, 256, 256])\n"
          ],
          "name": "stdout"
        },
        {
          "output_type": "stream",
          "text": [
            " 85%|████████▍ | 11/13 [00:08<00:01,  1.29it/s, loss=1.06]"
          ],
          "name": "stderr"
        },
        {
          "output_type": "stream",
          "text": [
            "torch.Size([4, 3, 256, 256])\n"
          ],
          "name": "stdout"
        },
        {
          "output_type": "stream",
          "text": [
            " 92%|█████████▏| 12/13 [00:09<00:00,  1.29it/s, loss=0.781]"
          ],
          "name": "stderr"
        },
        {
          "output_type": "stream",
          "text": [
            "torch.Size([2, 3, 256, 256])\n"
          ],
          "name": "stdout"
        },
        {
          "output_type": "stream",
          "text": [
            "100%|██████████| 13/13 [00:09<00:00,  1.32it/s, loss=0.824]\n"
          ],
          "name": "stderr"
        },
        {
          "output_type": "stream",
          "text": [
            "Dice score: 0.75380539894104\n",
            "Sensitivity score: 0.7215228727585484\n",
            "Specificity score: 0.9593922627488106\n"
          ],
          "name": "stdout"
        }
      ]
    },
    {
      "cell_type": "code",
      "metadata": {
        "id": "zXVjE8BuCnvp"
      },
      "source": [
        "train_loader,val_loader = load_data(\n",
        "    train_img_dir,\n",
        "    train_gt_dir,\n",
        "    val_img_dir,\n",
        "    val_gt_dir,\n",
        "    batch_size,\n",
        "    trainsize,\n",
        "    num_workers,\n",
        "    pin_memory\n",
        ")\n",
        "model = load_checkpoint(torch.load(\"Ritwik_checkpoint.pth.tar\"), model)\n",
        "save_predictions_as_imgs(val_loader, model, folder=\"saved_images/\", device=DEVICE)"
      ],
      "execution_count": null,
      "outputs": []
    },
    {
      "cell_type": "code",
      "metadata": {
        "id": "jW3EUd3tCuGp",
        "colab": {
          "base_uri": "https://localhost:8080/"
        },
        "outputId": "16f21d70-fae4-4eca-a2ab-a7443508c89d"
      },
      "source": [
        "import torch\n",
        "import torch.nn.functional as F\n",
        "import numpy as np\n",
        "import os\n",
        "from scipy import misc\n",
        "from PIL import Image\n",
        "import imageio\n",
        "\n",
        "class test_dataset:\n",
        "    def __init__(self, image_root, testsize):\n",
        "        self.testsize = testsize\n",
        "        self.images = [image_root + f for f in os.listdir(image_root) if f.endswith('.jpg') or f.endswith('.png')]\n",
        "        # self.gts = [gt_root + f for f in os.listdir(gt_root) if f.endswith('.jpg') or f.endswith('.png')]\n",
        "        self.images = sorted(self.images)\n",
        "        # self.gts = sorted(self.gts)\n",
        "        self.transform = transforms.Compose([\n",
        "            transforms.Resize((self.testsize, self.testsize)),\n",
        "            transforms.ToTensor(),\n",
        "            transforms.Normalize([0.485, 0.456, 0.406],\n",
        "                                 [0.229, 0.224, 0.225])])\n",
        "        # self.gt_transform = transforms.ToTensor()\n",
        "        self.size = len(self.images)\n",
        "        self.index = 0\n",
        "\n",
        "    def load_data(self):\n",
        "        image = self.rgb_loader(self.images[self.index])\n",
        "        # ori_size = image.size\n",
        "        image = self.transform(image).unsqueeze(0)\n",
        "        # gt = self.binary_loader(self.gts[self.index])\n",
        "        name = self.images[self.index].split('/')[-1]\n",
        "        if name.endswith('.jpg'):\n",
        "            name = name.split('.jpg')[0] + '.png'\n",
        "        self.index += 1\n",
        "\n",
        "        return image, name\n",
        "\n",
        "    def rgb_loader(self, path):\n",
        "        with open(path, 'rb') as f:\n",
        "            img = Image.open(f)\n",
        "            return img.convert('RGB')\n",
        "\n",
        "    def binary_loader(self, path):\n",
        "        with open(path, 'rb') as f:\n",
        "            img = Image.open(f)\n",
        "            return img.convert('L')\n",
        "\n",
        "def inference():\n",
        "\n",
        "    model = Res_UNet(n_channels = 3,n_classes = 1,bilinear = True).to(DEVICE)\n",
        "    # model = torch.nn.DataParallel(model, device_ids=[0, 1]) # uncomment it if you have multiply GPUs.\n",
        "    load_checkpoint(torch.load(\"Ritwik_checkpoint.pth.tar\"), model)\n",
        "    model.cuda()\n",
        "    model.eval()\n",
        "\n",
        "    # image_root = '{}/Imgs/'.format(opt.data_path)\n",
        "    image_root = base+\"Test/Imgs/\"\n",
        "    # gt_root = '{}/GT/'.format(opt.data_path)\n",
        "    test_loader = test_dataset(image_root, 256)\n",
        "    os.makedirs('/content/saved_images', exist_ok=True)\n",
        "\n",
        "    for i in range(test_loader.size):\n",
        "        image, name = test_loader.load_data()\n",
        "\n",
        "        image = image.cuda()\n",
        "\n",
        "        res= model(image)\n",
        "\n",
        "        # res = F.upsample(res, size=(ori_size[1],ori_size[0]), mode='bilinear', align_corners=False)\n",
        "        res = res.sigmoid().data.cpu().numpy().squeeze()\n",
        "        res = (res - res.min()) / (res.max() - res.min() + 1e-8)\n",
        "        imageio.imwrite('/content/saved_images/' + name, res)\n",
        "\n",
        "    print('Test Done!')\n",
        "\n",
        "\n",
        "if __name__ == \"__main__\":\n",
        "    inference()"
      ],
      "execution_count": 2,
      "outputs": [
        {
          "output_type": "stream",
          "text": [
            "WARNING:root:Lossy conversion from float32 to uint8. Range [0, 1]. Convert image to uint8 prior to saving to suppress this warning.\n"
          ],
          "name": "stderr"
        },
        {
          "output_type": "stream",
          "text": [
            "Loading\n"
          ],
          "name": "stdout"
        },
        {
          "output_type": "stream",
          "text": [
            "WARNING:root:Lossy conversion from float32 to uint8. Range [0, 1]. Convert image to uint8 prior to saving to suppress this warning.\n",
            "WARNING:root:Lossy conversion from float32 to uint8. Range [0, 1]. Convert image to uint8 prior to saving to suppress this warning.\n",
            "WARNING:root:Lossy conversion from float32 to uint8. Range [0, 1]. Convert image to uint8 prior to saving to suppress this warning.\n",
            "WARNING:root:Lossy conversion from float32 to uint8. Range [0, 1]. Convert image to uint8 prior to saving to suppress this warning.\n",
            "WARNING:root:Lossy conversion from float32 to uint8. Range [0, 1]. Convert image to uint8 prior to saving to suppress this warning.\n",
            "WARNING:root:Lossy conversion from float32 to uint8. Range [0, 1]. Convert image to uint8 prior to saving to suppress this warning.\n",
            "WARNING:root:Lossy conversion from float32 to uint8. Range [0, 1]. Convert image to uint8 prior to saving to suppress this warning.\n",
            "WARNING:root:Lossy conversion from float32 to uint8. Range [0, 1]. Convert image to uint8 prior to saving to suppress this warning.\n",
            "WARNING:root:Lossy conversion from float32 to uint8. Range [0, 1]. Convert image to uint8 prior to saving to suppress this warning.\n",
            "WARNING:root:Lossy conversion from float32 to uint8. Range [0, 1]. Convert image to uint8 prior to saving to suppress this warning.\n",
            "WARNING:root:Lossy conversion from float32 to uint8. Range [0, 1]. Convert image to uint8 prior to saving to suppress this warning.\n",
            "WARNING:root:Lossy conversion from float32 to uint8. Range [0, 1]. Convert image to uint8 prior to saving to suppress this warning.\n",
            "WARNING:root:Lossy conversion from float32 to uint8. Range [0, 1]. Convert image to uint8 prior to saving to suppress this warning.\n",
            "WARNING:root:Lossy conversion from float32 to uint8. Range [0, 1]. Convert image to uint8 prior to saving to suppress this warning.\n",
            "WARNING:root:Lossy conversion from float32 to uint8. Range [0, 1]. Convert image to uint8 prior to saving to suppress this warning.\n",
            "WARNING:root:Lossy conversion from float32 to uint8. Range [0, 1]. Convert image to uint8 prior to saving to suppress this warning.\n",
            "WARNING:root:Lossy conversion from float32 to uint8. Range [0, 1]. Convert image to uint8 prior to saving to suppress this warning.\n",
            "WARNING:root:Lossy conversion from float32 to uint8. Range [0, 1]. Convert image to uint8 prior to saving to suppress this warning.\n",
            "WARNING:root:Lossy conversion from float32 to uint8. Range [0, 1]. Convert image to uint8 prior to saving to suppress this warning.\n",
            "WARNING:root:Lossy conversion from float32 to uint8. Range [0, 1]. Convert image to uint8 prior to saving to suppress this warning.\n",
            "WARNING:root:Lossy conversion from float32 to uint8. Range [0, 1]. Convert image to uint8 prior to saving to suppress this warning.\n",
            "WARNING:root:Lossy conversion from float32 to uint8. Range [0, 1]. Convert image to uint8 prior to saving to suppress this warning.\n",
            "WARNING:root:Lossy conversion from float32 to uint8. Range [0, 1]. Convert image to uint8 prior to saving to suppress this warning.\n",
            "WARNING:root:Lossy conversion from float32 to uint8. Range [0, 1]. Convert image to uint8 prior to saving to suppress this warning.\n",
            "WARNING:root:Lossy conversion from float32 to uint8. Range [0, 1]. Convert image to uint8 prior to saving to suppress this warning.\n",
            "WARNING:root:Lossy conversion from float32 to uint8. Range [0, 1]. Convert image to uint8 prior to saving to suppress this warning.\n",
            "WARNING:root:Lossy conversion from float32 to uint8. Range [0, 1]. Convert image to uint8 prior to saving to suppress this warning.\n",
            "WARNING:root:Lossy conversion from float32 to uint8. Range [0, 1]. Convert image to uint8 prior to saving to suppress this warning.\n",
            "WARNING:root:Lossy conversion from float32 to uint8. Range [0, 1]. Convert image to uint8 prior to saving to suppress this warning.\n",
            "WARNING:root:Lossy conversion from float32 to uint8. Range [0, 1]. Convert image to uint8 prior to saving to suppress this warning.\n",
            "WARNING:root:Lossy conversion from float32 to uint8. Range [0, 1]. Convert image to uint8 prior to saving to suppress this warning.\n",
            "WARNING:root:Lossy conversion from float32 to uint8. Range [0, 1]. Convert image to uint8 prior to saving to suppress this warning.\n",
            "WARNING:root:Lossy conversion from float32 to uint8. Range [0, 1]. Convert image to uint8 prior to saving to suppress this warning.\n",
            "WARNING:root:Lossy conversion from float32 to uint8. Range [0, 1]. Convert image to uint8 prior to saving to suppress this warning.\n",
            "WARNING:root:Lossy conversion from float32 to uint8. Range [0, 1]. Convert image to uint8 prior to saving to suppress this warning.\n",
            "WARNING:root:Lossy conversion from float32 to uint8. Range [0, 1]. Convert image to uint8 prior to saving to suppress this warning.\n",
            "WARNING:root:Lossy conversion from float32 to uint8. Range [0, 1]. Convert image to uint8 prior to saving to suppress this warning.\n",
            "WARNING:root:Lossy conversion from float32 to uint8. Range [0, 1]. Convert image to uint8 prior to saving to suppress this warning.\n",
            "WARNING:root:Lossy conversion from float32 to uint8. Range [0, 1]. Convert image to uint8 prior to saving to suppress this warning.\n",
            "WARNING:root:Lossy conversion from float32 to uint8. Range [0, 1]. Convert image to uint8 prior to saving to suppress this warning.\n",
            "WARNING:root:Lossy conversion from float32 to uint8. Range [0, 1]. Convert image to uint8 prior to saving to suppress this warning.\n",
            "WARNING:root:Lossy conversion from float32 to uint8. Range [0, 1]. Convert image to uint8 prior to saving to suppress this warning.\n",
            "WARNING:root:Lossy conversion from float32 to uint8. Range [0, 1]. Convert image to uint8 prior to saving to suppress this warning.\n",
            "WARNING:root:Lossy conversion from float32 to uint8. Range [0, 1]. Convert image to uint8 prior to saving to suppress this warning.\n",
            "WARNING:root:Lossy conversion from float32 to uint8. Range [0, 1]. Convert image to uint8 prior to saving to suppress this warning.\n",
            "WARNING:root:Lossy conversion from float32 to uint8. Range [0, 1]. Convert image to uint8 prior to saving to suppress this warning.\n",
            "WARNING:root:Lossy conversion from float32 to uint8. Range [0, 1]. Convert image to uint8 prior to saving to suppress this warning.\n"
          ],
          "name": "stderr"
        },
        {
          "output_type": "stream",
          "text": [
            "Test Done!\n"
          ],
          "name": "stdout"
        }
      ]
    },
    {
      "cell_type": "code",
      "metadata": {
        "colab": {
          "base_uri": "https://localhost:8080/",
          "height": 186
        },
        "id": "VUXHrGv7HcBq",
        "outputId": "8c5ff197-dba7-4ac0-c50d-890a6f4629d7"
      },
      "source": [
        "import os\n",
        "os.mkdir('saved_images')"
      ],
      "execution_count": 3,
      "outputs": [
        {
          "output_type": "error",
          "ename": "FileExistsError",
          "evalue": "ignored",
          "traceback": [
            "\u001b[0;31m---------------------------------------------------------------------------\u001b[0m",
            "\u001b[0;31mFileExistsError\u001b[0m                           Traceback (most recent call last)",
            "\u001b[0;32m<ipython-input-3-93e2a461bef1>\u001b[0m in \u001b[0;36m<module>\u001b[0;34m()\u001b[0m\n\u001b[1;32m      1\u001b[0m \u001b[0;32mimport\u001b[0m \u001b[0mos\u001b[0m\u001b[0;34m\u001b[0m\u001b[0;34m\u001b[0m\u001b[0m\n\u001b[0;32m----> 2\u001b[0;31m \u001b[0mos\u001b[0m\u001b[0;34m.\u001b[0m\u001b[0mmkdir\u001b[0m\u001b[0;34m(\u001b[0m\u001b[0;34m'saved_images'\u001b[0m\u001b[0;34m)\u001b[0m\u001b[0;34m\u001b[0m\u001b[0;34m\u001b[0m\u001b[0m\n\u001b[0m",
            "\u001b[0;31mFileExistsError\u001b[0m: [Errno 17] File exists: 'saved_images'"
          ]
        }
      ]
    },
    {
      "cell_type": "code",
      "metadata": {
        "colab": {
          "base_uri": "https://localhost:8080/",
          "height": 888
        },
        "id": "G8k5d5ehHuIq",
        "outputId": "ad48021b-100d-4106-a7e3-401b4f1f9714"
      },
      "source": [
        "!zip -r /content/file.zip /content/saved_images\n",
        "from google.colab import files\n",
        "files.download(\"/content/file.zip\")"
      ],
      "execution_count": 4,
      "outputs": [
        {
          "output_type": "stream",
          "text": [
            "  adding: content/saved_images/ (stored 0%)\n",
            "  adding: content/saved_images/38.png (stored 0%)\n",
            "  adding: content/saved_images/85.png (stored 0%)\n",
            "  adding: content/saved_images/72.png (stored 0%)\n",
            "  adding: content/saved_images/66.png (stored 0%)\n",
            "  adding: content/saved_images/99.png (stored 0%)\n",
            "  adding: content/saved_images/79.png (stored 0%)\n",
            "  adding: content/saved_images/68.png (stored 0%)\n",
            "  adding: content/saved_images/18.png (stored 0%)\n",
            "  adding: content/saved_images/86.png (stored 0%)\n",
            "  adding: content/saved_images/70.png (stored 0%)\n",
            "  adding: content/saved_images/7.png (stored 0%)\n",
            "  adding: content/saved_images/98.png (stored 0%)\n",
            "  adding: content/saved_images/81.png (stored 0%)\n",
            "  adding: content/saved_images/80.png (stored 0%)\n",
            "  adding: content/saved_images/89.png (stored 0%)\n",
            "  adding: content/saved_images/95.png (stored 0%)\n",
            "  adding: content/saved_images/65.png (stored 0%)\n",
            "  adding: content/saved_images/87.png (stored 0%)\n",
            "  adding: content/saved_images/36.png (stored 0%)\n",
            "  adding: content/saved_images/61.png (stored 0%)\n",
            "  adding: content/saved_images/97.png (stored 0%)\n",
            "  adding: content/saved_images/84.png (stored 0%)\n",
            "  adding: content/saved_images/8.png (stored 0%)\n",
            "  adding: content/saved_images/90.png (stored 0%)\n",
            "  adding: content/saved_images/78.png (stored 0%)\n",
            "  adding: content/saved_images/64.png (stored 0%)\n",
            "  adding: content/saved_images/69.png (stored 0%)\n",
            "  adding: content/saved_images/77.png (stored 0%)\n",
            "  adding: content/saved_images/73.png (stored 0%)\n",
            "  adding: content/saved_images/71.png (stored 0%)\n",
            "  adding: content/saved_images/75.png (stored 0%)\n",
            "  adding: content/saved_images/94.png (stored 0%)\n",
            "  adding: content/saved_images/6.png (stored 0%)\n",
            "  adding: content/saved_images/83.png (stored 0%)\n",
            "  adding: content/saved_images/88.png (stored 0%)\n",
            "  adding: content/saved_images/74.png (stored 0%)\n",
            "  adding: content/saved_images/96.png (stored 0%)\n",
            "  adding: content/saved_images/9.png (stored 0%)\n",
            "  adding: content/saved_images/76.png (stored 0%)\n",
            "  adding: content/saved_images/59.png (stored 0%)\n",
            "  adding: content/saved_images/63.png (stored 0%)\n",
            "  adding: content/saved_images/93.png (stored 0%)\n",
            "  adding: content/saved_images/92.png (stored 0%)\n",
            "  adding: content/saved_images/62.png (stored 0%)\n",
            "  adding: content/saved_images/82.png (stored 0%)\n",
            "  adding: content/saved_images/21.png (stored 0%)\n",
            "  adding: content/saved_images/60.png (stored 0%)\n",
            "  adding: content/saved_images/91.png (stored 0%)\n"
          ],
          "name": "stdout"
        },
        {
          "output_type": "display_data",
          "data": {
            "application/javascript": [
              "\n",
              "    async function download(id, filename, size) {\n",
              "      if (!google.colab.kernel.accessAllowed) {\n",
              "        return;\n",
              "      }\n",
              "      const div = document.createElement('div');\n",
              "      const label = document.createElement('label');\n",
              "      label.textContent = `Downloading \"${filename}\": `;\n",
              "      div.appendChild(label);\n",
              "      const progress = document.createElement('progress');\n",
              "      progress.max = size;\n",
              "      div.appendChild(progress);\n",
              "      document.body.appendChild(div);\n",
              "\n",
              "      const buffers = [];\n",
              "      let downloaded = 0;\n",
              "\n",
              "      const channel = await google.colab.kernel.comms.open(id);\n",
              "      // Send a message to notify the kernel that we're ready.\n",
              "      channel.send({})\n",
              "\n",
              "      for await (const message of channel.messages) {\n",
              "        // Send a message to notify the kernel that we're ready.\n",
              "        channel.send({})\n",
              "        if (message.buffers) {\n",
              "          for (const buffer of message.buffers) {\n",
              "            buffers.push(buffer);\n",
              "            downloaded += buffer.byteLength;\n",
              "            progress.value = downloaded;\n",
              "          }\n",
              "        }\n",
              "      }\n",
              "      const blob = new Blob(buffers, {type: 'application/binary'});\n",
              "      const a = document.createElement('a');\n",
              "      a.href = window.URL.createObjectURL(blob);\n",
              "      a.download = filename;\n",
              "      div.appendChild(a);\n",
              "      a.click();\n",
              "      div.remove();\n",
              "    }\n",
              "  "
            ],
            "text/plain": [
              "<IPython.core.display.Javascript object>"
            ]
          },
          "metadata": {
            "tags": []
          }
        },
        {
          "output_type": "display_data",
          "data": {
            "application/javascript": [
              "download(\"download_e177d0ac-bb3a-423d-bf01-a6908602b237\", \"file.zip\", 856136)"
            ],
            "text/plain": [
              "<IPython.core.display.Javascript object>"
            ]
          },
          "metadata": {
            "tags": []
          }
        }
      ]
    },
    {
      "cell_type": "code",
      "metadata": {
        "id": "5uGkpNLTIDiY"
      },
      "source": [
        ""
      ],
      "execution_count": null,
      "outputs": []
    }
  ]
}